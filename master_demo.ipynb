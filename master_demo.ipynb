{
 "cells": [
  {
   "cell_type": "markdown",
   "metadata": {},
   "source": [
    "<link rel=\"preconnect\" href=\"https://fonts.googleapis.com\">\n",
    "<link rel=\"preconnect\" href=\"https://fonts.gstatic.com\" crossorigin>\n",
    "<link href=\"https://fonts.googleapis.com/css2?family=Sixtyfour+Convergence&display=swap\" rel=\"stylesheet\">\n",
    "<link rel=\"preconnect\" href=\"https://fonts.googleapis.com\">\n",
    "<link rel=\"preconnect\" href=\"https://fonts.gstatic.com\" crossorigin>\n",
    "<link href=\"https://fonts.googleapis.com/css2?family=Edu+AU+VIC+WA+NT+Guides:wght@400..700&family=Sixtyfour+Convergence&display=swap\" rel=\"stylesheet\">"
   ]
  },
  {
   "cell_type": "markdown",
   "metadata": {},
   "source": [
    "<center> <img src = \"https://media.discordapp.net/attachments/1291928830650351697/1292522388730155058/IMG_4705.png?ex=67040ac7&is=6702b947&hm=352e0e394ffeca08d1b25567c658cb98c7c00c91917b86e907bfe87850ede209&=&format=webp&quality=lossless&width=1056&height=1056\"  width = \"50px\"/>\n",
    "<h1 style = \"font-family: Edu AU VIC WA NT Guides;\"> WELCOME TO OUR PROJECT \n",
    "</h1> \n",
    "</center>\n",
    "<br/>\n",
    "<center style=\"color: #eb3455; font-family: Sixtyfour Convergence; font-size: 2em;\">NASA SPACE UP 2024 - EigenSpace <br/> Seismic Detection Across the Solar System\n",
    "\n",
    "\n",
    "</center>"
   ]
  },
  {
   "cell_type": "markdown",
   "metadata": {},
   "source": [
    "<center> \n",
    "<p style = \"margin: 25px 50px; font-size: 1em\"> 👋 Hello! We are team EigenSpace from Hamilton! We are excited to share our project that was created over the pass ~ 2 days (1 day and a half ish). We learned a lot throughout the process We are excited to share our project that was created over the pass ~ 2 days (1 day and a half ish). We learned a lot throughout the process We are excited to share our project that was created over the pass ~ 2 days (1 day and a half ish). We learned a lot throughout the process We are excited to share our project that was created over the pass ~ 2 days (1 day and a half ish). We learned a lot throughout the process We are excited to share our project that was created over the pass ~ 2 days (1 day and a half ish). We learned a lot throughout the process We are excited to share our project that was created over the pass ~ 2 days (1 day and a half ish). We learned a lot throughout the process\n",
    "</P>\n",
    "</center>\n",
    "\n",
    "<center> \n",
    "<p style = \"margin: 25px 50px;\">\n",
    "</center> \n",
    "\n"
   ]
  },
  {
   "cell_type": "markdown",
   "metadata": {},
   "source": [
    "---\n",
    "LET'S GET STARTED!\n",
    "---"
   ]
  },
  {
   "cell_type": "markdown",
   "metadata": {},
   "source": [
    "# Exploring Lunar Data"
   ]
  },
  {
   "cell_type": "markdown",
   "metadata": {},
   "source": [
    " We first use ```high-pass-filter``` to clean the data to get rid of unncessary noisy signal. You can play around with the filtered data below! It is fully interactive! "
   ]
  },
  {
   "cell_type": "code",
   "execution_count": 76,
   "metadata": {},
   "outputs": [],
   "source": [
    "import pandas as pd\n",
    "import numpy as np\n",
    "import matplotlib.pyplot as plt\n",
    "import seaborn as sns\n",
    "from datetime import datetime, timedelta\n",
    "import os"
   ]
  },
  {
   "cell_type": "code",
   "execution_count": 77,
   "metadata": {},
   "outputs": [],
   "source": [
    "df = pd.read_csv('./xa.s12.00.mhz.1971-05-12HR00_evid00031.csv')"
   ]
  },
  {
   "cell_type": "code",
   "execution_count": 78,
   "metadata": {},
   "outputs": [],
   "source": [
    "import obspy\n",
    "cat_file = 'apollo12_catalog_GradeA_final.csv'\n",
    "cat = pd.read_csv(cat_file)\n"
   ]
  },
  {
   "cell_type": "code",
   "execution_count": 79,
   "metadata": {},
   "outputs": [
    {
     "data": {
      "text/html": [
       "<script type=\"esms-options\">{\"shimMode\": true}</script><style>*[data-root-id],\n",
       "*[data-root-id] > * {\n",
       "  box-sizing: border-box;\n",
       "  font-family: var(--jp-ui-font-family);\n",
       "  font-size: var(--jp-ui-font-size1);\n",
       "  color: var(--vscode-editor-foreground, var(--jp-ui-font-color1));\n",
       "}\n",
       "\n",
       "/* Override VSCode background color */\n",
       ".cell-output-ipywidget-background:has(\n",
       "    > .cell-output-ipywidget-background > .lm-Widget > *[data-root-id]\n",
       "  ),\n",
       ".cell-output-ipywidget-background:has(> .lm-Widget > *[data-root-id]) {\n",
       "  background-color: transparent !important;\n",
       "}\n",
       "</style>"
      ]
     },
     "metadata": {},
     "output_type": "display_data"
    },
    {
     "data": {
      "application/javascript": "(function(root) {\n  function now() {\n    return new Date();\n  }\n\n  const force = true;\n  const py_version = '3.6.0'.replace('rc', '-rc.').replace('.dev', '-dev.');\n  const reloading = false;\n  const Bokeh = root.Bokeh;\n\n  // Set a timeout for this load but only if we are not already initializing\n  if (typeof (root._bokeh_timeout) === \"undefined\" || (force || !root._bokeh_is_initializing)) {\n    root._bokeh_timeout = Date.now() + 5000;\n    root._bokeh_failed_load = false;\n  }\n\n  function run_callbacks() {\n    try {\n      root._bokeh_onload_callbacks.forEach(function(callback) {\n        if (callback != null)\n          callback();\n      });\n    } finally {\n      delete root._bokeh_onload_callbacks;\n    }\n    console.debug(\"Bokeh: all callbacks have finished\");\n  }\n\n  function load_libs(css_urls, js_urls, js_modules, js_exports, callback) {\n    if (css_urls == null) css_urls = [];\n    if (js_urls == null) js_urls = [];\n    if (js_modules == null) js_modules = [];\n    if (js_exports == null) js_exports = {};\n\n    root._bokeh_onload_callbacks.push(callback);\n\n    if (root._bokeh_is_loading > 0) {\n      // Don't load bokeh if it is still initializing\n      console.debug(\"Bokeh: BokehJS is being loaded, scheduling callback at\", now());\n      return null;\n    } else if (js_urls.length === 0 && js_modules.length === 0 && Object.keys(js_exports).length === 0) {\n      // There is nothing to load\n      run_callbacks();\n      return null;\n    }\n\n    function on_load() {\n      root._bokeh_is_loading--;\n      if (root._bokeh_is_loading === 0) {\n        console.debug(\"Bokeh: all BokehJS libraries/stylesheets loaded\");\n        run_callbacks()\n      }\n    }\n    window._bokeh_on_load = on_load\n\n    function on_error(e) {\n      const src_el = e.srcElement\n      console.error(\"failed to load \" + (src_el.href || src_el.src));\n    }\n\n    const skip = [];\n    if (window.requirejs) {\n      window.requirejs.config({'packages': {}, 'paths': {}, 'shim': {}});\n      root._bokeh_is_loading = css_urls.length + 0;\n    } else {\n      root._bokeh_is_loading = css_urls.length + js_urls.length + js_modules.length + Object.keys(js_exports).length;\n    }\n\n    const existing_stylesheets = []\n    const links = document.getElementsByTagName('link')\n    for (let i = 0; i < links.length; i++) {\n      const link = links[i]\n      if (link.href != null) {\n        existing_stylesheets.push(link.href)\n      }\n    }\n    for (let i = 0; i < css_urls.length; i++) {\n      const url = css_urls[i];\n      const escaped = encodeURI(url)\n      if (existing_stylesheets.indexOf(escaped) !== -1) {\n        on_load()\n        continue;\n      }\n      const element = document.createElement(\"link\");\n      element.onload = on_load;\n      element.onerror = on_error;\n      element.rel = \"stylesheet\";\n      element.type = \"text/css\";\n      element.href = url;\n      console.debug(\"Bokeh: injecting link tag for BokehJS stylesheet: \", url);\n      document.body.appendChild(element);\n    }    var existing_scripts = []\n    const scripts = document.getElementsByTagName('script')\n    for (let i = 0; i < scripts.length; i++) {\n      var script = scripts[i]\n      if (script.src != null) {\n        existing_scripts.push(script.src)\n      }\n    }\n    for (let i = 0; i < js_urls.length; i++) {\n      const url = js_urls[i];\n      const escaped = encodeURI(url)\n      if (skip.indexOf(escaped) !== -1 || existing_scripts.indexOf(escaped) !== -1) {\n        if (!window.requirejs) {\n          on_load();\n        }\n        continue;\n      }\n      const element = document.createElement('script');\n      element.onload = on_load;\n      element.onerror = on_error;\n      element.async = false;\n      element.src = url;\n      console.debug(\"Bokeh: injecting script tag for BokehJS library: \", url);\n      document.head.appendChild(element);\n    }\n    for (let i = 0; i < js_modules.length; i++) {\n      const url = js_modules[i];\n      const escaped = encodeURI(url)\n      if (skip.indexOf(escaped) !== -1 || existing_scripts.indexOf(escaped) !== -1) {\n        if (!window.requirejs) {\n          on_load();\n        }\n        continue;\n      }\n      var element = document.createElement('script');\n      element.onload = on_load;\n      element.onerror = on_error;\n      element.async = false;\n      element.src = url;\n      element.type = \"module\";\n      console.debug(\"Bokeh: injecting script tag for BokehJS library: \", url);\n      document.head.appendChild(element);\n    }\n    for (const name in js_exports) {\n      const url = js_exports[name];\n      const escaped = encodeURI(url)\n      if (skip.indexOf(escaped) >= 0 || root[name] != null) {\n        if (!window.requirejs) {\n          on_load();\n        }\n        continue;\n      }\n      var element = document.createElement('script');\n      element.onerror = on_error;\n      element.async = false;\n      element.type = \"module\";\n      console.debug(\"Bokeh: injecting script tag for BokehJS library: \", url);\n      element.textContent = `\n      import ${name} from \"${url}\"\n      window.${name} = ${name}\n      window._bokeh_on_load()\n      `\n      document.head.appendChild(element);\n    }\n    if (!js_urls.length && !js_modules.length) {\n      on_load()\n    }\n  };\n\n  function inject_raw_css(css) {\n    const element = document.createElement(\"style\");\n    element.appendChild(document.createTextNode(css));\n    document.body.appendChild(element);\n  }\n\n  const js_urls = [\"https://cdn.holoviz.org/panel/1.5.2/dist/bundled/reactiveesm/es-module-shims@^1.10.0/dist/es-module-shims.min.js\", \"https://cdn.bokeh.org/bokeh/release/bokeh-3.6.0.min.js\", \"https://cdn.bokeh.org/bokeh/release/bokeh-gl-3.6.0.min.js\", \"https://cdn.bokeh.org/bokeh/release/bokeh-widgets-3.6.0.min.js\", \"https://cdn.bokeh.org/bokeh/release/bokeh-tables-3.6.0.min.js\", \"https://cdn.holoviz.org/panel/1.5.2/dist/panel.min.js\"];\n  const js_modules = [];\n  const js_exports = {};\n  const css_urls = [];\n  const inline_js = [    function(Bokeh) {\n      Bokeh.set_log_level(\"info\");\n    },\nfunction(Bokeh) {} // ensure no trailing comma for IE\n  ];\n\n  function run_inline_js() {\n    if ((root.Bokeh !== undefined) || (force === true)) {\n      for (let i = 0; i < inline_js.length; i++) {\n        try {\n          inline_js[i].call(root, root.Bokeh);\n        } catch(e) {\n          if (!reloading) {\n            throw e;\n          }\n        }\n      }\n      // Cache old bokeh versions\n      if (Bokeh != undefined && !reloading) {\n        var NewBokeh = root.Bokeh;\n        if (Bokeh.versions === undefined) {\n          Bokeh.versions = new Map();\n        }\n        if (NewBokeh.version !== Bokeh.version) {\n          Bokeh.versions.set(NewBokeh.version, NewBokeh)\n        }\n        root.Bokeh = Bokeh;\n      }\n    } else if (Date.now() < root._bokeh_timeout) {\n      setTimeout(run_inline_js, 100);\n    } else if (!root._bokeh_failed_load) {\n      console.log(\"Bokeh: BokehJS failed to load within specified timeout.\");\n      root._bokeh_failed_load = true;\n    }\n    root._bokeh_is_initializing = false\n  }\n\n  function load_or_wait() {\n    // Implement a backoff loop that tries to ensure we do not load multiple\n    // versions of Bokeh and its dependencies at the same time.\n    // In recent versions we use the root._bokeh_is_initializing flag\n    // to determine whether there is an ongoing attempt to initialize\n    // bokeh, however for backward compatibility we also try to ensure\n    // that we do not start loading a newer (Panel>=1.0 and Bokeh>3) version\n    // before older versions are fully initialized.\n    if (root._bokeh_is_initializing && Date.now() > root._bokeh_timeout) {\n      // If the timeout and bokeh was not successfully loaded we reset\n      // everything and try loading again\n      root._bokeh_timeout = Date.now() + 5000;\n      root._bokeh_is_initializing = false;\n      root._bokeh_onload_callbacks = undefined;\n      root._bokeh_is_loading = 0\n      console.log(\"Bokeh: BokehJS was loaded multiple times but one version failed to initialize.\");\n      load_or_wait();\n    } else if (root._bokeh_is_initializing || (typeof root._bokeh_is_initializing === \"undefined\" && root._bokeh_onload_callbacks !== undefined)) {\n      setTimeout(load_or_wait, 100);\n    } else {\n      root._bokeh_is_initializing = true\n      root._bokeh_onload_callbacks = []\n      const bokeh_loaded = root.Bokeh != null && (root.Bokeh.version === py_version || (root.Bokeh.versions !== undefined && root.Bokeh.versions.has(py_version)));\n      if (!reloading && !bokeh_loaded) {\n        if (root.Bokeh) {\n          root.Bokeh = undefined;\n        }\n        console.debug(\"Bokeh: BokehJS not loaded, scheduling load and callback at\", now());\n      }\n      load_libs(css_urls, js_urls, js_modules, js_exports, function() {\n        console.debug(\"Bokeh: BokehJS plotting callback run at\", now());\n        run_inline_js();\n      });\n    }\n  }\n  // Give older versions of the autoload script a head-start to ensure\n  // they initialize before we start loading newer version.\n  setTimeout(load_or_wait, 100)\n}(window));",
      "application/vnd.holoviews_load.v0+json": ""
     },
     "metadata": {},
     "output_type": "display_data"
    },
    {
     "data": {
      "application/javascript": "\nif ((window.PyViz === undefined) || (window.PyViz instanceof HTMLElement)) {\n  window.PyViz = {comms: {}, comm_status:{}, kernels:{}, receivers: {}, plot_index: []}\n}\n\n\n    function JupyterCommManager() {\n    }\n\n    JupyterCommManager.prototype.register_target = function(plot_id, comm_id, msg_handler) {\n      if (window.comm_manager || ((window.Jupyter !== undefined) && (Jupyter.notebook.kernel != null))) {\n        var comm_manager = window.comm_manager || Jupyter.notebook.kernel.comm_manager;\n        comm_manager.register_target(comm_id, function(comm) {\n          comm.on_msg(msg_handler);\n        });\n      } else if ((plot_id in window.PyViz.kernels) && (window.PyViz.kernels[plot_id])) {\n        window.PyViz.kernels[plot_id].registerCommTarget(comm_id, function(comm) {\n          comm.onMsg = msg_handler;\n        });\n      } else if (typeof google != 'undefined' && google.colab.kernel != null) {\n        google.colab.kernel.comms.registerTarget(comm_id, (comm) => {\n          var messages = comm.messages[Symbol.asyncIterator]();\n          function processIteratorResult(result) {\n            var message = result.value;\n            console.log(message)\n            var content = {data: message.data, comm_id};\n            var buffers = []\n            for (var buffer of message.buffers || []) {\n              buffers.push(new DataView(buffer))\n            }\n            var metadata = message.metadata || {};\n            var msg = {content, buffers, metadata}\n            msg_handler(msg);\n            return messages.next().then(processIteratorResult);\n          }\n          return messages.next().then(processIteratorResult);\n        })\n      }\n    }\n\n    JupyterCommManager.prototype.get_client_comm = function(plot_id, comm_id, msg_handler) {\n      if (comm_id in window.PyViz.comms) {\n        return window.PyViz.comms[comm_id];\n      } else if (window.comm_manager || ((window.Jupyter !== undefined) && (Jupyter.notebook.kernel != null))) {\n        var comm_manager = window.comm_manager || Jupyter.notebook.kernel.comm_manager;\n        var comm = comm_manager.new_comm(comm_id, {}, {}, {}, comm_id);\n        if (msg_handler) {\n          comm.on_msg(msg_handler);\n        }\n      } else if ((plot_id in window.PyViz.kernels) && (window.PyViz.kernels[plot_id])) {\n        var comm = window.PyViz.kernels[plot_id].connectToComm(comm_id);\n        comm.open();\n        if (msg_handler) {\n          comm.onMsg = msg_handler;\n        }\n      } else if (typeof google != 'undefined' && google.colab.kernel != null) {\n        var comm_promise = google.colab.kernel.comms.open(comm_id)\n        comm_promise.then((comm) => {\n          window.PyViz.comms[comm_id] = comm;\n          if (msg_handler) {\n            var messages = comm.messages[Symbol.asyncIterator]();\n            function processIteratorResult(result) {\n              var message = result.value;\n              var content = {data: message.data};\n              var metadata = message.metadata || {comm_id};\n              var msg = {content, metadata}\n              msg_handler(msg);\n              return messages.next().then(processIteratorResult);\n            }\n            return messages.next().then(processIteratorResult);\n          }\n        }) \n        var sendClosure = (data, metadata, buffers, disposeOnDone) => {\n          return comm_promise.then((comm) => {\n            comm.send(data, metadata, buffers, disposeOnDone);\n          });\n        };\n        var comm = {\n          send: sendClosure\n        };\n      }\n      window.PyViz.comms[comm_id] = comm;\n      return comm;\n    }\n    window.PyViz.comm_manager = new JupyterCommManager();\n    \n\n\nvar JS_MIME_TYPE = 'application/javascript';\nvar HTML_MIME_TYPE = 'text/html';\nvar EXEC_MIME_TYPE = 'application/vnd.holoviews_exec.v0+json';\nvar CLASS_NAME = 'output';\n\n/**\n * Render data to the DOM node\n */\nfunction render(props, node) {\n  var div = document.createElement(\"div\");\n  var script = document.createElement(\"script\");\n  node.appendChild(div);\n  node.appendChild(script);\n}\n\n/**\n * Handle when a new output is added\n */\nfunction handle_add_output(event, handle) {\n  var output_area = handle.output_area;\n  var output = handle.output;\n  if ((output.data == undefined) || (!output.data.hasOwnProperty(EXEC_MIME_TYPE))) {\n    return\n  }\n  var id = output.metadata[EXEC_MIME_TYPE][\"id\"];\n  var toinsert = output_area.element.find(\".\" + CLASS_NAME.split(' ')[0]);\n  if (id !== undefined) {\n    var nchildren = toinsert.length;\n    var html_node = toinsert[nchildren-1].children[0];\n    html_node.innerHTML = output.data[HTML_MIME_TYPE];\n    var scripts = [];\n    var nodelist = html_node.querySelectorAll(\"script\");\n    for (var i in nodelist) {\n      if (nodelist.hasOwnProperty(i)) {\n        scripts.push(nodelist[i])\n      }\n    }\n\n    scripts.forEach( function (oldScript) {\n      var newScript = document.createElement(\"script\");\n      var attrs = [];\n      var nodemap = oldScript.attributes;\n      for (var j in nodemap) {\n        if (nodemap.hasOwnProperty(j)) {\n          attrs.push(nodemap[j])\n        }\n      }\n      attrs.forEach(function(attr) { newScript.setAttribute(attr.name, attr.value) });\n      newScript.appendChild(document.createTextNode(oldScript.innerHTML));\n      oldScript.parentNode.replaceChild(newScript, oldScript);\n    });\n    if (JS_MIME_TYPE in output.data) {\n      toinsert[nchildren-1].children[1].textContent = output.data[JS_MIME_TYPE];\n    }\n    output_area._hv_plot_id = id;\n    if ((window.Bokeh !== undefined) && (id in Bokeh.index)) {\n      window.PyViz.plot_index[id] = Bokeh.index[id];\n    } else {\n      window.PyViz.plot_index[id] = null;\n    }\n  } else if (output.metadata[EXEC_MIME_TYPE][\"server_id\"] !== undefined) {\n    var bk_div = document.createElement(\"div\");\n    bk_div.innerHTML = output.data[HTML_MIME_TYPE];\n    var script_attrs = bk_div.children[0].attributes;\n    for (var i = 0; i < script_attrs.length; i++) {\n      toinsert[toinsert.length - 1].childNodes[1].setAttribute(script_attrs[i].name, script_attrs[i].value);\n    }\n    // store reference to server id on output_area\n    output_area._bokeh_server_id = output.metadata[EXEC_MIME_TYPE][\"server_id\"];\n  }\n}\n\n/**\n * Handle when an output is cleared or removed\n */\nfunction handle_clear_output(event, handle) {\n  var id = handle.cell.output_area._hv_plot_id;\n  var server_id = handle.cell.output_area._bokeh_server_id;\n  if (((id === undefined) || !(id in PyViz.plot_index)) && (server_id !== undefined)) { return; }\n  var comm = window.PyViz.comm_manager.get_client_comm(\"hv-extension-comm\", \"hv-extension-comm\", function () {});\n  if (server_id !== null) {\n    comm.send({event_type: 'server_delete', 'id': server_id});\n    return;\n  } else if (comm !== null) {\n    comm.send({event_type: 'delete', 'id': id});\n  }\n  delete PyViz.plot_index[id];\n  if ((window.Bokeh !== undefined) & (id in window.Bokeh.index)) {\n    var doc = window.Bokeh.index[id].model.document\n    doc.clear();\n    const i = window.Bokeh.documents.indexOf(doc);\n    if (i > -1) {\n      window.Bokeh.documents.splice(i, 1);\n    }\n  }\n}\n\n/**\n * Handle kernel restart event\n */\nfunction handle_kernel_cleanup(event, handle) {\n  delete PyViz.comms[\"hv-extension-comm\"];\n  window.PyViz.plot_index = {}\n}\n\n/**\n * Handle update_display_data messages\n */\nfunction handle_update_output(event, handle) {\n  handle_clear_output(event, {cell: {output_area: handle.output_area}})\n  handle_add_output(event, handle)\n}\n\nfunction register_renderer(events, OutputArea) {\n  function append_mime(data, metadata, element) {\n    // create a DOM node to render to\n    var toinsert = this.create_output_subarea(\n    metadata,\n    CLASS_NAME,\n    EXEC_MIME_TYPE\n    );\n    this.keyboard_manager.register_events(toinsert);\n    // Render to node\n    var props = {data: data, metadata: metadata[EXEC_MIME_TYPE]};\n    render(props, toinsert[0]);\n    element.append(toinsert);\n    return toinsert\n  }\n\n  events.on('output_added.OutputArea', handle_add_output);\n  events.on('output_updated.OutputArea', handle_update_output);\n  events.on('clear_output.CodeCell', handle_clear_output);\n  events.on('delete.Cell', handle_clear_output);\n  events.on('kernel_ready.Kernel', handle_kernel_cleanup);\n\n  OutputArea.prototype.register_mime_type(EXEC_MIME_TYPE, append_mime, {\n    safe: true,\n    index: 0\n  });\n}\n\nif (window.Jupyter !== undefined) {\n  try {\n    var events = require('base/js/events');\n    var OutputArea = require('notebook/js/outputarea').OutputArea;\n    if (OutputArea.prototype.mime_types().indexOf(EXEC_MIME_TYPE) == -1) {\n      register_renderer(events, OutputArea);\n    }\n  } catch(err) {\n  }\n}\n",
      "application/vnd.holoviews_load.v0+json": ""
     },
     "metadata": {},
     "output_type": "display_data"
    },
    {
     "data": {
      "application/vnd.holoviews_exec.v0+json": "",
      "text/html": [
       "<div id='p1110'>\n",
       "  <div id=\"b8d155e4-b66e-4a34-9d93-61425eb3cecd\" data-root-id=\"p1110\" style=\"display: contents;\"></div>\n",
       "</div>\n",
       "<script type=\"application/javascript\">(function(root) {\n",
       "  var docs_json = {\"ad54bfec-2129-486b-9aaf-609614cc9871\":{\"version\":\"3.6.0\",\"title\":\"Bokeh Application\",\"roots\":[{\"type\":\"object\",\"name\":\"panel.models.browser.BrowserInfo\",\"id\":\"p1110\"},{\"type\":\"object\",\"name\":\"panel.models.comm_manager.CommManager\",\"id\":\"p1111\",\"attributes\":{\"plot_id\":\"p1110\",\"comm_id\":\"ea65e7c4bffa4287a3ce436726332e3d\",\"client_comm_id\":\"b80f4f0f2a584ca780abc6af7dea2db0\"}}],\"defs\":[{\"type\":\"model\",\"name\":\"ReactiveHTML1\"},{\"type\":\"model\",\"name\":\"FlexBox1\",\"properties\":[{\"name\":\"align_content\",\"kind\":\"Any\",\"default\":\"flex-start\"},{\"name\":\"align_items\",\"kind\":\"Any\",\"default\":\"flex-start\"},{\"name\":\"flex_direction\",\"kind\":\"Any\",\"default\":\"row\"},{\"name\":\"flex_wrap\",\"kind\":\"Any\",\"default\":\"wrap\"},{\"name\":\"gap\",\"kind\":\"Any\",\"default\":\"\"},{\"name\":\"justify_content\",\"kind\":\"Any\",\"default\":\"flex-start\"}]},{\"type\":\"model\",\"name\":\"FloatPanel1\",\"properties\":[{\"name\":\"config\",\"kind\":\"Any\",\"default\":{\"type\":\"map\"}},{\"name\":\"contained\",\"kind\":\"Any\",\"default\":true},{\"name\":\"position\",\"kind\":\"Any\",\"default\":\"right-top\"},{\"name\":\"offsetx\",\"kind\":\"Any\",\"default\":null},{\"name\":\"offsety\",\"kind\":\"Any\",\"default\":null},{\"name\":\"theme\",\"kind\":\"Any\",\"default\":\"primary\"},{\"name\":\"status\",\"kind\":\"Any\",\"default\":\"normalized\"}]},{\"type\":\"model\",\"name\":\"GridStack1\",\"properties\":[{\"name\":\"mode\",\"kind\":\"Any\",\"default\":\"warn\"},{\"name\":\"ncols\",\"kind\":\"Any\",\"default\":null},{\"name\":\"nrows\",\"kind\":\"Any\",\"default\":null},{\"name\":\"allow_resize\",\"kind\":\"Any\",\"default\":true},{\"name\":\"allow_drag\",\"kind\":\"Any\",\"default\":true},{\"name\":\"state\",\"kind\":\"Any\",\"default\":[]}]},{\"type\":\"model\",\"name\":\"drag1\",\"properties\":[{\"name\":\"slider_width\",\"kind\":\"Any\",\"default\":5},{\"name\":\"slider_color\",\"kind\":\"Any\",\"default\":\"black\"},{\"name\":\"value\",\"kind\":\"Any\",\"default\":50}]},{\"type\":\"model\",\"name\":\"click1\",\"properties\":[{\"name\":\"terminal_output\",\"kind\":\"Any\",\"default\":\"\"},{\"name\":\"debug_name\",\"kind\":\"Any\",\"default\":\"\"},{\"name\":\"clears\",\"kind\":\"Any\",\"default\":0}]},{\"type\":\"model\",\"name\":\"FastWrapper1\",\"properties\":[{\"name\":\"object\",\"kind\":\"Any\",\"default\":null},{\"name\":\"style\",\"kind\":\"Any\",\"default\":null}]},{\"type\":\"model\",\"name\":\"NotificationAreaBase1\",\"properties\":[{\"name\":\"js_events\",\"kind\":\"Any\",\"default\":{\"type\":\"map\"}},{\"name\":\"position\",\"kind\":\"Any\",\"default\":\"bottom-right\"},{\"name\":\"_clear\",\"kind\":\"Any\",\"default\":0}]},{\"type\":\"model\",\"name\":\"NotificationArea1\",\"properties\":[{\"name\":\"js_events\",\"kind\":\"Any\",\"default\":{\"type\":\"map\"}},{\"name\":\"notifications\",\"kind\":\"Any\",\"default\":[]},{\"name\":\"position\",\"kind\":\"Any\",\"default\":\"bottom-right\"},{\"name\":\"_clear\",\"kind\":\"Any\",\"default\":0},{\"name\":\"types\",\"kind\":\"Any\",\"default\":[{\"type\":\"map\",\"entries\":[[\"type\",\"warning\"],[\"background\",\"#ffc107\"],[\"icon\",{\"type\":\"map\",\"entries\":[[\"className\",\"fas fa-exclamation-triangle\"],[\"tagName\",\"i\"],[\"color\",\"white\"]]}]]},{\"type\":\"map\",\"entries\":[[\"type\",\"info\"],[\"background\",\"#007bff\"],[\"icon\",{\"type\":\"map\",\"entries\":[[\"className\",\"fas fa-info-circle\"],[\"tagName\",\"i\"],[\"color\",\"white\"]]}]]}]}]},{\"type\":\"model\",\"name\":\"Notification\",\"properties\":[{\"name\":\"background\",\"kind\":\"Any\",\"default\":null},{\"name\":\"duration\",\"kind\":\"Any\",\"default\":3000},{\"name\":\"icon\",\"kind\":\"Any\",\"default\":null},{\"name\":\"message\",\"kind\":\"Any\",\"default\":\"\"},{\"name\":\"notification_type\",\"kind\":\"Any\",\"default\":null},{\"name\":\"_destroyed\",\"kind\":\"Any\",\"default\":false}]},{\"type\":\"model\",\"name\":\"TemplateActions1\",\"properties\":[{\"name\":\"open_modal\",\"kind\":\"Any\",\"default\":0},{\"name\":\"close_modal\",\"kind\":\"Any\",\"default\":0}]},{\"type\":\"model\",\"name\":\"BootstrapTemplateActions1\",\"properties\":[{\"name\":\"open_modal\",\"kind\":\"Any\",\"default\":0},{\"name\":\"close_modal\",\"kind\":\"Any\",\"default\":0}]},{\"type\":\"model\",\"name\":\"TemplateEditor1\",\"properties\":[{\"name\":\"layout\",\"kind\":\"Any\",\"default\":[]}]},{\"type\":\"model\",\"name\":\"MaterialTemplateActions1\",\"properties\":[{\"name\":\"open_modal\",\"kind\":\"Any\",\"default\":0},{\"name\":\"close_modal\",\"kind\":\"Any\",\"default\":0}]},{\"type\":\"model\",\"name\":\"ReactiveESM1\"},{\"type\":\"model\",\"name\":\"JSComponent1\"},{\"type\":\"model\",\"name\":\"ReactComponent1\"},{\"type\":\"model\",\"name\":\"AnyWidgetComponent1\"},{\"type\":\"model\",\"name\":\"request_value1\",\"properties\":[{\"name\":\"fill\",\"kind\":\"Any\",\"default\":\"none\"},{\"name\":\"_synced\",\"kind\":\"Any\",\"default\":null},{\"name\":\"_request_sync\",\"kind\":\"Any\",\"default\":0}]}]}};\n",
       "  var render_items = [{\"docid\":\"ad54bfec-2129-486b-9aaf-609614cc9871\",\"roots\":{\"p1110\":\"b8d155e4-b66e-4a34-9d93-61425eb3cecd\"},\"root_ids\":[\"p1110\"]}];\n",
       "  var docs = Object.values(docs_json)\n",
       "  if (!docs) {\n",
       "    return\n",
       "  }\n",
       "  const py_version = docs[0].version.replace('rc', '-rc.').replace('.dev', '-dev.')\n",
       "  async function embed_document(root) {\n",
       "    var Bokeh = get_bokeh(root)\n",
       "    await Bokeh.embed.embed_items_notebook(docs_json, render_items);\n",
       "    for (const render_item of render_items) {\n",
       "      for (const root_id of render_item.root_ids) {\n",
       "\tconst id_el = document.getElementById(root_id)\n",
       "\tif (id_el.children.length && id_el.children[0].hasAttribute('data-root-id')) {\n",
       "\t  const root_el = id_el.children[0]\n",
       "\t  root_el.id = root_el.id + '-rendered'\n",
       "\t  for (const child of root_el.children) {\n",
       "            // Ensure JupyterLab does not capture keyboard shortcuts\n",
       "            // see: https://jupyterlab.readthedocs.io/en/4.1.x/extension/notebook.html#keyboard-interaction-model\n",
       "\t    child.setAttribute('data-lm-suppress-shortcuts', 'true')\n",
       "\t  }\n",
       "\t}\n",
       "      }\n",
       "    }\n",
       "  }\n",
       "  function get_bokeh(root) {\n",
       "    if (root.Bokeh === undefined) {\n",
       "      return null\n",
       "    } else if (root.Bokeh.version !== py_version) {\n",
       "      if (root.Bokeh.versions === undefined || !root.Bokeh.versions.has(py_version)) {\n",
       "\treturn null\n",
       "      }\n",
       "      return root.Bokeh.versions.get(py_version);\n",
       "    } else if (root.Bokeh.version === py_version) {\n",
       "      return root.Bokeh\n",
       "    }\n",
       "    return null\n",
       "  }\n",
       "  function is_loaded(root) {\n",
       "    var Bokeh = get_bokeh(root)\n",
       "    return (Bokeh != null && Bokeh.Panel !== undefined)\n",
       "  }\n",
       "  if (is_loaded(root)) {\n",
       "    embed_document(root);\n",
       "  } else {\n",
       "    var attempts = 0;\n",
       "    var timer = setInterval(function(root) {\n",
       "      if (is_loaded(root)) {\n",
       "        clearInterval(timer);\n",
       "        embed_document(root);\n",
       "      } else if (document.readyState == \"complete\") {\n",
       "        attempts++;\n",
       "        if (attempts > 200) {\n",
       "          clearInterval(timer);\n",
       "\t  var Bokeh = get_bokeh(root)\n",
       "\t  if (Bokeh == null || Bokeh.Panel == null) {\n",
       "            console.warn(\"Panel: ERROR: Unable to run Panel code because Bokeh or Panel library is missing\");\n",
       "\t  } else {\n",
       "\t    console.warn(\"Panel: WARNING: Attempting to render but not all required libraries could be resolved.\")\n",
       "\t    embed_document(root)\n",
       "\t  }\n",
       "        }\n",
       "      }\n",
       "    }, 25, root)\n",
       "  }\n",
       "})(window);</script>"
      ]
     },
     "metadata": {
      "application/vnd.holoviews_exec.v0+json": {
       "id": "p1110"
      }
     },
     "output_type": "display_data"
    },
    {
     "data": {
      "text/html": [
       "\n",
       "<div class=\"logo-block\">\n",
       "<img src='data:image/png;base64,iVBORw0KGgoAAAANSUhEUgAAAEAAAABACAYAAACqaXHeAAAABHNCSVQICAgIfAhkiAAAAAlwSFlz\n",
       "AAAB+wAAAfsBxc2miwAAABl0RVh0U29mdHdhcmUAd3d3Lmlua3NjYXBlLm9yZ5vuPBoAAA6zSURB\n",
       "VHic7ZtpeFRVmsf/5966taWqUlUJ2UioBBJiIBAwCZtog9IOgjqACsogKtqirT2ttt069nQ/zDzt\n",
       "tI4+CrJIREFaFgWhBXpUNhHZQoKBkIUASchWla1S+3ar7r1nPkDaCAnZKoQP/D7mnPOe9/xy76n3\n",
       "nFSAW9ziFoPFNED2LLK5wcyBDObkb8ZkxuaoSYlI6ZcOKq1eWFdedqNzGHQBk9RMEwFAASkk0Xw3\n",
       "ETacDNi2vtvc7L0ROdw0AjoSotQVkKSvHQz/wRO1lScGModBFbDMaNRN1A4tUBCS3lk7BWhQkgpD\n",
       "lG4852/+7DWr1R3uHAZVQDsbh6ZPN7CyxUrCzJMRouusj0ipRwD2uKm0Zn5d2dFwzX1TCGhnmdGo\n",
       "G62Nna+isiUqhkzuKrkQaJlPEv5mFl2fvGg2t/VnzkEV8F5ioioOEWkLG86fvbpthynjdhXYZziQ\n",
       "x1hC9J2NFyi8vCTt91Fh04KGip0AaG9zuCk2wQCVyoNU3Hjezee9bq92duzzTmxsRJoy+jEZZZYo\n",
       "GTKJ6SJngdJqAfRzpze0+jHreUtPc7gpBLQnIYK6BYp/uGhw9YK688eu7v95ysgshcg9qSLMo3JC\n",
       "4jqLKQFBgdKDPoQ+Pltb8dUyQLpeDjeVgI6EgLIQFT5tEl3rn2losHVsexbZ3EyT9wE1uGdkIPcy\n",
       "BGxn8QUq1QrA5nqW5i2tLqvrrM9NK6AdkVIvL9E9bZL/oyfMVd/jqvc8LylzRBKDJSzIExwhQzuL\n",
       "QYGQj4rHfFTc8mUdu3E7yoLtbTe9gI4EqVgVkug2i5+uXGo919ixbRog+3fTbQ8qJe4ZOYNfMoTI\n",
       "OoshUNosgO60AisX15aeI2PSIp5KiFLI9ubb1vV3Qb2ltwLakUCDAkWX7/nHKRmmGIl9VgYsUhJm\n",
       "2NXjKYADtM1ygne9QQDIXlk49FBstMKx66D1v4+XuQr7vqTe0VcBHQlRWiOCbmmSYe2SqtL6q5rJ\n",
       "zsTb7lKx3FKOYC4DoqyS/B5bvLPxvD9Qtf6saxYLQGJErmDOdOMr/zo96km1nElr8bmPOBwI9COv\n",
       "HnFPRIwmkSOv9kcAS4heRsidOkpeWBgZM+UBrTFAXNYL5Vf2ii9c1trNzpYdaoVil3WIc+wdk+gQ\n",
       "noie3ecCcxt9ITcLAPWt/laGEO/9U6PmzZkenTtsSMQ8uYywJVW+grCstAvCIaAdArAsIWkRDDs/\n",
       "KzLm2YcjY1Lv0UdW73HabE9n6V66cxSzfEmuJssTpKGVp+0vHq73FwL46eOjpMpbRAnNmJFrGJNu\n",
       "Ukf9Yrz+3rghiumCKNXXWPhLYcjxGsIpoCMsIRoFITkW8AuyM8jC1+/QLx4bozCEJIq38+1rtpR6\n",
       "V/yzb8eBlRb3fo5l783N0CWolAzJHaVNzkrTzlEp2bQ2q3TC5gn6wpnoQAmwSiGh2GitnTmVMc5O\n",
       "UyfKWUKCIsU7+fZDKwqdT6DDpvkzAX4/+AMFjk0tDp5GRXLpQ2MUmhgDp5gxQT8+Y7hyPsMi8uxF\n",
       "71H0oebujHALECjFKaW9Lm68n18wXp2kVzIcABytD5iXFzg+WVXkegpAsOOYziqo0OkK76GyquC3\n",
       "ltZAzMhhqlSNmmWTE5T6e3IN05ITFLM4GdN0vtZ3ob8Jh1NAKXFbm5PtLU/eqTSlGjkNAJjdgn/N\n",
       "aedXa0tdi7+t9G0FIF49rtMSEgAs1kDLkTPO7ebm4IUWeyh1bKomXqlgMG6kJmHcSM0clYLJ8XtR\n",
       "1GTnbV3F6I5wCGikAb402npp1h1s7LQUZZSMIfALFOuL3UUrfnS8+rez7v9qcold5tilgHbO1fjK\n",
       "9ubb17u9oshxzMiUBKXWqJNxd+fqb0tLVs4lILFnK71H0Ind7uiPgACVcFJlrb0tV6DzxqqTIhUM\n",
       "CwDf1/rrVhTa33/3pGPxJYdQ2l2cbgVcQSosdx8uqnDtbGjh9SlDVSMNWhlnilfqZk42Th2ZpLpf\n",
       "xrHec5e815zrr0dfBZSwzkZfqsv+1FS1KUknUwPARVvItfKUY+cn57yP7qv07UE3p8B2uhUwLk09\n",
       "e0SCOrK+hbdYHYLjRIl71wWzv9jpEoeOHhGRrJAzyEyNiJuUqX0g2sBN5kGK6y2Blp5M3lsB9Qh4\n",
       "y2Ja6x6+i0ucmKgwMATwhSjdUu49tKrQ/pvN5d53ml2CGwCmJipmKjgmyuaXzNeL2a0AkQ01Th5j\n",
       "2DktO3Jyk8f9vcOBQHV94OK+fPumJmvQHxJoWkaKWq9Vs+yUsbq0zGT1I4RgeH2b5wef7+c7bl8F\n",
       "eKgoHVVZa8ZPEORzR6sT1BzDUAD/d9F78e2Tzv99v8D+fLVTqAKAsbGamKey1Mt9Ann4eH3gTXTz\n",
       "idWtAJ8PQWOk7NzSeQn/OTHDuEikVF1R4z8BQCy+6D1aWRfY0tTGG2OM8rRoPaeIj5ZHzJxszElN\n",
       "VM8K8JS5WOfv8mzRnQAKoEhmt8gyPM4lU9SmBK1MCQBnW4KONT86v1hZ1PbwSXPw4JWussVjtH9Y\n",
       "NCoiL9UoH/6PSu8jFrfY2t36erQHXLIEakMi1SydmzB31h3GGXFDFNPaK8Rme9B79Ixrd0WN+1ij\n",
       "NRQ/doRmuFLBkHSTOm5GruG+pFjFdAmorG4IXH1Qua6ASniclfFtDYt+oUjKipPrCQB7QBQ2lrgP\n",
       "fFzm+9XWUtcqJ3/5vDLDpJ79XHZk3u8nGZ42qlj1+ydtbxysCezrydp6ugmipNJ7WBPB5tydY0jP\n",
       "HaVNzs3QzeE4ZpTbI+ZbnSFPbVOw9vsfnVvqWnirPyCNGD08IlqtYkh2hjZ5dErEQzoNm+6ykyOt\n",
       "Lt5/PQEuSRRKo22VkydK+vvS1XEKlhCJAnsqvcVvH7f/ZU2R67eXbMEGAMiIV5oWZWiWvz5Fv2xG\n",
       "sjqNJQRvn3Rs2lji/lNP19VjAQDgD7FHhujZB9OGqYxRkZxixgRDVlqS6uEOFaJUVu0rPFzctrnF\n",
       "JqijImVp8dEKVWyUXDk92zAuMZ6bFwpBU1HrOw6AdhQgUooChb0+ItMbWJitSo5Ws3IAOGEOtL53\n",
       "0vHZih9sC4vtofZ7Qu6523V/fmGcds1TY3V36pUsBwAbSlxnVh2xLfAD/IAIMDf7XYIkNmXfpp2l\n",
       "18rkAJAy9HKFaIr/qULkeQQKy9zf1JgDB2uaeFNGijo5QsUyacNUUTOnGO42xSnv4oOwpDi1zYkc\n",
       "efUc3I5Gk6PhyTuVKaOGyLUAYPGIoY9Pu/atL/L92+4q9wbflRJ2Trpm/jPjdBtfnqB/dIThcl8A\n",
       "KG7hbRuKnb8qsQsVvVlTrwQAQMUlf3kwJI24Z4JhPMtcfng5GcH49GsrxJpGvvHIaeem2ma+KSjQ\n",
       "lIwUdYyCY8j4dE1KzijNnIP2llF2wcXNnsoapw9XxsgYAl6k+KzUXbi2yP3KR2ecf6z3BFsBICdW\n",
       "nvnIaG3eHybqX7vbpEqUMT+9OL4Qpe8VON7dXuFd39v19FoAABRVePbGGuXTszO0P7tu6lghUonE\n",
       "llRdrhArLvmKdh9u29jcFiRRkfLUxBiFNiqSU9icoZQHo5mYBI1MBgBH6wMNb+U7Pnw337H4gi1Y\n",
       "ciWs+uks3Z9fztUvfzxTm9Ne8XXkvQLHNytOOZeiD4e0PgkAIAYCYknKUNUDSXEKzdWNpnil7r4p\n",
       "xqkjTarZMtk/K8TQ6Qve78qqvXurGwIJqcOUKfUWHsm8KGvxSP68YudXq4pcj39X49uOK2X142O0\n",
       "Tz5/u/7TVybqH0rSya6ZBwD21/gubbrgWdDgEOx9WUhfBaC2ibcEBYm7a7x+ukrBMNcEZggyR0TE\n",
       "T8zUPjikQ4VosQZbTpS4vqizBKvqmvjsqnpfzaZyx9JPiz1/bfGKdgD45XB1zoIMzYbfTdS/NClB\n",
       "Gct0USiY3YL/g0LHy/uq/Ef6uo5+n0R/vyhp17Klpge763f8rMu6YU/zrn2nml+2WtH+Z+5IAAFc\n",
       "2bUTdTDOSNa9+cQY7YLsOIXhevEkCvzph7a8laecz/Un/z4/Ae04XeL3UQb57IwU9ZDr9UuKVajv\n",
       "nxp1+1UVIo/LjztZkKH59fO3G/JemqCfmaCRqbqbd90ZZ8FfjtkfAyD0J/9+C2h1hDwsSxvGjNDc\n",
       "b4zk5NfrSwiQblLHzZhg+Jf4aPlUwpDqkQqa9nimbt1/TDH8OitGMaQnj+RJS6B1fbF7SY1TqO5v\n",
       "/v0WAADl1f7zokgS7s7VT2DZ7pegUjBM7mjtiDZbcN4j0YrHH0rXpCtY0qPX0cVL0rv5jv/ZXend\n",
       "0u/EESYBAFBU4T4Qa5TflZOhTe7pmKpaP8kCVUVw1+yhXfJWvn1P3hnXi33JsTN6PnP3hHZ8Z3/h\n",
       "aLHzmkNPuPj7Bc/F/Q38CwjTpSwQXgE4Vmwry9tpfq/ZFgqFMy4AVDtCvi8rvMvOmv0N4YwbVgEA\n",
       "sPM72/KVnzfspmH7HQGCRLG2yL1+z8XwvPcdCbsAANh+xPzstgMtxeGKt+6MK3/tacfvwhWvIwMi\n",
       "oKEBtm0H7W+UVfkc/Y1V0BhoPlDr/w1w/eu1vjIgAgDg22OtX6/eYfnEz/focrZTHAFR+PSs56/7\n",
       "q32nwpjazxgwAQCwcU/T62t3WL7r6/jVRa6/byp1rei+Z98ZUAEAhEPHPc8fKnTU9nbgtnOe8h0l\n",
       "9hcGIqmODLQAHCy2Xti6v/XNRivf43f4fFvIteu854+VHnR7q9tfBlwAAGz+pnndB9vM26UebAe8\n",
       "SLHujPOTPVW+rwY+sxskAAC2HrA8t2Vvc7ffP1r9o+vwR2dcr92InIAbKKC1FZ5tB1tf+/G8p8sv\n",
       "N/9Q5zd/XR34LYCwV5JdccMEAMDBk45DH243r/X4xGvqxFa/GNpS7n6rwOwNWwHVE26oAADYurf1\n",
       "zx/utOzt+DMKYM0p17YtZZ5VNzqfsB2HewG1WXE8PoZ7gOclbTIvynZf9JV+fqZtfgs/8F/Nu5rB\n",
       "EIBmJ+8QRMmpU7EzGRsf2FzuePqYRbzh/zE26EwdrT10f6r6o8HOYzCJB9Dpff8tbnGLG8L/A/WE\n",
       "roTBs2RqAAAAAElFTkSuQmCC'\n",
       "     style='height:25px; border-radius:12px; display: inline-block; float: left; vertical-align: middle'></img>\n",
       "\n",
       "\n",
       "  <img src='data:image/png;base64,iVBORw0KGgoAAAANSUhEUgAAACMAAAAjCAYAAAAe2bNZAAAABHNCSVQICAgIfAhkiAAAAAlwSFlzAAAK6wAACusBgosNWgAAABx0RVh0U29mdHdhcmUAQWRvYmUgRmlyZXdvcmtzIENTNui8sowAAAf9SURBVFiFvZh7cFTVHcc/59y7793sJiFAwkvAYDRqFWwdraLVlj61diRYsDjqCFbFKrYo0CltlSq1tLaC2GprGIriGwqjFu10OlrGv8RiK/IICYECSWBDkt3s695zTv9IAtlHeOn0O7Mzu797z+/3Ob/z+p0VfBq9doNFljuABwAXw2PcvGHt6bgwxhz7Ls4YZNVXxxANLENwE2D1W9PAGmAhszZ0/X9gll5yCbHoOirLzmaQs0F6F8QMZq1v/8xgNm7DYwwjgXJLYL4witQ16+sv/U9HdDmV4WrKw6B06cZC/RMrM4MZ7xz61DAbtzEXmAvUAX4pMOVecg9/MFFu3j3Gz7gQBLygS2RGumBkL0cubiFRsR3LzVBV1UMk3IrW73PT9C2lYOwhQB4ClhX1AuKpjLcV27oEjyUpNUJCg1CvcejykWTCXyQgzic2HIIBjg3pS6+uRLKAhumZvD4U+tq0jTrgkVKQQtLekfTtxIPAkhTNF6G7kZm7aPp6M9myKVQEoaYaIhEQYvD781DML/RfBGNZXAl4irJiwBa07e/y7cQnBaJghIX6ENl2GR/fGCBoz6cm5qeyEqQA5ZYA5x5eeiV0Qph4gjFAUSwAr6QllQgcxS/Jm25Cr2Tmpsk03XI9NfI31FTZBEOgVOk51adqDBNPCNPSRlkiDXbBEwOU2WxH+I7itQZ62g56OjM33suq1YsZHVtGZSUI2QdyYgkgOthQNIF7BIGDnRAJgJSgj69cUx1gB8PkOGwL4E1gPrM27gIg7NlGKLQApc7BmEnAxP5g/rw4YqBrCDB5xHkw5rdR/1qTrN/hKNo6YUwVDNpFsnjYS8RbidBPcPXFP6R6yfExuOXmN4A3jv1+8ZUwgY9D2OWjUZE6lO88jDwHI8ZixGiMKSeYTBamCoDk6kDAb6y1OcH1a6KpD/fZesoFw5FlIXAVCIiH4PxrV+p2npVDToTBmtjY8t1swh2V61E9KqWiyuPEjM8dbfxuvfa49Zayf9R136Wr8mBSf/T7bNteA8zwaGEUbFpckWwq95n59dUIywKl2fbOIS5e8bWSu0tJ1a5redAYfqkdjesodFajcgaVNWhXo1C9SrkN3Usmv3UMJrc6/DDwkwEntkEJLe67tSLhvyzK8rHDQWleve5CGk4VZEB1r+5bg2E2si+Y0QatDK6jUVkX5eg2YYlp++ZM+rfMNYamAj8Y7MAVWFqaR1f/t2xzU4IHjybBtthzuiAASqv7jTF7jOqDMAakFHgDNsFyP+FhwZHBmH9F7cutIYkQCylYYv1AZSqsn1/+bX51OMMjPSl2nAnM7hnjOx2v53YgNWAzHM9Q/9l0lQWPSCBSyokAtOBC1Rj+w/1Xs+STDp4/E5g7Rs2zm2+oeVd7PUuHKDf6A4r5EsPT5K3gfCnBXNUYnvGzb+KcCczYYWOnLpy4eOXuG2oec0PBN8XQQAnpvS35AvAykr56rWhPBiV4MvtceGLxk5Mr6A1O8IfK7rl7xJ0r9kyumuP4fa0lMqTBLJIAJqEf1J3qE92lMBndlyfRD2YBghHC4hlny7ASqCeWo5zaoDdIWfnIefNGTb9fC73QDfhyBUCNOxrGPSUBfPem9us253YTV+3mcBbdkUYfzmHiLqZbYdIGHHON2ZlemXouaJUOO6TqtdHEQuXYY8Yt+EbDgmlS6RdzkaDTv2P9A3gICiq93sWhb5mc5wVhuU3Y7m5hOc3So7qFT3SLgOXHb/cyOfMn7xROegoC/PTcn3v8gbKPgDopJFk3R/uBPWQiwQ+2/GJevRMObLUzqe/saJjQUQTTftEVMW9tWxPgAocwcj9abNcZe7s+6t2R2xXZG7zyYLp8Q1PiRBBHym5bYuXi8Qt+/LvGu9f/5YDAxABsaRNPH6Xr4D4Sk87a897SOy9v/fKwjoF2eQel95yDESGEF6gEMwKhLwKus3wOVjTtes7qzgLdXTMnNCNoEpbcrtNuq6N7Xh/+eqcbj94xQkp7mdKpW5XbtbR8Z26kgMCAf2UU5YEovRUVRHbu2b3vK1UdDFkDCyMRQxbpdv8nhKAGIa7QaQedzT07fFPny53R738JoVYBdVrnsNx9XZ9v33UeGO+AA2MMUkgqQ5UcdDLZSFeVgONnXeHqSAC5Ew1BXwko0D1Zct3dT1duOjS3MzZnEUJtBuoQAq3SGOLR4ekjn9NC5nVOaYXf9lETrUkmOJy3pOz8OKIb2A1cWhJCCEzOxU2mUPror+2/L3yyM3pkM7jTjr1nBOgkGeyQ7erxpdJsMAS9wb2F9rzMxNY1K2PMU0WtZV82VU8Wp6vbKJVo9Lx/+4cydORdxCCQ/kDGTZCWsRpLu7VD7bfKqL8V2orKTp/PtzaXy42jr6TwAuisi+7JolUG4wY+8vyrISCMtRrLKWpvjAOqx/QGhp0rjRo5xD3x98CWQuOQN8qumRMmI7jKZPUEpzNVZsj4Zbaq1to5tZZsKIydLWojhIXrJnES79EaOzv3du2NytKuxzJKAA6wF8xqEE8s2jo/1wd/khslQGxd81Zg62Bbp31XBH+iETt7Y3ELA0iU6iGDlQ5mexe0VEx4a3x8V1AaYwFJgTiwaOsDmeK2J8nMUOqsnB1A+dcA04ucCYt0urkjmflk9iT2v30q/gZn5rQPvor4n9Ou634PeBzoznes/iot/7WnClKoM/+zCIjH5kwT8ChQjTHPIPTjFV3PpU/Hx+DM/A9U3IXI4SPCYAAAAABJRU5ErkJggg=='\n",
       "       style='height:15px; border-radius:12px; display: inline-block; float: left'></img>\n",
       "  \n",
       "\n",
       "\n",
       "\n",
       "\n",
       "</div>\n"
      ]
     },
     "metadata": {},
     "output_type": "display_data"
    }
   ],
   "source": [
    "# Import libraries\n",
    "import numpy as np\n",
    "import pandas as pd\n",
    "from obspy import read\n",
    "import holoviews as hv\n",
    "import panel as pn\n",
    "hv.extension('bokeh')\n",
    "from datetime import datetime, timedelta\n",
    "import matplotlib.pyplot as plt\n",
    "import os"
   ]
  },
  {
   "cell_type": "code",
   "execution_count": 80,
   "metadata": {},
   "outputs": [],
   "source": [
    "cat_file = 'apollo12_catalog_GradeA_final.csv'\n",
    "cat = pd.read_csv(cat_file)"
   ]
  },
  {
   "cell_type": "code",
   "execution_count": 81,
   "metadata": {},
   "outputs": [
    {
     "data": {
      "text/plain": [
       "'xa.s12.00.mhz.1970-06-26HR00_evid00009'"
      ]
     },
     "execution_count": 81,
     "metadata": {},
     "output_type": "execute_result"
    }
   ],
   "source": [
    "row = cat.iloc[6]\n",
    "arrival_time = datetime.strptime(row['time_abs(%Y-%m-%dT%H:%M:%S.%f)'],'%Y-%m-%dT%H:%M:%S.%f')\n",
    "# If we want the value of relative time, we don't need to use datetime\n",
    "arrival_time_rel = row['time_rel(sec)']\n",
    "# Let's also get the name of the file\n",
    "test_filename = row.filename\n",
    "test_filename"
   ]
  },
  {
   "cell_type": "code",
   "execution_count": 82,
   "metadata": {},
   "outputs": [],
   "source": [
    "data_directory = './data/lunar/training/data/S12_GradeA/'\n",
    "mseed_file = f'{test_filename}.mseed'\n",
    "st = read(mseed_file)\n"
   ]
  },
  {
   "cell_type": "code",
   "execution_count": 83,
   "metadata": {},
   "outputs": [],
   "source": [
    "FILE = 'xa.s12.00.mhz.1973-01-31HR00_evid00091'\n",
    "FILE_PATH = '/content/partitioned_data/mseed/' + FILE + '.mseed'\n",
    "ROW_NUM = cat[cat['filename'] == FILE].index[0]"
   ]
  },
  {
   "cell_type": "code",
   "execution_count": 84,
   "metadata": {},
   "outputs": [],
   "source": [
    "# This is how you get the data and the time, which is in seconds\n",
    "tr = st.traces[0].copy()\n",
    "tr_times = tr.times()\n",
    "tr_data = tr.data\n",
    "\n",
    "# Start time of trace (another way to get the relative arrival time using datetime)\n",
    "starttime = tr.stats.starttime.datetime\n",
    "arrival = (arrival_time - starttime).total_seconds()"
   ]
  },
  {
   "cell_type": "code",
   "execution_count": 85,
   "metadata": {},
   "outputs": [],
   "source": [
    "import numpy as np\n",
    "from obspy import Stream, Trace, UTCDateTime\n",
    "from scipy import signal\n",
    "import matplotlib.pyplot as plt\n",
    "\n",
    "def highpass_ft_data(st):\n",
    "  # Assuming st is a Stream object with one Trace\n",
    "  # Access the first Trace object and extract its data as a NumPy array\n",
    "  trace = st[0]  # Access the first Trace in the Stream\n",
    "  st_data = trace.data  # Extract the data from the Trace (this is a NumPy array)\n",
    "\n",
    "  # Now st_data contains the seismic data and you can process it\n",
    "  t = np.linspace(0, 1000, len(st_data))  # Time array based on the length of the data\n",
    "\n",
    "  # Design a high-pass Butterworth filter\n",
    "  fs = trace.stats.sampling_rate  # Use the sampling rate from the Trace stats\n",
    "  cutoff = 1  # Cutoff frequency (choose based on seismic data characteristics)\n",
    "  order = 4  # Order of the filter\n",
    "\n",
    "  # Create the filter\n",
    "  sos = signal.butter(order, cutoff, 'hp', fs=fs, output='sos')\n",
    "\n",
    "  # Apply the filter to the data\n",
    "  filtered_data = signal.sosfilt(sos, st_data)\n",
    "\n",
    "  # Create a new Trace for the filtered data\n",
    "  filtered_trace = Trace()\n",
    "  filtered_trace.data = filtered_data\n",
    "  filtered_trace.stats = trace.stats  # Copy the stats from the original Trace\n",
    "  filtered_trace.stats.network = \"FILTERED\"  # Change network code if necessary\n",
    "  filtered_trace.stats.station = \"FILTERED\"  # Change station code if necessary\n",
    "  filtered_trace.stats.location = \"FILTERED\"  # Change location code if necessary\n",
    "  filtered_trace.stats.channel = \"FILTERED\"  # Change channel code if necessary\n",
    "  filtered_trace.stats.starttime = trace.stats.starttime  # Use original start time\n",
    "\n",
    "  # Create a new Stream object\n",
    "  filtered_stream = Stream(traces=[filtered_trace])\n",
    "\n",
    "  # Save the filtered Stream as a MiniSEED file\n",
    "  filtered_stream.write(\"filtered_data.mseed\", format='MSEED')\n",
    "  return filtered_stream\n"
   ]
  },
  {
   "cell_type": "code",
   "execution_count": 86,
   "metadata": {},
   "outputs": [
    {
     "name": "stdout",
     "output_type": "stream",
     "text": [
      "tr_times_filt type: <class 'numpy.ndarray'>, shape: (572423,)\n",
      "tr_data_filt type: <class 'numpy.ndarray'>, shape: (572423,)\n"
     ]
    },
    {
     "data": {
      "application/vnd.jupyter.widget-view+json": {
       "model_id": "52ae1bf3397b4a3a88aebf8b676fa765",
       "version_major": 2,
       "version_minor": 0
      },
      "text/plain": [
       "BokehModel(combine_events=True, render_bundle={'docs_json': {'a04eb24e-868a-4d22-a1ba-6d1217c72b11': {'version…"
      ]
     },
     "execution_count": 86,
     "metadata": {},
     "output_type": "execute_result"
    }
   ],
   "source": [
    "# Interactive plot\n",
    "# Assuming filtered_stream is the Stream object returned from highpass_ft_data\n",
    "filtered_stream = highpass_ft_data(st)\n",
    "tr_filt = filtered_stream.traces[0].copy()\n",
    "tr_times_filt = tr_filt.times()\n",
    "tr_data_filt = tr_filt.data\n",
    "\n",
    "# Create a time array (tr_times) with the same length as the filtered_data\n",
    "# Assuming trace.stats.starttime and sampling_rate are available\n",
    "start_time = tr_filt.stats.starttime.timestamp\n",
    "sampling_rate = tr_filt.stats.sampling_rate\n",
    "n_samples = len(tr_filt)\n",
    "\n",
    "# Create the time array corresponding to filtered data\n",
    "tr_times_filt = np.linspace(0, len(tr_data_filt) / sampling_rate, num=len(tr_data_filt))\n",
    "\n",
    "# Check the data types and shapes of tr_times and filtered_data\n",
    "print(f\"tr_times_filt type: {type(tr_times_filt)}, shape: {tr_times.shape}\")\n",
    "print(f\"tr_data_filt type: {type(tr_data_filt)}, shape: {tr_data_filt.shape}\")\n",
    "\n",
    "# Ensure they are NumPy arrays\n",
    "tr_times_filt = np.array(tr_times_filt)\n",
    "tr_data_filt = np.array(tr_data_filt)\n",
    "\n",
    "# Map colormap names to colors\n",
    "colormap_options = {\n",
    "    'seismic': 'blue',\n",
    "    'gray': 'gray',\n",
    "    'bwr': 'red',\n",
    "}\n",
    "\n",
    "def plot_trace(tr_times_filt, tr_data_filt, cmap='seismic'):\n",
    "    # Get color from colormap options\n",
    "    color = colormap_options[cmap]\n",
    "    # Create a holoviews plot of the seismic trace\n",
    "    hv_trace = hv.Curve((tr_times_filt, tr_data_filt), 'Time (s)', 'Amplitude').opts(\n",
    "        width=900, height=400, title=\"Seismic Signal in the Time Domain\", color=color)  # Use the selected color\n",
    "\n",
    "    # Add a vertical red line at the arrival time\n",
    "    hv_arrival_line = hv.VLine(arrival).opts(color='red', line_width=2, line_dash='solid')\n",
    "\n",
    "    # Add a dummy curve to provide a legend label for the arrival time\n",
    "    hv_arrival_legend = hv.Curve([(arrival, 0), (arrival, 1e-10)], label='Rel. Arrival').opts(color='red', line_width=2)\n",
    "\n",
    "    # Overlay the trace, arrival line, and the legend entry\n",
    "    return (hv_trace * hv_arrival_line * hv_arrival_legend).opts(legend_position='top_right')\n",
    "\n",
    "# For panel layout\n",
    "cmap_select = pn.widgets.Select(name='Colormap', options=list(colormap_options.keys()))\n",
    "layout_trace = pn.bind(plot_trace, tr_times_filt=tr_times_filt, tr_data_filt=tr_data_filt, cmap=cmap_select)\n",
    "\n",
    "# Create a panel layout\n",
    "panel_layout = pn.Column(cmap_select, layout_trace)\n",
    "\n",
    "# Display the layout\n",
    "panel_layout.servable()  # Use .servable() if you're running in a Jupyter Notebook or Panel server"
   ]
  },
  {
   "cell_type": "markdown",
   "metadata": {},
   "source": [
    "# FFT MODEL\n"
   ]
  },
  {
   "cell_type": "markdown",
   "metadata": {},
   "source": [
    "Fast fourier transform is a type of wave transform that extracts the amplitudes of the wave signal at each individual frequency (amplitude-frequency). This allows for increased signal to noise ratio as instead of the seismic activity occurring on the graph as a large blob, it instead appears as a single signal corresponding to the frequency of the wave that produces the seismic event. The model looks at the graph generated by the FFT, extracts the frequency with the maximum amplitude, and then maps it back to the time that it happened on the normal frequency-time graph, which gives our prediction. Some of the weaknesses that we found with this model was its inability to distinguish between brief high amplitude noise and a seismic event; it would regularly give a wrong prediction when such an event occurred. Further work on this model includes doing some denoising and filtering out outliers in amplitude to avoid false positives.\n",
    "\n",
    "[Link to colab](https://colab.research.google.com/drive/1Qua4j0dHa5Oj8lMx8QV6qCYkr_4DXv6d?usp=sharing)\n",
    "\n",
    "\n",
    "Links to Google Drive:\n",
    "[results of train](https://drive.google.com/drive/folders/1Hu941s-kv06EDt0HSC8goQIoOtff5kaD?usp=sharing) | [results of test](https://drive.google.com/drive/folders/1xlKUpi3UEunJM4BlMTxAS91JZVo8eo3n?usp=sharing)\n",
    "\n",
    "Looking at some samples below, the first two are accurately predicted, and FFT does a really good job of denoising, while the third one falls victim to noise."
   ]
  },
  {
   "cell_type": "markdown",
   "metadata": {},
   "source": [
    "<p>This is from S12 grade A folder </p>\n",
    "<img src = \"./img_lunar/Copy of xa.s12.00.mhz.1971-09-25HR00_evid00042_fft.png\" width = \"50%\"/>\n",
    "  <figcaption>Fig.1 - xa.s12.00.mhz.1969-12-16HR00_evid00006</figcaption>\n",
    "<img src = \"./img_lunar/Copy of xa.s12.00.mhz.1972-03-12HR00_evid00052_fft.png\"  width = \"50%\"/>\n",
    "  <figcaption>Fig.2 -xa.s12.00.mhz.1970-03-14HR00_evid00018</figcaption>\n",
    "<img src = \"./img_lunar/Copy of xa.s12.00.mhz.1970-09-26HR00_evid00013_fft.png\"  width = \"50%\"/>\n",
    "  <figcaption>Fig.3 - xa.s12.00.mhz.1970-03-30HR00_evid00020</figcaption>"
   ]
  },
  {
   "cell_type": "code",
   "execution_count": 87,
   "metadata": {},
   "outputs": [],
   "source": [
    "# # prompt: using the fft plot in the previous function, find the time stamp corresponding to the largest amplitude of any frequency, and then mark it on the time domain graph\n",
    "\n",
    "# import pandas as pd\n",
    "# import numpy as np\n",
    "# import matplotlib.pyplot as plt\n",
    "# import seaborn as sns\n",
    "# from datetime import datetime, timedelta\n",
    "# import os\n",
    "# import obspy\n",
    "# from obspy import read\n",
    "# from scipy.fft import fft, fftfreq\n",
    "\n",
    "# deviations = []\n",
    "\n",
    "# def process_mseed_fft(st, filename):\n",
    "#     # ... (Your existing code for time and frequency domain plots) ...\n",
    "#     # Extract the first trace (assuming the file has multiple traces)\n",
    "#     trace = st[0]\n",
    "#     data = trace.data\n",
    "#     sampling_rate = trace.stats.sampling_rate\n",
    "\n",
    "#     # Create a time axis for the time-domain plot\n",
    "#     time = np.linspace(0, len(data) / sampling_rate, num=len(data))\n",
    "\n",
    "#     # FFT of the signal\n",
    "#     N = len(data)\n",
    "#     fft_values = fft(data)\n",
    "#     fft_frequencies = fftfreq(N, 1/sampling_rate)\n",
    "\n",
    "#      # Only plot the positive half of frequencies\n",
    "#     positive_frequencies = fft_frequencies[:N//2]\n",
    "#     positive_fft_values = np.abs(fft_values[:N//2])\n",
    "\n",
    "#     # Find the frequency with the largest amplitude\n",
    "#     max_amplitude_index = np.argmax(positive_fft_values)\n",
    "#     max_amplitude_frequency = positive_frequencies[max_amplitude_index]\n",
    "\n",
    "#     # Calculate the corresponding time stamp (assuming a sinusoidal wave)\n",
    "#     # This is a simplification and might need to be adjusted based on the signal's nature\n",
    "#     period = 1 / max_amplitude_frequency\n",
    "#     time_stamp = time[np.argmax(data)] # Assuming the peak of the time-domain signal corresponds to the max freq peak\n",
    "\n",
    "#     # mean forward deviation\n",
    "#     time_stamp -= 661;\n",
    "\n",
    "#     # Calculate the actual time stamp\n",
    "#     actual_time = cat.iloc[ROW_NUM]['time_rel(sec)']\n",
    "#     deviations.append(time_stamp - actual_time)\n",
    "\n",
    "#     # Mark the time stamp on the time domain plot\n",
    "#     plt.figure(figsize=(12, 6))\n",
    "#     plt.subplot(2, 1, 1)\n",
    "#     plt.plot(time, data, color='blue')\n",
    "#     plt.title(\"Seismic Signal in the Time Domain\")\n",
    "#     plt.xlabel(\"Time (s)\")\n",
    "#     plt.ylabel(\"Amplitude\")\n",
    "#     plt.grid(True)\n",
    "#     plt.axvline(x=time_stamp, color='purple', linestyle='solid', label=f'Predicted: {time_stamp:.2f}s')\n",
    "#     plt.axvline(x=actual_time, color='red', linestyle='solid', label=f'Actual: {actual_time:.2f}s')\n",
    "#     plt.legend()\n",
    "\n",
    "\n",
    "#     # ... (Your existing code for frequency domain plot and saving) ...\n",
    "#     # Frequency Domain Plot\n",
    "#     plt.subplot(2, 1, 2)\n",
    "#     plt.plot(positive_frequencies, positive_fft_values, color='red')\n",
    "#     plt.title(\"FFT of the Seismic Signal\")\n",
    "#     plt.xlabel(\"Frequency (Hz)\")\n",
    "#     plt.ylabel(\"Amplitude\")\n",
    "#     plt.grid(True)\n",
    "\n",
    "#     # Display the plots\n",
    "#     plt.tight_layout()\n",
    "#     #plt.show()\n",
    "\n",
    "#     # plt.savefig(output_directory + filename + '_fft.png', bbox_inches='tight')  # Save the figure\n",
    "#     # plt.close()\n",
    "\n",
    "\n",
    "# # Example usage\n",
    "# # process_mseed_fft('your_mseed_file_path_here.mseed')\n"
   ]
  },
  {
   "cell_type": "code",
   "execution_count": 88,
   "metadata": {},
   "outputs": [],
   "source": [
    "# process_mseed_fft(st, FILE)"
   ]
  },
  {
   "cell_type": "code",
   "execution_count": 89,
   "metadata": {},
   "outputs": [],
   "source": [
    "# deviations = []\n",
    "# counter = 0\n",
    "# for filename in os.listdir(data_directory):\n",
    "#     if counter == 1: \n",
    "#         break\n",
    "#     if filename.endswith('.mseed'):\n",
    "#         mseed_file = os.path.join(data_directory, filename)\n",
    "#         st = read(mseed_file)  # Read the seismic data\n",
    "#         file_no_ext = os.path.splitext(filename)[0]\n",
    "\n",
    "#         # copy paste all the code here\n",
    "#         # FILE = file_no_ext\n",
    "#         # FILE_PATH = '/content/partitioned_data/mseed/' + FILE + '.mseed'\n",
    "#         # ROW_NUM = cat[cat['filename'] == FILE].index[0]\n",
    "#         counter+=1\n",
    "#         process_mseed_fft(st, file_no_ext)"
   ]
  },
  {
   "cell_type": "markdown",
   "metadata": {},
   "source": [
    "# Our model predicts the peak of the seismic activity, we want to know how back we should go to get the start"
   ]
  },
  {
   "cell_type": "markdown",
   "metadata": {},
   "source": [
    "Because the model predicts the maximum amplitude of the seismic activity, and we require a prediction corresponding to the start of the seismic activity, we use the training data to find the mean deviation from the start, and then simply translate the prediction."
   ]
  },
  {
   "cell_type": "code",
   "execution_count": 90,
   "metadata": {},
   "outputs": [],
   "source": [
    "# # prompt: remove outliers, then negative values from deviations list and then plot the distribution\n",
    "\n",
    "# import numpy as np\n",
    "# import matplotlib.pyplot as plt\n",
    "\n",
    "# # Remove outliers (using IQR method as an example)\n",
    "# Q1 = np.percentile(deviations, 25)\n",
    "# Q3 = np.percentile(deviations, 75)\n",
    "# IQR = Q3 - Q1\n",
    "# lower_bound = Q1 - 1.5 * IQR\n",
    "# upper_bound = Q3 + 1.5 * IQR\n",
    "# deviations_no_outliers = [x for x in deviations if lower_bound <= x <= upper_bound]\n",
    "\n",
    "# # Remove negative values\n",
    "# deviations_positive = [x for x in deviations_no_outliers if x >= 0]\n",
    "\n",
    "\n",
    "# # Plot the distribution\n",
    "# plt.hist(deviations_positive, bins=20)\n",
    "# plt.xlabel(\"Deviation (seconds)\")\n",
    "# plt.ylabel(\"Frequency\")\n",
    "# plt.title(\"Distribution of Deviations (Outliers and Negative Values Removed)\")\n",
    "# # plt.show()\n"
   ]
  },
  {
   "cell_type": "markdown",
   "metadata": {},
   "source": [
    "<img src=\"./img_lunar/sd.png\" width = \"50%\"/>"
   ]
  },
  {
   "cell_type": "code",
   "execution_count": 91,
   "metadata": {},
   "outputs": [],
   "source": [
    "# # Calculate the mean of the deviations without outliers\n",
    "# mean_deviation = np.mean(deviations_no_outliers)\n",
    "\n",
    "# print(f\"The expected value of the time deviations (without outliers) is: {mean_deviation:.4f} seconds\")\n"
   ]
  },
  {
   "cell_type": "markdown",
   "metadata": {},
   "source": [
    "# Process FFT on test data, output plots"
   ]
  },
  {
   "cell_type": "code",
   "execution_count": 92,
   "metadata": {},
   "outputs": [],
   "source": [
    "# # prompt: using the fft plot in the previous function, find the time stamp corresponding to the largest amplitude of any frequency, and then mark it on the time domain graph\n",
    "\n",
    "# import pandas as pd\n",
    "# import numpy as np\n",
    "# import matplotlib.pyplot as plt\n",
    "# import seaborn as sns\n",
    "# from datetime import datetime, timedelta\n",
    "# import os\n",
    "# import obspy\n",
    "# from obspy import read\n",
    "# from scipy.fft import fft, fftfreq\n",
    "\n",
    "# def process_mseed_fft_test(st, filename):\n",
    "#     # ... (Your existing code for time and frequency domain plots) ...\n",
    "#     # Extract the first trace (assuming the file has multiple traces)\n",
    "#     trace = st[0]\n",
    "#     data = trace.data\n",
    "#     sampling_rate = trace.stats.sampling_rate\n",
    "\n",
    "#     # Create a time axis for the time-domain plot\n",
    "#     time = np.linspace(0, len(data) / sampling_rate, num=len(data))\n",
    "\n",
    "#     # FFT of the signal\n",
    "#     N = len(data)\n",
    "#     fft_values = fft(data)\n",
    "#     fft_frequencies = fftfreq(N, 1/sampling_rate)\n",
    "\n",
    "#      # Only plot the positive half of frequencies\n",
    "#     positive_frequencies = fft_frequencies[:N//2]\n",
    "#     positive_fft_values = np.abs(fft_values[:N//2])\n",
    "\n",
    "#     # Find the frequency with the largest amplitude\n",
    "#     max_amplitude_index = np.argmax(positive_fft_values)\n",
    "#     max_amplitude_frequency = positive_frequencies[max_amplitude_index]\n",
    "\n",
    "#     # Calculate the corresponding time stamp (assuming a sinusoidal wave)\n",
    "#     # This is a simplification and might need to be adjusted based on the signal's nature\n",
    "#     period = 1 / max_amplitude_frequency\n",
    "#     time_stamp = time[np.argmax(data)] # Assuming the peak of the time-domain signal corresponds to the max freq peak\n",
    "\n",
    "#     # mean forward deviation\n",
    "#     time_stamp -= 661;\n",
    "\n",
    "#     # Calculate the actual time stamp\n",
    "#     #actual_time = cat.iloc[ROW_NUM]['time_rel(sec)']\n",
    "#     #deviations.append(time_stamp - actual_time)\n",
    "\n",
    "#     # Mark the time stamp on the time domain plot\n",
    "#     plt.figure(figsize=(12, 6))\n",
    "#     plt.subplot(2, 1, 1)\n",
    "#     plt.plot(time, data, color='blue')\n",
    "#     plt.title(\"Seismic Signal in the Time Domain for \" + filename)\n",
    "#     plt.xlabel(\"Time (s)\")\n",
    "#     plt.ylabel(\"Amplitude\")\n",
    "#     plt.grid(True)\n",
    "#     plt.axvline(x=time_stamp, color='purple', linestyle='solid', label=f'Predicted: {time_stamp:.2f}s')\n",
    "#     #plt.axvline(x=actual_time, color='red', linestyle='solid', label=f'Actual: {actual_time:.2f}s')\n",
    "#     plt.legend()\n",
    "\n",
    "\n",
    "#     # ... (Your existing code for frequency domain plot and saving) ...\n",
    "#     # Frequency Domain Plot\n",
    "#     plt.subplot(2, 1, 2)\n",
    "#     plt.plot(positive_frequencies, positive_fft_values, color='red')\n",
    "#     plt.title(\"FFT of the Seismic Signal\")\n",
    "#     plt.xlabel(\"Frequency (Hz)\")\n",
    "#     plt.ylabel(\"Amplitude\")\n",
    "#     plt.grid(True)\n",
    "\n",
    "#     # Display the plots\n",
    "#     plt.tight_layout()\n",
    "#     plt.show()\n",
    "\n",
    "#     #plt.savefig(output_directory + filename + '_fft.png', bbox_inches='tight')  # Save the figure\n",
    "#     plt.close()\n"
   ]
  },
  {
   "cell_type": "code",
   "execution_count": 93,
   "metadata": {},
   "outputs": [],
   "source": [
    "# deviations = []\n",
    "# counter = 0\n",
    "# for filename in os.listdir(data_directory):\n",
    "#     counter +=1\n",
    "#     if counter == 1:\n",
    "#         break\n",
    "#     if filename.endswith('.mseed'):\n",
    "#         mseed_file = os.path.join(data_directory, filename)\n",
    "#         st = read(mseed_file)  # Read the seismic data\n",
    "#         file_no_ext = os.path.splitext(filename)[0]\n",
    "\n",
    "#         # copy paste all the code here\n",
    "#         FILE = file_no_ext\n",
    "#         FILE_PATH = '/content/partitioned_data/mseed/' + FILE + '.mseed'\n",
    "#         #ROW_NUM = cat[cat['filename'] == FILE].index[0]\n",
    "\n",
    "#         process_mseed_fft_test(st, file_no_ext)"
   ]
  },
  {
   "cell_type": "markdown",
   "metadata": {},
   "source": [
    "# Single-prediction spectrogram model with high pass filter"
   ]
  },
  {
   "cell_type": "markdown",
   "metadata": {},
   "source": [
    "High pass filter denoises the data by picking up the higher frequency signals and removes the lower frequency ones, which constitute most of the unwanted noise. The model then detects the highest power signal on the seismograph and returns the time that it occurred, which corresponds to a seismic event. This method has more success than the FFT model, due to the fact that high amplitude signals do not show up after denoising, which removes false positives. However, this model still has drawbacks due to the fact that only detecting the maximum power may not detect other clusters, which was the case when more than one seismic event occurred in one day."
   ]
  },
  {
   "cell_type": "markdown",
   "metadata": {},
   "source": [
    "[Link to the google Colab](https://drive.google.com/file/d/1X0lT7r02HtcwUCFXqAbOha1v-3GPdHxv/view?usp=sharing)\n",
    "\n",
    "Link to drive: [results of train](https://drive.google.com/drive/folders/1NER6THInAgE9yILz-NccEYHEsv31luVu?usp=sharing) \n",
    "| [results of test](https://drive.google.com/drive/folders/1yauIUeGRJW61R5GsHBaeNJsACQC3XPZC?usp=sharing)"
   ]
  },
  {
   "cell_type": "markdown",
   "metadata": {},
   "source": [
    "## Results of Single-prediction spectrogram model\n",
    "\n",
    "With the below plots, we can see the result of high-pass filtering on the spectrogram. We can see single clusters corresponding to high power output, which nicely predicts seismic activity, while avoiding noise that fft fails on."
   ]
  },
  {
   "cell_type": "markdown",
   "metadata": {},
   "source": [
    "<p>This is from S12 grade A folder </p>\n",
    "<img src = \"./img_lunar/xa.s12.00.mhz.1973-06-18HR00_evid00109.png\" width = \"50%\"/>\n",
    "  <figcaption>Fig.1 - xa.s12.00.mhz.1969-12-16HR00_evid00006</figcaption>\n",
    "<img src = \"./img_lunar/xa.s12.00.mhz.1972-01-04HR00_evid00049.png\"  width = \"50%\"/>\n",
    "  <figcaption>Fig.2 -xa.s12.00.mhz.1970-03-14HR00_evid00018</figcaption>\n",
    "<img src = \"./img_lunar/xa.s12.00.mhz.1970-10-24HR00_evid00014.png\"  width = \"50%\"/>\n",
    "  <figcaption>Fig.3 - xa.s12.00.mhz.1970-03-30HR00_evid00020</figcaption>"
   ]
  },
  {
   "cell_type": "markdown",
   "metadata": {},
   "source": [
    "# Multi-prediction spectrogram model with high pass filter"
   ]
  },
  {
   "cell_type": "markdown",
   "metadata": {},
   "source": [
    "Same as the single prediction model, but to predict multiple seismic events, we check the spectrogram for power exceeding the 99th percentile, and make note of the times that these occur. We then do interval analysis on these time stamps, to find intervals where high energy readings are clustered, and mark it as a seismic event. This allows us to predict more than one seismic event in a single day. \n",
    "\n",
    "However, this causes false positives as even with denoising, noise can cause the model to incorrectly detect intervals of seismic activity. In the below plots, the first one is a false positive detection of 2 instances of seismic activity, while the second plot correctly predicts 2 instances of seismic activity"
   ]
  },
  {
   "cell_type": "markdown",
   "metadata": {},
   "source": [
    "This is from S12_grade B test folder:\n",
    "\n",
    "\n",
    "link to drive: \n",
    "[results of train](https://drive.google.com/drive/folders/1i1v0EgJ-mevYNQZeV60nLWJZngO8Uw6Y?usp=sharing) |\n",
    "[results of test](https://drive.google.com/drive/folders/1sMdGaahWnUe1-2XlIACxvIjjjDI2Rpi5?usp=sharing)\n",
    "\n",
    "[link to collab](https://colab.research.google.com/drive/1xQPBQXhIWXZwpgyuM5Vd6bs_L14gsBTs?usp=sharing)\n",
    "\n",
    "<img src = \"./img_lunar/xa.s12.00.mhz.1972-12-02HR00_evid00083.png\" width = \"50%\"/>\n",
    "<img src = \"./img_lunar/xa.s12.00.mhz.1973-06-05HR00_evid00107.png\" width = \"50%\"/>\n",
    "<img src = \"./img_lunar/xa.s12.00.mhz.1970-03-30HR00_evid00020.png\" width = \"50%\"/>"
   ]
  },
  {
   "cell_type": "markdown",
   "metadata": {},
   "source": [
    "# We also implement an RNN model on the Lunar Data"
   ]
  },
  {
   "cell_type": "markdown",
   "metadata": {},
   "source": [
    "# We also implement an RNN-LSTM model on the Lunar Data\n",
    "We trained RNN-LSTM model to predict the segment (30 seconds interval) in which the moonquake occurs. The model processes seismic data for each trace, learning the temporal relationships between segments to determine the most likely point of the earthquake. By analyzing patterns within each trace, the LSTM predicts the index of the interval where the moonquake is expected.\n",
    "https://colab.research.google.com/drive/1w5Iw-ITRmTJXxSjr1oZ1Z01BTk18D1Lo?usp=sharing\n"
   ]
  },
  {
   "cell_type": "markdown",
   "metadata": {},
   "source": [
    "HERE IS LINK TO NOTEBOOK: <a href = \"https://colab.research.google.com/drive/1w5Iw-ITRmTJXxSjr1oZ1Z01BTk18D1Lo?usp=sharing\"> LINK TO NOTEBOOK </a>\n",
    "(can also be found on our repo or drive)"
   ]
  },
  {
   "cell_type": "code",
   "execution_count": null,
   "metadata": {},
   "outputs": [],
   "source": [
    "import pandas as pd\n",
    "import matplotlib.pyplot as plt\n",
    "import seaborn as sns\n",
    "\n",
    "# Load the CSV file (adjust the file path if needed)\n",
    "file_path = 'lunar_s16_GradeA'  # Add '.csv' if necessary\n",
    "data = pd.read_csv(file_path)\n",
    "\n",
    "# Set up the seaborn style for better aesthetics\n",
    "sns.set(style='whitegrid')\n",
    "\n",
    "# Plotting closest_interval against predicted_time\n",
    "plt.figure(figsize=(12, 8))\n",
    "scatter = plt.scatter(data['predicted_time'], data['closest_interval'], \n",
    "                      c=data['closest_interval'], cmap='viridis', s=100, alpha=0.7, edgecolor='k')\n",
    "\n",
    "# Adding color bar\n",
    "cbar = plt.colorbar(scatter)\n",
    "cbar.set_label('Closest Interval')\n",
    "\n",
    "# Titles and labels\n",
    "plt.title('Lunar Seismology: Closest Interval vs Predicted Time', fontsize=16)\n",
    "plt.xlabel('Predicted Time', fontsize=14)\n",
    "plt.ylabel('Closest Interval', fontsize=14)\n",
    "\n",
    "# Show plot\n",
    "plt.tight_layout()\n",
    "plt.show()\n",
    "\n"
   ]
  },
  {
   "cell_type": "markdown",
   "metadata": {},
   "source": [
    "# Exploring MARS Data\n",
    "PLEASE VISIT THIS LINK TO TAKE A CLOSER LOOK AT THE CLEANED DATA SIGNAL\n",
    ": <a href=\"https://colab.research.google.com/drive/1NVrXHXKNNDE1rpAlhxKB5gYXC20EHz7Z#scrollTo=7e033b67\"> LINK </a>"
   ]
  },
  {
   "cell_type": "code",
   "execution_count": null,
   "metadata": {},
   "outputs": [],
   "source": [
    "# data paths\n",
    "cat_file = './Mars_InSight_training_catalog_final.csv'\n",
    "cat = pd.read_csv(cat_file)"
   ]
  },
  {
   "cell_type": "code",
   "execution_count": null,
   "metadata": {},
   "outputs": [],
   "source": [
    "mseedfile = \"XB.ELYSE.02.BHV.M.2022.002.040000_evid0006.mseed\"\n",
    "st = read(mseed_file)"
   ]
  },
  {
   "cell_type": "code",
   "execution_count": null,
   "metadata": {},
   "outputs": [],
   "source": [
    "import holoviews as hv\n",
    "import panel as pn\n",
    "import numpy as np\n",
    "from bokeh.models import HoverTool\n",
    "\n",
    "\n",
    "\n",
    "hv.extension('bokeh')\n",
    "\n",
    "# Assuming filtered_stream is the Stream object returned from highpass_ft_data\n",
    "filtered_stream = highpass_ft_data(st)\n",
    "tr_filt = filtered_stream.traces[0].copy()\n",
    "tr_times_filt = tr_filt.times()\n",
    "tr_data_filt = tr_filt.data\n",
    "\n",
    "# Create a time array (tr_times) with the same length as the filtered_data\n",
    "sampling_rate = tr_filt.stats.sampling_rate\n",
    "\n",
    "# Create the time array corresponding to filtered data\n",
    "tr_times_filt = np.linspace(0, len(tr_data_filt) / sampling_rate, num=len(tr_data_filt))\n",
    "\n",
    "# Map colormap names to colors\n",
    "colormap_options = {\n",
    "    'seismic': 'blue',\n",
    "    'gray': 'gray',\n",
    "    'bwr': 'red',\n",
    "}\n",
    "\n",
    "# Define arrival time for the event marker\n",
    "arrival = tr_times_filt[len(tr_times_filt) // 2]  # Example arrival time (for demonstration purposes)\n",
    "\n",
    "# Create an empty stream to capture Tap events\n",
    "tap_stream = hv.streams.Tap(source=None, x=0)\n",
    "\n",
    "def plot_trace(tr_times_filt, tr_data_filt, cmap='seismic', time_zoom=0, amplitude_zoom=0):\n",
    "    # Get color from colormap options\n",
    "    color = colormap_options[cmap]\n",
    "\n",
    "    # Calculate time bounds based on zoom percentage\n",
    "    zoom_factor = 1 - time_zoom / 100\n",
    "    time_range = len(tr_times_filt)\n",
    "    time_min_idx = int((1 - zoom_factor) * time_range / 2)\n",
    "    time_max_idx = int((1 + zoom_factor) * time_range / 2)\n",
    "\n",
    "    # Ensure indices are within valid bounds\n",
    "    time_min_idx = max(0, time_min_idx)\n",
    "    time_max_idx = min(time_range - 1, time_max_idx)\n",
    "\n",
    "    # Slice time and data arrays for the zoom range\n",
    "    zoomed_times = tr_times_filt[time_min_idx:time_max_idx]\n",
    "    zoomed_data = tr_data_filt[time_min_idx:time_max_idx]\n",
    "\n",
    "    # Calculate amplitude bounds based on zoom percentage\n",
    "    amplitude_range = np.max(np.abs(tr_data_filt))\n",
    "    amplitude_min = -amplitude_range * (1 - amplitude_zoom / 100)\n",
    "    amplitude_max = amplitude_range * (1 - amplitude_zoom / 100)\n",
    "\n",
    "    # Create a holoviews plot of the seismic trace\n",
    "    hv_trace = hv.Curve((zoomed_times, zoomed_data), 'Time (s)', 'Amplitude').opts(\n",
    "        width=900, height=400, title=\"Seismic Signal in the Time Domain\", color=color, tools=['hover'],\n",
    "        ylim=(amplitude_min, amplitude_max)\n",
    "    )\n",
    "\n",
    "    # Add a vertical red line at the arrival time (if within current zoom)\n",
    "    if arrival >= zoomed_times[0] and arrival <= zoomed_times[-1]:\n",
    "        hv_arrival_line = hv.VLine(arrival).opts(color='red', line_width=2, line_dash='solid')\n",
    "        # Add a dummy curve to provide a legend label for the arrival time\n",
    "        hv_arrival_legend = hv.Curve([(arrival, 0), (arrival, 1e-10)], label='Rel. Arrival').opts(color='red', line_width=2)\n",
    "        hv_plot = (hv_trace * hv_arrival_line * hv_arrival_legend).opts(legend_position='top_right')\n",
    "    else:\n",
    "        hv_plot = hv_trace\n",
    "\n",
    "    # Set the tap stream source\n",
    "    tap_stream.source = hv_trace\n",
    "\n",
    "    return hv_plot\n",
    "\n",
    "# Function to display event details on click\n",
    "def show_event_details(x):\n",
    "    if x is None:\n",
    "        return \"Click on the plot to see event details\"\n",
    "    else:\n",
    "        time_idx = (np.abs(tr_times_filt - x)).argmin()  # Find the closest index to the clicked time\n",
    "        time = tr_times_filt[time_idx]\n",
    "        amplitude = tr_data_filt[time_idx]\n",
    "        return f\"Relative Time: {time:.2f} s, Amplitude: {amplitude:.2f}\"\n",
    "\n",
    "# Interactive widgets\n",
    "cmap_select = pn.widgets.Select(name='Colormap', options=list(colormap_options.keys()))\n",
    "time_zoom_slider = pn.widgets.FloatSlider(name='Time Zoom (%)', start=0, end=100, value=0)\n",
    "amplitude_zoom_slider = pn.widgets.FloatSlider(name='Amplitude Zoom (%)', start=0, end=100, value=0)\n",
    "\n",
    "# Bind the plot_trace function to panel layout\n",
    "layout_trace = pn.bind(plot_trace, tr_times_filt=tr_times_filt, tr_data_filt=tr_data_filt,\n",
    "                       cmap=cmap_select, time_zoom=time_zoom_slider, amplitude_zoom=amplitude_zoom_slider)\n",
    "\n",
    "# Create a panel that shows event details when clicking on the plot\n",
    "event_details_pane = pn.pane.Str(\"Click on the plot to see event details\", width=400)\n",
    "\n",
    "# Update event details on click\n",
    "def update_event_details(x):\n",
    "    event_details_pane.object = show_event_details(x)\n",
    "\n",
    "tap_stream.param.watch(lambda event: update_event_details(event.new), 'x')\n",
    "\n",
    "# Create a panel layout\n",
    "panel_layout = pn.Column(cmap_select, pn.Row(time_zoom_slider, amplitude_zoom_slider), layout_trace, event_details_pane)\n",
    "\n",
    "# Display the layout\n",
    "panel_layout.servable()  # Use .servable() if you're running in a Jupyter Notebook or Panel server"
   ]
  },
  {
   "cell_type": "markdown",
   "metadata": {},
   "source": [
    "# We also trained the RNN-LSTM model on MARS Data"
   ]
  },
  {
   "cell_type": "code",
   "execution_count": null,
   "metadata": {},
   "outputs": [],
   "source": [
    "import pandas as pd\n",
    "import matplotlib.pyplot as plt\n",
    "import seaborn as sns\n",
    "\n",
    "# Load the Mars CSV file (adjust the file path if needed)\n",
    "file_path_mars = 'mars_test'  # Add '.csv' if necessary\n",
    "mars_data = pd.read_csv(file_path_mars)\n",
    "\n",
    "# Set up the seaborn style for better aesthetics\n",
    "sns.set(style='whitegrid')\n",
    "\n",
    "# Plotting closest_interval against predicted_time for Mars data\n",
    "plt.figure(figsize=(12, 8))\n",
    "scatter = plt.scatter(mars_data['predicted_time'], mars_data['closest_interval'], \n",
    "                      c=mars_data['closest_interval'], cmap='plasma', s=100, alpha=0.7, edgecolor='k')\n",
    "\n",
    "# Adding color bar\n",
    "cbar = plt.colorbar(scatter)\n",
    "cbar.set_label('Closest Interval')\n",
    "\n",
    "# Titles and labels\n",
    "plt.title('Mars Seismology: Closest Interval vs Predicted Time', fontsize=16)\n",
    "plt.xlabel('Predicted Time', fontsize=14)\n",
    "plt.ylabel('Closest Interval', fontsize=14)\n",
    "\n",
    "# Show plot\n",
    "plt.tight_layout()\n",
    "plt.show()"
   ]
  },
  {
   "cell_type": "markdown",
   "metadata": {},
   "source": [
    "# Cluster analysis on high-pass filtered spectrogram - Mars prediction"
   ]
  },
  {
   "cell_type": "markdown",
   "metadata": {},
   "source": [
    "This method was used in the case of the mars data, due to the fact that high-pass filter denoising was not sufficient for the model to act on clear signals. Instead, we denoise and then find clusters of high power readings, and mark clusters instead on the spectrogram. We then take the highest power cluster and mark that as a prediction. A next step is to extend to generate predictions for multiple seismic events for one day.  \n",
    "\n",
    "The below is the result on the training data, the model is able to accurately detect the high energy cluster corresponding to seismic activity, and return a good estimate for the time.\n",
    "\n",
    "Link to Drive: [results of train](https://drive.google.com/drive/folders/1nr23mL8TYLy2tvcLpVyZQJw48QrHRmQb?usp=sharing) | [results of test](https://drive.google.com/drive/folders/1ouqknMvJt8ZC01OhY_b5HUFUXzLUoR5B?usp=sharing)\n",
    "\n",
    "[Link to colab](https://drive.google.com/file/d/197LfTrV9KQMn55Lx73zpBBLsojpDpsDO/view?usp=sharing)"
   ]
  },
  {
   "cell_type": "markdown",
   "metadata": {},
   "source": [
    "<p>This is from S12 grade A folder </p>\n",
    "<img src = \"./img_mars/mars1.png\" width = \"50%\"/>\n",
    "  <figcaption>Fig.1 - xa.s12.00.mhz.1969-12-16HR00_evid00006</figcaption>\n",
    "<img src = \"./img_mars/mars2.png\"  width = \"50%\"/>\n",
    "  <figcaption>Fig.2 -xa.s12.00.mhz.1970-03-14HR00_evid00018</figcaption>\n",
    "<img src = \"./img_mars/mars3.png\"  width = \"50%\"/>\n",
    "  <figcaption>Fig.3 - xa.s12.00.mhz.1970-03-30HR00_evid00020</figcaption>\n",
    "  <img src = \"./img_mars/mars4.png\"  width = \"50%\"/>\n",
    "  <figcaption>Fig.3 - xa.s12.00.mhz.1970-03-30HR00_evid00020</figcaption>"
   ]
  },
  {
   "cell_type": "markdown",
   "metadata": {},
   "source": [
    "# That's the end of our demo! For all of the models and plots, again, please visit our github + google drive!\n",
    "<center><p>Thank you so much for your attention!</p>\n",
    "<img src = \"https://a.pinatafarm.com/960x640/00a5009d4e/james-webb-space-telescope.jpeg\" width = \"50%\" /></center>"
   ]
  }
 ],
 "metadata": {
  "kernelspec": {
   "display_name": "Python 3.10.7 64-bit",
   "language": "python",
   "name": "python3"
  },
  "language_info": {
   "codemirror_mode": {
    "name": "ipython",
    "version": 3
   },
   "file_extension": ".py",
   "mimetype": "text/x-python",
   "name": "python",
   "nbconvert_exporter": "python",
   "pygments_lexer": "ipython3",
   "version": "3.10.7"
  },
  "orig_nbformat": 4,
  "vscode": {
   "interpreter": {
    "hash": "b0fa6594d8f4cbf19f97940f81e996739fb7646882a419484c72d19e05852a7e"
   }
  }
 },
 "nbformat": 4,
 "nbformat_minor": 2
}
