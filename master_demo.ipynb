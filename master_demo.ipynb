{
 "cells": [
  {
   "cell_type": "markdown",
   "metadata": {},
   "source": [
    "<link rel=\"preconnect\" href=\"https://fonts.googleapis.com\">\n",
    "<link rel=\"preconnect\" href=\"https://fonts.gstatic.com\" crossorigin>\n",
    "<link href=\"https://fonts.googleapis.com/css2?family=Sixtyfour+Convergence&display=swap\" rel=\"stylesheet\">\n",
    "<link rel=\"preconnect\" href=\"https://fonts.googleapis.com\">\n",
    "<link rel=\"preconnect\" href=\"https://fonts.gstatic.com\" crossorigin>\n",
    "<link href=\"https://fonts.googleapis.com/css2?family=Edu+AU+VIC+WA+NT+Guides:wght@400..700&family=Sixtyfour+Convergence&display=swap\" rel=\"stylesheet\">"
   ]
  },
  {
   "cell_type": "markdown",
   "metadata": {},
   "source": [
    "<center> <img src = \"https://media.discordapp.net/attachments/1291928830650351697/1292522388730155058/IMG_4705.png?ex=67040ac7&is=6702b947&hm=352e0e394ffeca08d1b25567c658cb98c7c00c91917b86e907bfe87850ede209&=&format=webp&quality=lossless&width=1056&height=1056\"  width = \"50px\"/>\n",
    "<h1 style = \"font-family: Edu AU VIC WA NT Guides;\"> WELCOME TO OUR PROJECT \n",
    "</h1> \n",
    "</center>\n",
    "<br/>\n",
    "<center style=\"color: #eb3455; font-family: Sixtyfour Convergence; font-size: 2em;\">NASA SPACE UP 2024 - EigenSpace <br/> Seismic Detection Across the Solar System\n",
    "\n",
    "\n",
    "</center>"
   ]
  },
  {
   "cell_type": "markdown",
   "metadata": {},
   "source": [
    "<center> \n",
    "<p style = \"margin: 25px 50px; font-size: 1em\"> 👋 Hello! We are team EigenSpace from Hamilton! We are excited to share our project that was created over the pass ~ 2 days (1 day and a half ish). We learned a lot throughout the process We are excited to share our project that was created over the pass ~ 2 days (1 day and a half ish). We learned a lot throughout the process We are excited to share our project that was created over the pass ~ 2 days (1 day and a half ish). We learned a lot throughout the process We are excited to share our project that was created over the pass ~ 2 days (1 day and a half ish). We learned a lot throughout the process We are excited to share our project that was created over the pass ~ 2 days (1 day and a half ish). We learned a lot throughout the process We are excited to share our project that was created over the pass ~ 2 days (1 day and a half ish). We learned a lot throughout the process\n",
    "</P>\n",
    "</center>\n",
    "\n",
    "<center> \n",
    "<p style = \"margin: 25px 50px;\">\n",
    "</center> \n",
    "\n"
   ]
  },
  {
   "cell_type": "markdown",
   "metadata": {},
   "source": [
    "---\n",
    "LET'S GET STARTED!\n",
    "---"
   ]
  },
  {
   "cell_type": "markdown",
   "metadata": {},
   "source": [
    "# Exploring Lunar Data"
   ]
  },
  {
   "cell_type": "markdown",
   "metadata": {},
   "source": [
    " We first use ```high-pass-filter``` to clean the data to get rid of unncessary noisy signal. You can play around with the filtered data below! It is fully interactive! "
   ]
  },
  {
   "cell_type": "code",
<<<<<<< HEAD
   "execution_count": 123,
=======
   "execution_count": 76,
>>>>>>> c11dbff8c0c4f7b3c31db8d9542a29286f644c51
   "metadata": {},
   "outputs": [],
   "source": [
    "import pandas as pd\n",
    "import numpy as np\n",
    "import matplotlib.pyplot as plt\n",
    "import seaborn as sns\n",
    "from datetime import datetime, timedelta\n",
    "import os"
   ]
  },
  {
   "cell_type": "code",
<<<<<<< HEAD
   "execution_count": 124,
=======
   "execution_count": 77,
>>>>>>> c11dbff8c0c4f7b3c31db8d9542a29286f644c51
   "metadata": {},
   "outputs": [],
   "source": [
    "df = pd.read_csv('./xa.s12.00.mhz.1971-05-12HR00_evid00031.csv')"
   ]
  },
  {
   "cell_type": "code",
<<<<<<< HEAD
   "execution_count": 125,
=======
   "execution_count": 78,
>>>>>>> c11dbff8c0c4f7b3c31db8d9542a29286f644c51
   "metadata": {},
   "outputs": [],
   "source": [
    "import obspy\n",
    "cat_file = 'apollo12_catalog_GradeA_final.csv'\n",
    "cat = pd.read_csv(cat_file)\n"
   ]
  },
  {
   "cell_type": "code",
<<<<<<< HEAD
   "execution_count": 126,
=======
   "execution_count": 79,
>>>>>>> c11dbff8c0c4f7b3c31db8d9542a29286f644c51
   "metadata": {},
   "outputs": [
    {
     "data": {
      "text/html": [
       "<script type=\"esms-options\">{\"shimMode\": true}</script><style>*[data-root-id],\n",
       "*[data-root-id] > * {\n",
       "  box-sizing: border-box;\n",
       "  font-family: var(--jp-ui-font-family);\n",
       "  font-size: var(--jp-ui-font-size1);\n",
       "  color: var(--vscode-editor-foreground, var(--jp-ui-font-color1));\n",
       "}\n",
       "\n",
       "/* Override VSCode background color */\n",
       ".cell-output-ipywidget-background:has(\n",
       "    > .cell-output-ipywidget-background > .lm-Widget > *[data-root-id]\n",
       "  ),\n",
       ".cell-output-ipywidget-background:has(> .lm-Widget > *[data-root-id]) {\n",
       "  background-color: transparent !important;\n",
       "}\n",
       "</style>"
      ]
     },
     "metadata": {},
     "output_type": "display_data"
    },
    {
     "data": {
      "application/javascript": "(function(root) {\n  function now() {\n    return new Date();\n  }\n\n  const force = true;\n  const py_version = '3.6.0'.replace('rc', '-rc.').replace('.dev', '-dev.');\n  const reloading = false;\n  const Bokeh = root.Bokeh;\n\n  // Set a timeout for this load but only if we are not already initializing\n  if (typeof (root._bokeh_timeout) === \"undefined\" || (force || !root._bokeh_is_initializing)) {\n    root._bokeh_timeout = Date.now() + 5000;\n    root._bokeh_failed_load = false;\n  }\n\n  function run_callbacks() {\n    try {\n      root._bokeh_onload_callbacks.forEach(function(callback) {\n        if (callback != null)\n          callback();\n      });\n    } finally {\n      delete root._bokeh_onload_callbacks;\n    }\n    console.debug(\"Bokeh: all callbacks have finished\");\n  }\n\n  function load_libs(css_urls, js_urls, js_modules, js_exports, callback) {\n    if (css_urls == null) css_urls = [];\n    if (js_urls == null) js_urls = [];\n    if (js_modules == null) js_modules = [];\n    if (js_exports == null) js_exports = {};\n\n    root._bokeh_onload_callbacks.push(callback);\n\n    if (root._bokeh_is_loading > 0) {\n      // Don't load bokeh if it is still initializing\n      console.debug(\"Bokeh: BokehJS is being loaded, scheduling callback at\", now());\n      return null;\n    } else if (js_urls.length === 0 && js_modules.length === 0 && Object.keys(js_exports).length === 0) {\n      // There is nothing to load\n      run_callbacks();\n      return null;\n    }\n\n    function on_load() {\n      root._bokeh_is_loading--;\n      if (root._bokeh_is_loading === 0) {\n        console.debug(\"Bokeh: all BokehJS libraries/stylesheets loaded\");\n        run_callbacks()\n      }\n    }\n    window._bokeh_on_load = on_load\n\n    function on_error(e) {\n      const src_el = e.srcElement\n      console.error(\"failed to load \" + (src_el.href || src_el.src));\n    }\n\n    const skip = [];\n    if (window.requirejs) {\n      window.requirejs.config({'packages': {}, 'paths': {}, 'shim': {}});\n      root._bokeh_is_loading = css_urls.length + 0;\n    } else {\n      root._bokeh_is_loading = css_urls.length + js_urls.length + js_modules.length + Object.keys(js_exports).length;\n    }\n\n    const existing_stylesheets = []\n    const links = document.getElementsByTagName('link')\n    for (let i = 0; i < links.length; i++) {\n      const link = links[i]\n      if (link.href != null) {\n        existing_stylesheets.push(link.href)\n      }\n    }\n    for (let i = 0; i < css_urls.length; i++) {\n      const url = css_urls[i];\n      const escaped = encodeURI(url)\n      if (existing_stylesheets.indexOf(escaped) !== -1) {\n        on_load()\n        continue;\n      }\n      const element = document.createElement(\"link\");\n      element.onload = on_load;\n      element.onerror = on_error;\n      element.rel = \"stylesheet\";\n      element.type = \"text/css\";\n      element.href = url;\n      console.debug(\"Bokeh: injecting link tag for BokehJS stylesheet: \", url);\n      document.body.appendChild(element);\n    }    var existing_scripts = []\n    const scripts = document.getElementsByTagName('script')\n    for (let i = 0; i < scripts.length; i++) {\n      var script = scripts[i]\n      if (script.src != null) {\n        existing_scripts.push(script.src)\n      }\n    }\n    for (let i = 0; i < js_urls.length; i++) {\n      const url = js_urls[i];\n      const escaped = encodeURI(url)\n      if (skip.indexOf(escaped) !== -1 || existing_scripts.indexOf(escaped) !== -1) {\n        if (!window.requirejs) {\n          on_load();\n        }\n        continue;\n      }\n      const element = document.createElement('script');\n      element.onload = on_load;\n      element.onerror = on_error;\n      element.async = false;\n      element.src = url;\n      console.debug(\"Bokeh: injecting script tag for BokehJS library: \", url);\n      document.head.appendChild(element);\n    }\n    for (let i = 0; i < js_modules.length; i++) {\n      const url = js_modules[i];\n      const escaped = encodeURI(url)\n      if (skip.indexOf(escaped) !== -1 || existing_scripts.indexOf(escaped) !== -1) {\n        if (!window.requirejs) {\n          on_load();\n        }\n        continue;\n      }\n      var element = document.createElement('script');\n      element.onload = on_load;\n      element.onerror = on_error;\n      element.async = false;\n      element.src = url;\n      element.type = \"module\";\n      console.debug(\"Bokeh: injecting script tag for BokehJS library: \", url);\n      document.head.appendChild(element);\n    }\n    for (const name in js_exports) {\n      const url = js_exports[name];\n      const escaped = encodeURI(url)\n      if (skip.indexOf(escaped) >= 0 || root[name] != null) {\n        if (!window.requirejs) {\n          on_load();\n        }\n        continue;\n      }\n      var element = document.createElement('script');\n      element.onerror = on_error;\n      element.async = false;\n      element.type = \"module\";\n      console.debug(\"Bokeh: injecting script tag for BokehJS library: \", url);\n      element.textContent = `\n      import ${name} from \"${url}\"\n      window.${name} = ${name}\n      window._bokeh_on_load()\n      `\n      document.head.appendChild(element);\n    }\n    if (!js_urls.length && !js_modules.length) {\n      on_load()\n    }\n  };\n\n  function inject_raw_css(css) {\n    const element = document.createElement(\"style\");\n    element.appendChild(document.createTextNode(css));\n    document.body.appendChild(element);\n  }\n\n  const js_urls = [\"https://cdn.holoviz.org/panel/1.5.2/dist/bundled/reactiveesm/es-module-shims@^1.10.0/dist/es-module-shims.min.js\", \"https://cdn.bokeh.org/bokeh/release/bokeh-3.6.0.min.js\", \"https://cdn.bokeh.org/bokeh/release/bokeh-gl-3.6.0.min.js\", \"https://cdn.bokeh.org/bokeh/release/bokeh-widgets-3.6.0.min.js\", \"https://cdn.bokeh.org/bokeh/release/bokeh-tables-3.6.0.min.js\", \"https://cdn.holoviz.org/panel/1.5.2/dist/panel.min.js\"];\n  const js_modules = [];\n  const js_exports = {};\n  const css_urls = [];\n  const inline_js = [    function(Bokeh) {\n      Bokeh.set_log_level(\"info\");\n    },\nfunction(Bokeh) {} // ensure no trailing comma for IE\n  ];\n\n  function run_inline_js() {\n    if ((root.Bokeh !== undefined) || (force === true)) {\n      for (let i = 0; i < inline_js.length; i++) {\n        try {\n          inline_js[i].call(root, root.Bokeh);\n        } catch(e) {\n          if (!reloading) {\n            throw e;\n          }\n        }\n      }\n      // Cache old bokeh versions\n      if (Bokeh != undefined && !reloading) {\n        var NewBokeh = root.Bokeh;\n        if (Bokeh.versions === undefined) {\n          Bokeh.versions = new Map();\n        }\n        if (NewBokeh.version !== Bokeh.version) {\n          Bokeh.versions.set(NewBokeh.version, NewBokeh)\n        }\n        root.Bokeh = Bokeh;\n      }\n    } else if (Date.now() < root._bokeh_timeout) {\n      setTimeout(run_inline_js, 100);\n    } else if (!root._bokeh_failed_load) {\n      console.log(\"Bokeh: BokehJS failed to load within specified timeout.\");\n      root._bokeh_failed_load = true;\n    }\n    root._bokeh_is_initializing = false\n  }\n\n  function load_or_wait() {\n    // Implement a backoff loop that tries to ensure we do not load multiple\n    // versions of Bokeh and its dependencies at the same time.\n    // In recent versions we use the root._bokeh_is_initializing flag\n    // to determine whether there is an ongoing attempt to initialize\n    // bokeh, however for backward compatibility we also try to ensure\n    // that we do not start loading a newer (Panel>=1.0 and Bokeh>3) version\n    // before older versions are fully initialized.\n    if (root._bokeh_is_initializing && Date.now() > root._bokeh_timeout) {\n      // If the timeout and bokeh was not successfully loaded we reset\n      // everything and try loading again\n      root._bokeh_timeout = Date.now() + 5000;\n      root._bokeh_is_initializing = false;\n      root._bokeh_onload_callbacks = undefined;\n      root._bokeh_is_loading = 0\n      console.log(\"Bokeh: BokehJS was loaded multiple times but one version failed to initialize.\");\n      load_or_wait();\n    } else if (root._bokeh_is_initializing || (typeof root._bokeh_is_initializing === \"undefined\" && root._bokeh_onload_callbacks !== undefined)) {\n      setTimeout(load_or_wait, 100);\n    } else {\n      root._bokeh_is_initializing = true\n      root._bokeh_onload_callbacks = []\n      const bokeh_loaded = root.Bokeh != null && (root.Bokeh.version === py_version || (root.Bokeh.versions !== undefined && root.Bokeh.versions.has(py_version)));\n      if (!reloading && !bokeh_loaded) {\n        if (root.Bokeh) {\n          root.Bokeh = undefined;\n        }\n        console.debug(\"Bokeh: BokehJS not loaded, scheduling load and callback at\", now());\n      }\n      load_libs(css_urls, js_urls, js_modules, js_exports, function() {\n        console.debug(\"Bokeh: BokehJS plotting callback run at\", now());\n        run_inline_js();\n      });\n    }\n  }\n  // Give older versions of the autoload script a head-start to ensure\n  // they initialize before we start loading newer version.\n  setTimeout(load_or_wait, 100)\n}(window));",
      "application/vnd.holoviews_load.v0+json": ""
     },
     "metadata": {},
     "output_type": "display_data"
    },
    {
     "data": {
      "application/javascript": "\nif ((window.PyViz === undefined) || (window.PyViz instanceof HTMLElement)) {\n  window.PyViz = {comms: {}, comm_status:{}, kernels:{}, receivers: {}, plot_index: []}\n}\n\n\n    function JupyterCommManager() {\n    }\n\n    JupyterCommManager.prototype.register_target = function(plot_id, comm_id, msg_handler) {\n      if (window.comm_manager || ((window.Jupyter !== undefined) && (Jupyter.notebook.kernel != null))) {\n        var comm_manager = window.comm_manager || Jupyter.notebook.kernel.comm_manager;\n        comm_manager.register_target(comm_id, function(comm) {\n          comm.on_msg(msg_handler);\n        });\n      } else if ((plot_id in window.PyViz.kernels) && (window.PyViz.kernels[plot_id])) {\n        window.PyViz.kernels[plot_id].registerCommTarget(comm_id, function(comm) {\n          comm.onMsg = msg_handler;\n        });\n      } else if (typeof google != 'undefined' && google.colab.kernel != null) {\n        google.colab.kernel.comms.registerTarget(comm_id, (comm) => {\n          var messages = comm.messages[Symbol.asyncIterator]();\n          function processIteratorResult(result) {\n            var message = result.value;\n            console.log(message)\n            var content = {data: message.data, comm_id};\n            var buffers = []\n            for (var buffer of message.buffers || []) {\n              buffers.push(new DataView(buffer))\n            }\n            var metadata = message.metadata || {};\n            var msg = {content, buffers, metadata}\n            msg_handler(msg);\n            return messages.next().then(processIteratorResult);\n          }\n          return messages.next().then(processIteratorResult);\n        })\n      }\n    }\n\n    JupyterCommManager.prototype.get_client_comm = function(plot_id, comm_id, msg_handler) {\n      if (comm_id in window.PyViz.comms) {\n        return window.PyViz.comms[comm_id];\n      } else if (window.comm_manager || ((window.Jupyter !== undefined) && (Jupyter.notebook.kernel != null))) {\n        var comm_manager = window.comm_manager || Jupyter.notebook.kernel.comm_manager;\n        var comm = comm_manager.new_comm(comm_id, {}, {}, {}, comm_id);\n        if (msg_handler) {\n          comm.on_msg(msg_handler);\n        }\n      } else if ((plot_id in window.PyViz.kernels) && (window.PyViz.kernels[plot_id])) {\n        var comm = window.PyViz.kernels[plot_id].connectToComm(comm_id);\n        comm.open();\n        if (msg_handler) {\n          comm.onMsg = msg_handler;\n        }\n      } else if (typeof google != 'undefined' && google.colab.kernel != null) {\n        var comm_promise = google.colab.kernel.comms.open(comm_id)\n        comm_promise.then((comm) => {\n          window.PyViz.comms[comm_id] = comm;\n          if (msg_handler) {\n            var messages = comm.messages[Symbol.asyncIterator]();\n            function processIteratorResult(result) {\n              var message = result.value;\n              var content = {data: message.data};\n              var metadata = message.metadata || {comm_id};\n              var msg = {content, metadata}\n              msg_handler(msg);\n              return messages.next().then(processIteratorResult);\n            }\n            return messages.next().then(processIteratorResult);\n          }\n        }) \n        var sendClosure = (data, metadata, buffers, disposeOnDone) => {\n          return comm_promise.then((comm) => {\n            comm.send(data, metadata, buffers, disposeOnDone);\n          });\n        };\n        var comm = {\n          send: sendClosure\n        };\n      }\n      window.PyViz.comms[comm_id] = comm;\n      return comm;\n    }\n    window.PyViz.comm_manager = new JupyterCommManager();\n    \n\n\nvar JS_MIME_TYPE = 'application/javascript';\nvar HTML_MIME_TYPE = 'text/html';\nvar EXEC_MIME_TYPE = 'application/vnd.holoviews_exec.v0+json';\nvar CLASS_NAME = 'output';\n\n/**\n * Render data to the DOM node\n */\nfunction render(props, node) {\n  var div = document.createElement(\"div\");\n  var script = document.createElement(\"script\");\n  node.appendChild(div);\n  node.appendChild(script);\n}\n\n/**\n * Handle when a new output is added\n */\nfunction handle_add_output(event, handle) {\n  var output_area = handle.output_area;\n  var output = handle.output;\n  if ((output.data == undefined) || (!output.data.hasOwnProperty(EXEC_MIME_TYPE))) {\n    return\n  }\n  var id = output.metadata[EXEC_MIME_TYPE][\"id\"];\n  var toinsert = output_area.element.find(\".\" + CLASS_NAME.split(' ')[0]);\n  if (id !== undefined) {\n    var nchildren = toinsert.length;\n    var html_node = toinsert[nchildren-1].children[0];\n    html_node.innerHTML = output.data[HTML_MIME_TYPE];\n    var scripts = [];\n    var nodelist = html_node.querySelectorAll(\"script\");\n    for (var i in nodelist) {\n      if (nodelist.hasOwnProperty(i)) {\n        scripts.push(nodelist[i])\n      }\n    }\n\n    scripts.forEach( function (oldScript) {\n      var newScript = document.createElement(\"script\");\n      var attrs = [];\n      var nodemap = oldScript.attributes;\n      for (var j in nodemap) {\n        if (nodemap.hasOwnProperty(j)) {\n          attrs.push(nodemap[j])\n        }\n      }\n      attrs.forEach(function(attr) { newScript.setAttribute(attr.name, attr.value) });\n      newScript.appendChild(document.createTextNode(oldScript.innerHTML));\n      oldScript.parentNode.replaceChild(newScript, oldScript);\n    });\n    if (JS_MIME_TYPE in output.data) {\n      toinsert[nchildren-1].children[1].textContent = output.data[JS_MIME_TYPE];\n    }\n    output_area._hv_plot_id = id;\n    if ((window.Bokeh !== undefined) && (id in Bokeh.index)) {\n      window.PyViz.plot_index[id] = Bokeh.index[id];\n    } else {\n      window.PyViz.plot_index[id] = null;\n    }\n  } else if (output.metadata[EXEC_MIME_TYPE][\"server_id\"] !== undefined) {\n    var bk_div = document.createElement(\"div\");\n    bk_div.innerHTML = output.data[HTML_MIME_TYPE];\n    var script_attrs = bk_div.children[0].attributes;\n    for (var i = 0; i < script_attrs.length; i++) {\n      toinsert[toinsert.length - 1].childNodes[1].setAttribute(script_attrs[i].name, script_attrs[i].value);\n    }\n    // store reference to server id on output_area\n    output_area._bokeh_server_id = output.metadata[EXEC_MIME_TYPE][\"server_id\"];\n  }\n}\n\n/**\n * Handle when an output is cleared or removed\n */\nfunction handle_clear_output(event, handle) {\n  var id = handle.cell.output_area._hv_plot_id;\n  var server_id = handle.cell.output_area._bokeh_server_id;\n  if (((id === undefined) || !(id in PyViz.plot_index)) && (server_id !== undefined)) { return; }\n  var comm = window.PyViz.comm_manager.get_client_comm(\"hv-extension-comm\", \"hv-extension-comm\", function () {});\n  if (server_id !== null) {\n    comm.send({event_type: 'server_delete', 'id': server_id});\n    return;\n  } else if (comm !== null) {\n    comm.send({event_type: 'delete', 'id': id});\n  }\n  delete PyViz.plot_index[id];\n  if ((window.Bokeh !== undefined) & (id in window.Bokeh.index)) {\n    var doc = window.Bokeh.index[id].model.document\n    doc.clear();\n    const i = window.Bokeh.documents.indexOf(doc);\n    if (i > -1) {\n      window.Bokeh.documents.splice(i, 1);\n    }\n  }\n}\n\n/**\n * Handle kernel restart event\n */\nfunction handle_kernel_cleanup(event, handle) {\n  delete PyViz.comms[\"hv-extension-comm\"];\n  window.PyViz.plot_index = {}\n}\n\n/**\n * Handle update_display_data messages\n */\nfunction handle_update_output(event, handle) {\n  handle_clear_output(event, {cell: {output_area: handle.output_area}})\n  handle_add_output(event, handle)\n}\n\nfunction register_renderer(events, OutputArea) {\n  function append_mime(data, metadata, element) {\n    // create a DOM node to render to\n    var toinsert = this.create_output_subarea(\n    metadata,\n    CLASS_NAME,\n    EXEC_MIME_TYPE\n    );\n    this.keyboard_manager.register_events(toinsert);\n    // Render to node\n    var props = {data: data, metadata: metadata[EXEC_MIME_TYPE]};\n    render(props, toinsert[0]);\n    element.append(toinsert);\n    return toinsert\n  }\n\n  events.on('output_added.OutputArea', handle_add_output);\n  events.on('output_updated.OutputArea', handle_update_output);\n  events.on('clear_output.CodeCell', handle_clear_output);\n  events.on('delete.Cell', handle_clear_output);\n  events.on('kernel_ready.Kernel', handle_kernel_cleanup);\n\n  OutputArea.prototype.register_mime_type(EXEC_MIME_TYPE, append_mime, {\n    safe: true,\n    index: 0\n  });\n}\n\nif (window.Jupyter !== undefined) {\n  try {\n    var events = require('base/js/events');\n    var OutputArea = require('notebook/js/outputarea').OutputArea;\n    if (OutputArea.prototype.mime_types().indexOf(EXEC_MIME_TYPE) == -1) {\n      register_renderer(events, OutputArea);\n    }\n  } catch(err) {\n  }\n}\n",
      "application/vnd.holoviews_load.v0+json": ""
     },
     "metadata": {},
     "output_type": "display_data"
    },
    {
     "data": {
      "application/vnd.holoviews_exec.v0+json": "",
      "text/html": [
<<<<<<< HEAD
       "<div id='p1778'>\n",
       "  <div id=\"bfdd589d-f6c8-439d-a5f2-af314e7af787\" data-root-id=\"p1778\" style=\"display: contents;\"></div>\n",
       "</div>\n",
       "<script type=\"application/javascript\">(function(root) {\n",
       "  var docs_json = {\"a29732b3-4487-4b26-a4f5-5752fa276c5e\":{\"version\":\"3.6.0\",\"title\":\"Bokeh Application\",\"roots\":[{\"type\":\"object\",\"name\":\"panel.models.browser.BrowserInfo\",\"id\":\"p1778\"},{\"type\":\"object\",\"name\":\"panel.models.comm_manager.CommManager\",\"id\":\"p1779\",\"attributes\":{\"plot_id\":\"p1778\",\"comm_id\":\"a7a3b4c19239414e90ea4348cb0e3246\",\"client_comm_id\":\"5e14f7092b93464d824e988e75b1917d\"}}],\"defs\":[{\"type\":\"model\",\"name\":\"ReactiveHTML1\"},{\"type\":\"model\",\"name\":\"FlexBox1\",\"properties\":[{\"name\":\"align_content\",\"kind\":\"Any\",\"default\":\"flex-start\"},{\"name\":\"align_items\",\"kind\":\"Any\",\"default\":\"flex-start\"},{\"name\":\"flex_direction\",\"kind\":\"Any\",\"default\":\"row\"},{\"name\":\"flex_wrap\",\"kind\":\"Any\",\"default\":\"wrap\"},{\"name\":\"gap\",\"kind\":\"Any\",\"default\":\"\"},{\"name\":\"justify_content\",\"kind\":\"Any\",\"default\":\"flex-start\"}]},{\"type\":\"model\",\"name\":\"FloatPanel1\",\"properties\":[{\"name\":\"config\",\"kind\":\"Any\",\"default\":{\"type\":\"map\"}},{\"name\":\"contained\",\"kind\":\"Any\",\"default\":true},{\"name\":\"position\",\"kind\":\"Any\",\"default\":\"right-top\"},{\"name\":\"offsetx\",\"kind\":\"Any\",\"default\":null},{\"name\":\"offsety\",\"kind\":\"Any\",\"default\":null},{\"name\":\"theme\",\"kind\":\"Any\",\"default\":\"primary\"},{\"name\":\"status\",\"kind\":\"Any\",\"default\":\"normalized\"}]},{\"type\":\"model\",\"name\":\"GridStack1\",\"properties\":[{\"name\":\"mode\",\"kind\":\"Any\",\"default\":\"warn\"},{\"name\":\"ncols\",\"kind\":\"Any\",\"default\":null},{\"name\":\"nrows\",\"kind\":\"Any\",\"default\":null},{\"name\":\"allow_resize\",\"kind\":\"Any\",\"default\":true},{\"name\":\"allow_drag\",\"kind\":\"Any\",\"default\":true},{\"name\":\"state\",\"kind\":\"Any\",\"default\":[]}]},{\"type\":\"model\",\"name\":\"drag1\",\"properties\":[{\"name\":\"slider_width\",\"kind\":\"Any\",\"default\":5},{\"name\":\"slider_color\",\"kind\":\"Any\",\"default\":\"black\"},{\"name\":\"value\",\"kind\":\"Any\",\"default\":50}]},{\"type\":\"model\",\"name\":\"click1\",\"properties\":[{\"name\":\"terminal_output\",\"kind\":\"Any\",\"default\":\"\"},{\"name\":\"debug_name\",\"kind\":\"Any\",\"default\":\"\"},{\"name\":\"clears\",\"kind\":\"Any\",\"default\":0}]},{\"type\":\"model\",\"name\":\"FastWrapper1\",\"properties\":[{\"name\":\"object\",\"kind\":\"Any\",\"default\":null},{\"name\":\"style\",\"kind\":\"Any\",\"default\":null}]},{\"type\":\"model\",\"name\":\"NotificationAreaBase1\",\"properties\":[{\"name\":\"js_events\",\"kind\":\"Any\",\"default\":{\"type\":\"map\"}},{\"name\":\"position\",\"kind\":\"Any\",\"default\":\"bottom-right\"},{\"name\":\"_clear\",\"kind\":\"Any\",\"default\":0}]},{\"type\":\"model\",\"name\":\"NotificationArea1\",\"properties\":[{\"name\":\"js_events\",\"kind\":\"Any\",\"default\":{\"type\":\"map\"}},{\"name\":\"notifications\",\"kind\":\"Any\",\"default\":[]},{\"name\":\"position\",\"kind\":\"Any\",\"default\":\"bottom-right\"},{\"name\":\"_clear\",\"kind\":\"Any\",\"default\":0},{\"name\":\"types\",\"kind\":\"Any\",\"default\":[{\"type\":\"map\",\"entries\":[[\"type\",\"warning\"],[\"background\",\"#ffc107\"],[\"icon\",{\"type\":\"map\",\"entries\":[[\"className\",\"fas fa-exclamation-triangle\"],[\"tagName\",\"i\"],[\"color\",\"white\"]]}]]},{\"type\":\"map\",\"entries\":[[\"type\",\"info\"],[\"background\",\"#007bff\"],[\"icon\",{\"type\":\"map\",\"entries\":[[\"className\",\"fas fa-info-circle\"],[\"tagName\",\"i\"],[\"color\",\"white\"]]}]]}]}]},{\"type\":\"model\",\"name\":\"Notification\",\"properties\":[{\"name\":\"background\",\"kind\":\"Any\",\"default\":null},{\"name\":\"duration\",\"kind\":\"Any\",\"default\":3000},{\"name\":\"icon\",\"kind\":\"Any\",\"default\":null},{\"name\":\"message\",\"kind\":\"Any\",\"default\":\"\"},{\"name\":\"notification_type\",\"kind\":\"Any\",\"default\":null},{\"name\":\"_destroyed\",\"kind\":\"Any\",\"default\":false}]},{\"type\":\"model\",\"name\":\"TemplateActions1\",\"properties\":[{\"name\":\"open_modal\",\"kind\":\"Any\",\"default\":0},{\"name\":\"close_modal\",\"kind\":\"Any\",\"default\":0}]},{\"type\":\"model\",\"name\":\"BootstrapTemplateActions1\",\"properties\":[{\"name\":\"open_modal\",\"kind\":\"Any\",\"default\":0},{\"name\":\"close_modal\",\"kind\":\"Any\",\"default\":0}]},{\"type\":\"model\",\"name\":\"TemplateEditor1\",\"properties\":[{\"name\":\"layout\",\"kind\":\"Any\",\"default\":[]}]},{\"type\":\"model\",\"name\":\"MaterialTemplateActions1\",\"properties\":[{\"name\":\"open_modal\",\"kind\":\"Any\",\"default\":0},{\"name\":\"close_modal\",\"kind\":\"Any\",\"default\":0}]},{\"type\":\"model\",\"name\":\"ReactiveESM1\"},{\"type\":\"model\",\"name\":\"JSComponent1\"},{\"type\":\"model\",\"name\":\"ReactComponent1\"},{\"type\":\"model\",\"name\":\"AnyWidgetComponent1\"},{\"type\":\"model\",\"name\":\"request_value1\",\"properties\":[{\"name\":\"fill\",\"kind\":\"Any\",\"default\":\"none\"},{\"name\":\"_synced\",\"kind\":\"Any\",\"default\":null},{\"name\":\"_request_sync\",\"kind\":\"Any\",\"default\":0}]}]}};\n",
       "  var render_items = [{\"docid\":\"a29732b3-4487-4b26-a4f5-5752fa276c5e\",\"roots\":{\"p1778\":\"bfdd589d-f6c8-439d-a5f2-af314e7af787\"},\"root_ids\":[\"p1778\"]}];\n",
=======
       "<div id='p1110'>\n",
       "  <div id=\"b8d155e4-b66e-4a34-9d93-61425eb3cecd\" data-root-id=\"p1110\" style=\"display: contents;\"></div>\n",
       "</div>\n",
       "<script type=\"application/javascript\">(function(root) {\n",
       "  var docs_json = {\"ad54bfec-2129-486b-9aaf-609614cc9871\":{\"version\":\"3.6.0\",\"title\":\"Bokeh Application\",\"roots\":[{\"type\":\"object\",\"name\":\"panel.models.browser.BrowserInfo\",\"id\":\"p1110\"},{\"type\":\"object\",\"name\":\"panel.models.comm_manager.CommManager\",\"id\":\"p1111\",\"attributes\":{\"plot_id\":\"p1110\",\"comm_id\":\"ea65e7c4bffa4287a3ce436726332e3d\",\"client_comm_id\":\"b80f4f0f2a584ca780abc6af7dea2db0\"}}],\"defs\":[{\"type\":\"model\",\"name\":\"ReactiveHTML1\"},{\"type\":\"model\",\"name\":\"FlexBox1\",\"properties\":[{\"name\":\"align_content\",\"kind\":\"Any\",\"default\":\"flex-start\"},{\"name\":\"align_items\",\"kind\":\"Any\",\"default\":\"flex-start\"},{\"name\":\"flex_direction\",\"kind\":\"Any\",\"default\":\"row\"},{\"name\":\"flex_wrap\",\"kind\":\"Any\",\"default\":\"wrap\"},{\"name\":\"gap\",\"kind\":\"Any\",\"default\":\"\"},{\"name\":\"justify_content\",\"kind\":\"Any\",\"default\":\"flex-start\"}]},{\"type\":\"model\",\"name\":\"FloatPanel1\",\"properties\":[{\"name\":\"config\",\"kind\":\"Any\",\"default\":{\"type\":\"map\"}},{\"name\":\"contained\",\"kind\":\"Any\",\"default\":true},{\"name\":\"position\",\"kind\":\"Any\",\"default\":\"right-top\"},{\"name\":\"offsetx\",\"kind\":\"Any\",\"default\":null},{\"name\":\"offsety\",\"kind\":\"Any\",\"default\":null},{\"name\":\"theme\",\"kind\":\"Any\",\"default\":\"primary\"},{\"name\":\"status\",\"kind\":\"Any\",\"default\":\"normalized\"}]},{\"type\":\"model\",\"name\":\"GridStack1\",\"properties\":[{\"name\":\"mode\",\"kind\":\"Any\",\"default\":\"warn\"},{\"name\":\"ncols\",\"kind\":\"Any\",\"default\":null},{\"name\":\"nrows\",\"kind\":\"Any\",\"default\":null},{\"name\":\"allow_resize\",\"kind\":\"Any\",\"default\":true},{\"name\":\"allow_drag\",\"kind\":\"Any\",\"default\":true},{\"name\":\"state\",\"kind\":\"Any\",\"default\":[]}]},{\"type\":\"model\",\"name\":\"drag1\",\"properties\":[{\"name\":\"slider_width\",\"kind\":\"Any\",\"default\":5},{\"name\":\"slider_color\",\"kind\":\"Any\",\"default\":\"black\"},{\"name\":\"value\",\"kind\":\"Any\",\"default\":50}]},{\"type\":\"model\",\"name\":\"click1\",\"properties\":[{\"name\":\"terminal_output\",\"kind\":\"Any\",\"default\":\"\"},{\"name\":\"debug_name\",\"kind\":\"Any\",\"default\":\"\"},{\"name\":\"clears\",\"kind\":\"Any\",\"default\":0}]},{\"type\":\"model\",\"name\":\"FastWrapper1\",\"properties\":[{\"name\":\"object\",\"kind\":\"Any\",\"default\":null},{\"name\":\"style\",\"kind\":\"Any\",\"default\":null}]},{\"type\":\"model\",\"name\":\"NotificationAreaBase1\",\"properties\":[{\"name\":\"js_events\",\"kind\":\"Any\",\"default\":{\"type\":\"map\"}},{\"name\":\"position\",\"kind\":\"Any\",\"default\":\"bottom-right\"},{\"name\":\"_clear\",\"kind\":\"Any\",\"default\":0}]},{\"type\":\"model\",\"name\":\"NotificationArea1\",\"properties\":[{\"name\":\"js_events\",\"kind\":\"Any\",\"default\":{\"type\":\"map\"}},{\"name\":\"notifications\",\"kind\":\"Any\",\"default\":[]},{\"name\":\"position\",\"kind\":\"Any\",\"default\":\"bottom-right\"},{\"name\":\"_clear\",\"kind\":\"Any\",\"default\":0},{\"name\":\"types\",\"kind\":\"Any\",\"default\":[{\"type\":\"map\",\"entries\":[[\"type\",\"warning\"],[\"background\",\"#ffc107\"],[\"icon\",{\"type\":\"map\",\"entries\":[[\"className\",\"fas fa-exclamation-triangle\"],[\"tagName\",\"i\"],[\"color\",\"white\"]]}]]},{\"type\":\"map\",\"entries\":[[\"type\",\"info\"],[\"background\",\"#007bff\"],[\"icon\",{\"type\":\"map\",\"entries\":[[\"className\",\"fas fa-info-circle\"],[\"tagName\",\"i\"],[\"color\",\"white\"]]}]]}]}]},{\"type\":\"model\",\"name\":\"Notification\",\"properties\":[{\"name\":\"background\",\"kind\":\"Any\",\"default\":null},{\"name\":\"duration\",\"kind\":\"Any\",\"default\":3000},{\"name\":\"icon\",\"kind\":\"Any\",\"default\":null},{\"name\":\"message\",\"kind\":\"Any\",\"default\":\"\"},{\"name\":\"notification_type\",\"kind\":\"Any\",\"default\":null},{\"name\":\"_destroyed\",\"kind\":\"Any\",\"default\":false}]},{\"type\":\"model\",\"name\":\"TemplateActions1\",\"properties\":[{\"name\":\"open_modal\",\"kind\":\"Any\",\"default\":0},{\"name\":\"close_modal\",\"kind\":\"Any\",\"default\":0}]},{\"type\":\"model\",\"name\":\"BootstrapTemplateActions1\",\"properties\":[{\"name\":\"open_modal\",\"kind\":\"Any\",\"default\":0},{\"name\":\"close_modal\",\"kind\":\"Any\",\"default\":0}]},{\"type\":\"model\",\"name\":\"TemplateEditor1\",\"properties\":[{\"name\":\"layout\",\"kind\":\"Any\",\"default\":[]}]},{\"type\":\"model\",\"name\":\"MaterialTemplateActions1\",\"properties\":[{\"name\":\"open_modal\",\"kind\":\"Any\",\"default\":0},{\"name\":\"close_modal\",\"kind\":\"Any\",\"default\":0}]},{\"type\":\"model\",\"name\":\"ReactiveESM1\"},{\"type\":\"model\",\"name\":\"JSComponent1\"},{\"type\":\"model\",\"name\":\"ReactComponent1\"},{\"type\":\"model\",\"name\":\"AnyWidgetComponent1\"},{\"type\":\"model\",\"name\":\"request_value1\",\"properties\":[{\"name\":\"fill\",\"kind\":\"Any\",\"default\":\"none\"},{\"name\":\"_synced\",\"kind\":\"Any\",\"default\":null},{\"name\":\"_request_sync\",\"kind\":\"Any\",\"default\":0}]}]}};\n",
       "  var render_items = [{\"docid\":\"ad54bfec-2129-486b-9aaf-609614cc9871\",\"roots\":{\"p1110\":\"b8d155e4-b66e-4a34-9d93-61425eb3cecd\"},\"root_ids\":[\"p1110\"]}];\n",
>>>>>>> c11dbff8c0c4f7b3c31db8d9542a29286f644c51
       "  var docs = Object.values(docs_json)\n",
       "  if (!docs) {\n",
       "    return\n",
       "  }\n",
       "  const py_version = docs[0].version.replace('rc', '-rc.').replace('.dev', '-dev.')\n",
       "  async function embed_document(root) {\n",
       "    var Bokeh = get_bokeh(root)\n",
       "    await Bokeh.embed.embed_items_notebook(docs_json, render_items);\n",
       "    for (const render_item of render_items) {\n",
       "      for (const root_id of render_item.root_ids) {\n",
       "\tconst id_el = document.getElementById(root_id)\n",
       "\tif (id_el.children.length && id_el.children[0].hasAttribute('data-root-id')) {\n",
       "\t  const root_el = id_el.children[0]\n",
       "\t  root_el.id = root_el.id + '-rendered'\n",
       "\t  for (const child of root_el.children) {\n",
       "            // Ensure JupyterLab does not capture keyboard shortcuts\n",
       "            // see: https://jupyterlab.readthedocs.io/en/4.1.x/extension/notebook.html#keyboard-interaction-model\n",
       "\t    child.setAttribute('data-lm-suppress-shortcuts', 'true')\n",
       "\t  }\n",
       "\t}\n",
       "      }\n",
       "    }\n",
       "  }\n",
       "  function get_bokeh(root) {\n",
       "    if (root.Bokeh === undefined) {\n",
       "      return null\n",
       "    } else if (root.Bokeh.version !== py_version) {\n",
       "      if (root.Bokeh.versions === undefined || !root.Bokeh.versions.has(py_version)) {\n",
       "\treturn null\n",
       "      }\n",
       "      return root.Bokeh.versions.get(py_version);\n",
       "    } else if (root.Bokeh.version === py_version) {\n",
       "      return root.Bokeh\n",
       "    }\n",
       "    return null\n",
       "  }\n",
       "  function is_loaded(root) {\n",
       "    var Bokeh = get_bokeh(root)\n",
       "    return (Bokeh != null && Bokeh.Panel !== undefined)\n",
       "  }\n",
       "  if (is_loaded(root)) {\n",
       "    embed_document(root);\n",
       "  } else {\n",
       "    var attempts = 0;\n",
       "    var timer = setInterval(function(root) {\n",
       "      if (is_loaded(root)) {\n",
       "        clearInterval(timer);\n",
       "        embed_document(root);\n",
       "      } else if (document.readyState == \"complete\") {\n",
       "        attempts++;\n",
       "        if (attempts > 200) {\n",
       "          clearInterval(timer);\n",
       "\t  var Bokeh = get_bokeh(root)\n",
       "\t  if (Bokeh == null || Bokeh.Panel == null) {\n",
       "            console.warn(\"Panel: ERROR: Unable to run Panel code because Bokeh or Panel library is missing\");\n",
       "\t  } else {\n",
       "\t    console.warn(\"Panel: WARNING: Attempting to render but not all required libraries could be resolved.\")\n",
       "\t    embed_document(root)\n",
       "\t  }\n",
       "        }\n",
       "      }\n",
       "    }, 25, root)\n",
       "  }\n",
       "})(window);</script>"
      ]
     },
     "metadata": {
      "application/vnd.holoviews_exec.v0+json": {
<<<<<<< HEAD
       "id": "p1778"
=======
       "id": "p1110"
>>>>>>> c11dbff8c0c4f7b3c31db8d9542a29286f644c51
      }
     },
     "output_type": "display_data"
    },
    {
     "data": {
      "text/html": [
       "\n",
       "<div class=\"logo-block\">\n",
       "<img src='data:image/png;base64,iVBORw0KGgoAAAANSUhEUgAAAEAAAABACAYAAACqaXHeAAAABHNCSVQICAgIfAhkiAAAAAlwSFlz\n",
       "AAAB+wAAAfsBxc2miwAAABl0RVh0U29mdHdhcmUAd3d3Lmlua3NjYXBlLm9yZ5vuPBoAAA6zSURB\n",
       "VHic7ZtpeFRVmsf/5966taWqUlUJ2UioBBJiIBAwCZtog9IOgjqACsogKtqirT2ttt069nQ/zDzt\n",
       "tI4+CrJIREFaFgWhBXpUNhHZQoKBkIUASchWla1S+3ar7r1nPkDaCAnZKoQP/D7mnPOe9/xy76n3\n",
       "nFSAW9ziFoPFNED2LLK5wcyBDObkb8ZkxuaoSYlI6ZcOKq1eWFdedqNzGHQBk9RMEwFAASkk0Xw3\n",
       "ETacDNi2vtvc7L0ROdw0AjoSotQVkKSvHQz/wRO1lScGModBFbDMaNRN1A4tUBCS3lk7BWhQkgpD\n",
       "lG4852/+7DWr1R3uHAZVQDsbh6ZPN7CyxUrCzJMRouusj0ipRwD2uKm0Zn5d2dFwzX1TCGhnmdGo\n",
       "G62Nna+isiUqhkzuKrkQaJlPEv5mFl2fvGg2t/VnzkEV8F5ioioOEWkLG86fvbpthynjdhXYZziQ\n",
       "x1hC9J2NFyi8vCTt91Fh04KGip0AaG9zuCk2wQCVyoNU3Hjezee9bq92duzzTmxsRJoy+jEZZZYo\n",
       "GTKJ6SJngdJqAfRzpze0+jHreUtPc7gpBLQnIYK6BYp/uGhw9YK688eu7v95ysgshcg9qSLMo3JC\n",
       "4jqLKQFBgdKDPoQ+Pltb8dUyQLpeDjeVgI6EgLIQFT5tEl3rn2losHVsexbZ3EyT9wE1uGdkIPcy\n",
       "BGxn8QUq1QrA5nqW5i2tLqvrrM9NK6AdkVIvL9E9bZL/oyfMVd/jqvc8LylzRBKDJSzIExwhQzuL\n",
       "QYGQj4rHfFTc8mUdu3E7yoLtbTe9gI4EqVgVkug2i5+uXGo919ixbRog+3fTbQ8qJe4ZOYNfMoTI\n",
       "OoshUNosgO60AisX15aeI2PSIp5KiFLI9ubb1vV3Qb2ltwLakUCDAkWX7/nHKRmmGIl9VgYsUhJm\n",
       "2NXjKYADtM1ygne9QQDIXlk49FBstMKx66D1v4+XuQr7vqTe0VcBHQlRWiOCbmmSYe2SqtL6q5rJ\n",
       "zsTb7lKx3FKOYC4DoqyS/B5bvLPxvD9Qtf6saxYLQGJErmDOdOMr/zo96km1nElr8bmPOBwI9COv\n",
       "HnFPRIwmkSOv9kcAS4heRsidOkpeWBgZM+UBrTFAXNYL5Vf2ii9c1trNzpYdaoVil3WIc+wdk+gQ\n",
       "noie3ecCcxt9ITcLAPWt/laGEO/9U6PmzZkenTtsSMQ8uYywJVW+grCstAvCIaAdArAsIWkRDDs/\n",
       "KzLm2YcjY1Lv0UdW73HabE9n6V66cxSzfEmuJssTpKGVp+0vHq73FwL46eOjpMpbRAnNmJFrGJNu\n",
       "Ukf9Yrz+3rghiumCKNXXWPhLYcjxGsIpoCMsIRoFITkW8AuyM8jC1+/QLx4bozCEJIq38+1rtpR6\n",
       "V/yzb8eBlRb3fo5l783N0CWolAzJHaVNzkrTzlEp2bQ2q3TC5gn6wpnoQAmwSiGh2GitnTmVMc5O\n",
       "UyfKWUKCIsU7+fZDKwqdT6DDpvkzAX4/+AMFjk0tDp5GRXLpQ2MUmhgDp5gxQT8+Y7hyPsMi8uxF\n",
       "71H0oebujHALECjFKaW9Lm68n18wXp2kVzIcABytD5iXFzg+WVXkegpAsOOYziqo0OkK76GyquC3\n",
       "ltZAzMhhqlSNmmWTE5T6e3IN05ITFLM4GdN0vtZ3ob8Jh1NAKXFbm5PtLU/eqTSlGjkNAJjdgn/N\n",
       "aedXa0tdi7+t9G0FIF49rtMSEgAs1kDLkTPO7ebm4IUWeyh1bKomXqlgMG6kJmHcSM0clYLJ8XtR\n",
       "1GTnbV3F6I5wCGikAb402npp1h1s7LQUZZSMIfALFOuL3UUrfnS8+rez7v9qcold5tilgHbO1fjK\n",
       "9ubb17u9oshxzMiUBKXWqJNxd+fqb0tLVs4lILFnK71H0Ind7uiPgACVcFJlrb0tV6DzxqqTIhUM\n",
       "CwDf1/rrVhTa33/3pGPxJYdQ2l2cbgVcQSosdx8uqnDtbGjh9SlDVSMNWhlnilfqZk42Th2ZpLpf\n",
       "xrHec5e815zrr0dfBZSwzkZfqsv+1FS1KUknUwPARVvItfKUY+cn57yP7qv07UE3p8B2uhUwLk09\n",
       "e0SCOrK+hbdYHYLjRIl71wWzv9jpEoeOHhGRrJAzyEyNiJuUqX0g2sBN5kGK6y2Blp5M3lsB9Qh4\n",
       "y2Ja6x6+i0ucmKgwMATwhSjdUu49tKrQ/pvN5d53ml2CGwCmJipmKjgmyuaXzNeL2a0AkQ01Th5j\n",
       "2DktO3Jyk8f9vcOBQHV94OK+fPumJmvQHxJoWkaKWq9Vs+yUsbq0zGT1I4RgeH2b5wef7+c7bl8F\n",
       "eKgoHVVZa8ZPEORzR6sT1BzDUAD/d9F78e2Tzv99v8D+fLVTqAKAsbGamKey1Mt9Ann4eH3gTXTz\n",
       "idWtAJ8PQWOk7NzSeQn/OTHDuEikVF1R4z8BQCy+6D1aWRfY0tTGG2OM8rRoPaeIj5ZHzJxszElN\n",
       "VM8K8JS5WOfv8mzRnQAKoEhmt8gyPM4lU9SmBK1MCQBnW4KONT86v1hZ1PbwSXPw4JWussVjtH9Y\n",
       "NCoiL9UoH/6PSu8jFrfY2t36erQHXLIEakMi1SydmzB31h3GGXFDFNPaK8Rme9B79Ixrd0WN+1ij\n",
       "NRQ/doRmuFLBkHSTOm5GruG+pFjFdAmorG4IXH1Qua6ASniclfFtDYt+oUjKipPrCQB7QBQ2lrgP\n",
       "fFzm+9XWUtcqJ3/5vDLDpJ79XHZk3u8nGZ42qlj1+ydtbxysCezrydp6ugmipNJ7WBPB5tydY0jP\n",
       "HaVNzs3QzeE4ZpTbI+ZbnSFPbVOw9vsfnVvqWnirPyCNGD08IlqtYkh2hjZ5dErEQzoNm+6ykyOt\n",
       "Lt5/PQEuSRRKo22VkydK+vvS1XEKlhCJAnsqvcVvH7f/ZU2R67eXbMEGAMiIV5oWZWiWvz5Fv2xG\n",
       "sjqNJQRvn3Rs2lji/lNP19VjAQDgD7FHhujZB9OGqYxRkZxixgRDVlqS6uEOFaJUVu0rPFzctrnF\n",
       "JqijImVp8dEKVWyUXDk92zAuMZ6bFwpBU1HrOw6AdhQgUooChb0+ItMbWJitSo5Ws3IAOGEOtL53\n",
       "0vHZih9sC4vtofZ7Qu6523V/fmGcds1TY3V36pUsBwAbSlxnVh2xLfAD/IAIMDf7XYIkNmXfpp2l\n",
       "18rkAJAy9HKFaIr/qULkeQQKy9zf1JgDB2uaeFNGijo5QsUyacNUUTOnGO42xSnv4oOwpDi1zYkc\n",
       "efUc3I5Gk6PhyTuVKaOGyLUAYPGIoY9Pu/atL/L92+4q9wbflRJ2Trpm/jPjdBtfnqB/dIThcl8A\n",
       "KG7hbRuKnb8qsQsVvVlTrwQAQMUlf3kwJI24Z4JhPMtcfng5GcH49GsrxJpGvvHIaeem2ma+KSjQ\n",
       "lIwUdYyCY8j4dE1KzijNnIP2llF2wcXNnsoapw9XxsgYAl6k+KzUXbi2yP3KR2ecf6z3BFsBICdW\n",
       "nvnIaG3eHybqX7vbpEqUMT+9OL4Qpe8VON7dXuFd39v19FoAABRVePbGGuXTszO0P7tu6lghUonE\n",
       "llRdrhArLvmKdh9u29jcFiRRkfLUxBiFNiqSU9icoZQHo5mYBI1MBgBH6wMNb+U7Pnw337H4gi1Y\n",
       "ciWs+uks3Z9fztUvfzxTm9Ne8XXkvQLHNytOOZeiD4e0PgkAIAYCYknKUNUDSXEKzdWNpnil7r4p\n",
       "xqkjTarZMtk/K8TQ6Qve78qqvXurGwIJqcOUKfUWHsm8KGvxSP68YudXq4pcj39X49uOK2X142O0\n",
       "Tz5/u/7TVybqH0rSya6ZBwD21/gubbrgWdDgEOx9WUhfBaC2ibcEBYm7a7x+ukrBMNcEZggyR0TE\n",
       "T8zUPjikQ4VosQZbTpS4vqizBKvqmvjsqnpfzaZyx9JPiz1/bfGKdgD45XB1zoIMzYbfTdS/NClB\n",
       "Gct0USiY3YL/g0LHy/uq/Ef6uo5+n0R/vyhp17Klpge763f8rMu6YU/zrn2nml+2WtH+Z+5IAAFc\n",
       "2bUTdTDOSNa9+cQY7YLsOIXhevEkCvzph7a8laecz/Un/z4/Ae04XeL3UQb57IwU9ZDr9UuKVajv\n",
       "nxp1+1UVIo/LjztZkKH59fO3G/JemqCfmaCRqbqbd90ZZ8FfjtkfAyD0J/9+C2h1hDwsSxvGjNDc\n",
       "b4zk5NfrSwiQblLHzZhg+Jf4aPlUwpDqkQqa9nimbt1/TDH8OitGMaQnj+RJS6B1fbF7SY1TqO5v\n",
       "/v0WAADl1f7zokgS7s7VT2DZ7pegUjBM7mjtiDZbcN4j0YrHH0rXpCtY0qPX0cVL0rv5jv/ZXend\n",
       "0u/EESYBAFBU4T4Qa5TflZOhTe7pmKpaP8kCVUVw1+yhXfJWvn1P3hnXi33JsTN6PnP3hHZ8Z3/h\n",
       "aLHzmkNPuPj7Bc/F/Q38CwjTpSwQXgE4Vmwry9tpfq/ZFgqFMy4AVDtCvi8rvMvOmv0N4YwbVgEA\n",
       "sPM72/KVnzfspmH7HQGCRLG2yL1+z8XwvPcdCbsAANh+xPzstgMtxeGKt+6MK3/tacfvwhWvIwMi\n",
       "oKEBtm0H7W+UVfkc/Y1V0BhoPlDr/w1w/eu1vjIgAgDg22OtX6/eYfnEz/focrZTHAFR+PSs56/7\n",
       "q32nwpjazxgwAQCwcU/T62t3WL7r6/jVRa6/byp1rei+Z98ZUAEAhEPHPc8fKnTU9nbgtnOe8h0l\n",
       "9hcGIqmODLQAHCy2Xti6v/XNRivf43f4fFvIteu854+VHnR7q9tfBlwAAGz+pnndB9vM26UebAe8\n",
       "SLHujPOTPVW+rwY+sxskAAC2HrA8t2Vvc7ffP1r9o+vwR2dcr92InIAbKKC1FZ5tB1tf+/G8p8sv\n",
       "N/9Q5zd/XR34LYCwV5JdccMEAMDBk45DH243r/X4xGvqxFa/GNpS7n6rwOwNWwHVE26oAADYurf1\n",
       "zx/utOzt+DMKYM0p17YtZZ5VNzqfsB2HewG1WXE8PoZ7gOclbTIvynZf9JV+fqZtfgs/8F/Nu5rB\n",
       "EIBmJ+8QRMmpU7EzGRsf2FzuePqYRbzh/zE26EwdrT10f6r6o8HOYzCJB9Dpff8tbnGLG8L/A/WE\n",
       "roTBs2RqAAAAAElFTkSuQmCC'\n",
       "     style='height:25px; border-radius:12px; display: inline-block; float: left; vertical-align: middle'></img>\n",
       "\n",
       "\n",
       "  <img src='data:image/png;base64,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'\n",
       "       style='height:15px; border-radius:12px; display: inline-block; float: left'></img>\n",
       "  \n",
       "\n",
       "\n",
       "\n",
       "\n",
       "</div>\n"
      ]
     },
     "metadata": {},
     "output_type": "display_data"
    }
   ],
   "source": [
    "# Import libraries\n",
    "import numpy as np\n",
    "import pandas as pd\n",
    "from obspy import read\n",
    "import holoviews as hv\n",
    "import panel as pn\n",
    "hv.extension('bokeh')\n",
    "from datetime import datetime, timedelta\n",
    "import matplotlib.pyplot as plt\n",
    "import os"
   ]
  },
  {
   "cell_type": "code",
<<<<<<< HEAD
   "execution_count": 127,
=======
   "execution_count": 80,
>>>>>>> c11dbff8c0c4f7b3c31db8d9542a29286f644c51
   "metadata": {},
   "outputs": [],
   "source": [
    "cat_file = 'apollo12_catalog_GradeA_final.csv'\n",
    "cat = pd.read_csv(cat_file)"
   ]
  },
  {
   "cell_type": "code",
<<<<<<< HEAD
   "execution_count": 128,
=======
   "execution_count": 81,
>>>>>>> c11dbff8c0c4f7b3c31db8d9542a29286f644c51
   "metadata": {},
   "outputs": [
    {
     "data": {
      "text/plain": [
       "'xa.s12.00.mhz.1970-06-26HR00_evid00009'"
      ]
     },
<<<<<<< HEAD
     "execution_count": 128,
=======
     "execution_count": 81,
>>>>>>> c11dbff8c0c4f7b3c31db8d9542a29286f644c51
     "metadata": {},
     "output_type": "execute_result"
    }
   ],
   "source": [
    "row = cat.iloc[6]\n",
    "arrival_time = datetime.strptime(row['time_abs(%Y-%m-%dT%H:%M:%S.%f)'],'%Y-%m-%dT%H:%M:%S.%f')\n",
    "# If we want the value of relative time, we don't need to use datetime\n",
    "arrival_time_rel = row['time_rel(sec)']\n",
    "# Let's also get the name of the file\n",
    "test_filename = row.filename\n",
    "test_filename"
   ]
  },
  {
   "cell_type": "code",
<<<<<<< HEAD
   "execution_count": 129,
=======
   "execution_count": 82,
>>>>>>> c11dbff8c0c4f7b3c31db8d9542a29286f644c51
   "metadata": {},
   "outputs": [],
   "source": [
    "data_directory = './data/lunar/training/data/S12_GradeA/'\n",
    "mseed_file = f'{test_filename}.mseed'\n",
    "st = read(mseed_file)\n"
   ]
  },
  {
   "cell_type": "code",
<<<<<<< HEAD
   "execution_count": 130,
=======
   "execution_count": 83,
>>>>>>> c11dbff8c0c4f7b3c31db8d9542a29286f644c51
   "metadata": {},
   "outputs": [],
   "source": [
    "FILE = 'xa.s12.00.mhz.1973-01-31HR00_evid00091'\n",
    "FILE_PATH = '/content/partitioned_data/mseed/' + FILE + '.mseed'\n",
    "ROW_NUM = cat[cat['filename'] == FILE].index[0]"
   ]
  },
  {
   "cell_type": "code",
<<<<<<< HEAD
   "execution_count": 131,
=======
   "execution_count": 84,
>>>>>>> c11dbff8c0c4f7b3c31db8d9542a29286f644c51
   "metadata": {},
   "outputs": [],
   "source": [
    "# This is how you get the data and the time, which is in seconds\n",
    "tr = st.traces[0].copy()\n",
    "tr_times = tr.times()\n",
    "tr_data = tr.data\n",
    "\n",
    "# Start time of trace (another way to get the relative arrival time using datetime)\n",
    "starttime = tr.stats.starttime.datetime\n",
    "arrival = (arrival_time - starttime).total_seconds()"
   ]
  },
  {
   "cell_type": "code",
<<<<<<< HEAD
   "execution_count": 132,
=======
   "execution_count": 85,
>>>>>>> c11dbff8c0c4f7b3c31db8d9542a29286f644c51
   "metadata": {},
   "outputs": [],
   "source": [
    "import numpy as np\n",
    "from obspy import Stream, Trace, UTCDateTime\n",
    "from scipy import signal\n",
    "import matplotlib.pyplot as plt\n",
    "\n",
    "def highpass_ft_data(st):\n",
    "  # Assuming st is a Stream object with one Trace\n",
    "  # Access the first Trace object and extract its data as a NumPy array\n",
    "  trace = st[0]  # Access the first Trace in the Stream\n",
    "  st_data = trace.data  # Extract the data from the Trace (this is a NumPy array)\n",
    "\n",
    "  # Now st_data contains the seismic data and you can process it\n",
    "  t = np.linspace(0, 1000, len(st_data))  # Time array based on the length of the data\n",
    "\n",
    "  # Design a high-pass Butterworth filter\n",
    "  fs = trace.stats.sampling_rate  # Use the sampling rate from the Trace stats\n",
    "  cutoff = 1  # Cutoff frequency (choose based on seismic data characteristics)\n",
    "  order = 4  # Order of the filter\n",
    "\n",
    "  # Create the filter\n",
    "  sos = signal.butter(order, cutoff, 'hp', fs=fs, output='sos')\n",
    "\n",
    "  # Apply the filter to the data\n",
    "  filtered_data = signal.sosfilt(sos, st_data)\n",
    "\n",
    "  # Create a new Trace for the filtered data\n",
    "  filtered_trace = Trace()\n",
    "  filtered_trace.data = filtered_data\n",
    "  filtered_trace.stats = trace.stats  # Copy the stats from the original Trace\n",
    "  filtered_trace.stats.network = \"FILTERED\"  # Change network code if necessary\n",
    "  filtered_trace.stats.station = \"FILTERED\"  # Change station code if necessary\n",
    "  filtered_trace.stats.location = \"FILTERED\"  # Change location code if necessary\n",
    "  filtered_trace.stats.channel = \"FILTERED\"  # Change channel code if necessary\n",
    "  filtered_trace.stats.starttime = trace.stats.starttime  # Use original start time\n",
    "\n",
    "  # Create a new Stream object\n",
    "  filtered_stream = Stream(traces=[filtered_trace])\n",
    "\n",
    "  # Save the filtered Stream as a MiniSEED file\n",
    "  filtered_stream.write(\"filtered_data.mseed\", format='MSEED')\n",
    "  return filtered_stream\n"
   ]
  },
  {
   "cell_type": "code",
<<<<<<< HEAD
   "execution_count": 133,
   "metadata": {},
   "outputs": [
    {
     "data": {
      "text/html": [
       "<script type=\"esms-options\">{\"shimMode\": true}</script><style>*[data-root-id],\n",
       "*[data-root-id] > * {\n",
       "  box-sizing: border-box;\n",
       "  font-family: var(--jp-ui-font-family);\n",
       "  font-size: var(--jp-ui-font-size1);\n",
       "  color: var(--vscode-editor-foreground, var(--jp-ui-font-color1));\n",
       "}\n",
       "\n",
       "/* Override VSCode background color */\n",
       ".cell-output-ipywidget-background:has(\n",
       "    > .cell-output-ipywidget-background > .lm-Widget > *[data-root-id]\n",
       "  ),\n",
       ".cell-output-ipywidget-background:has(> .lm-Widget > *[data-root-id]) {\n",
       "  background-color: transparent !important;\n",
       "}\n",
       "</style>"
      ]
     },
     "metadata": {},
     "output_type": "display_data"
    },
    {
     "data": {
      "application/javascript": "(function(root) {\n  function now() {\n    return new Date();\n  }\n\n  const force = true;\n  const py_version = '3.6.0'.replace('rc', '-rc.').replace('.dev', '-dev.');\n  const reloading = false;\n  const Bokeh = root.Bokeh;\n\n  // Set a timeout for this load but only if we are not already initializing\n  if (typeof (root._bokeh_timeout) === \"undefined\" || (force || !root._bokeh_is_initializing)) {\n    root._bokeh_timeout = Date.now() + 5000;\n    root._bokeh_failed_load = false;\n  }\n\n  function run_callbacks() {\n    try {\n      root._bokeh_onload_callbacks.forEach(function(callback) {\n        if (callback != null)\n          callback();\n      });\n    } finally {\n      delete root._bokeh_onload_callbacks;\n    }\n    console.debug(\"Bokeh: all callbacks have finished\");\n  }\n\n  function load_libs(css_urls, js_urls, js_modules, js_exports, callback) {\n    if (css_urls == null) css_urls = [];\n    if (js_urls == null) js_urls = [];\n    if (js_modules == null) js_modules = [];\n    if (js_exports == null) js_exports = {};\n\n    root._bokeh_onload_callbacks.push(callback);\n\n    if (root._bokeh_is_loading > 0) {\n      // Don't load bokeh if it is still initializing\n      console.debug(\"Bokeh: BokehJS is being loaded, scheduling callback at\", now());\n      return null;\n    } else if (js_urls.length === 0 && js_modules.length === 0 && Object.keys(js_exports).length === 0) {\n      // There is nothing to load\n      run_callbacks();\n      return null;\n    }\n\n    function on_load() {\n      root._bokeh_is_loading--;\n      if (root._bokeh_is_loading === 0) {\n        console.debug(\"Bokeh: all BokehJS libraries/stylesheets loaded\");\n        run_callbacks()\n      }\n    }\n    window._bokeh_on_load = on_load\n\n    function on_error(e) {\n      const src_el = e.srcElement\n      console.error(\"failed to load \" + (src_el.href || src_el.src));\n    }\n\n    const skip = [];\n    if (window.requirejs) {\n      window.requirejs.config({'packages': {}, 'paths': {}, 'shim': {}});\n      root._bokeh_is_loading = css_urls.length + 0;\n    } else {\n      root._bokeh_is_loading = css_urls.length + js_urls.length + js_modules.length + Object.keys(js_exports).length;\n    }\n\n    const existing_stylesheets = []\n    const links = document.getElementsByTagName('link')\n    for (let i = 0; i < links.length; i++) {\n      const link = links[i]\n      if (link.href != null) {\n        existing_stylesheets.push(link.href)\n      }\n    }\n    for (let i = 0; i < css_urls.length; i++) {\n      const url = css_urls[i];\n      const escaped = encodeURI(url)\n      if (existing_stylesheets.indexOf(escaped) !== -1) {\n        on_load()\n        continue;\n      }\n      const element = document.createElement(\"link\");\n      element.onload = on_load;\n      element.onerror = on_error;\n      element.rel = \"stylesheet\";\n      element.type = \"text/css\";\n      element.href = url;\n      console.debug(\"Bokeh: injecting link tag for BokehJS stylesheet: \", url);\n      document.body.appendChild(element);\n    }    var existing_scripts = []\n    const scripts = document.getElementsByTagName('script')\n    for (let i = 0; i < scripts.length; i++) {\n      var script = scripts[i]\n      if (script.src != null) {\n        existing_scripts.push(script.src)\n      }\n    }\n    for (let i = 0; i < js_urls.length; i++) {\n      const url = js_urls[i];\n      const escaped = encodeURI(url)\n      if (skip.indexOf(escaped) !== -1 || existing_scripts.indexOf(escaped) !== -1) {\n        if (!window.requirejs) {\n          on_load();\n        }\n        continue;\n      }\n      const element = document.createElement('script');\n      element.onload = on_load;\n      element.onerror = on_error;\n      element.async = false;\n      element.src = url;\n      console.debug(\"Bokeh: injecting script tag for BokehJS library: \", url);\n      document.head.appendChild(element);\n    }\n    for (let i = 0; i < js_modules.length; i++) {\n      const url = js_modules[i];\n      const escaped = encodeURI(url)\n      if (skip.indexOf(escaped) !== -1 || existing_scripts.indexOf(escaped) !== -1) {\n        if (!window.requirejs) {\n          on_load();\n        }\n        continue;\n      }\n      var element = document.createElement('script');\n      element.onload = on_load;\n      element.onerror = on_error;\n      element.async = false;\n      element.src = url;\n      element.type = \"module\";\n      console.debug(\"Bokeh: injecting script tag for BokehJS library: \", url);\n      document.head.appendChild(element);\n    }\n    for (const name in js_exports) {\n      const url = js_exports[name];\n      const escaped = encodeURI(url)\n      if (skip.indexOf(escaped) >= 0 || root[name] != null) {\n        if (!window.requirejs) {\n          on_load();\n        }\n        continue;\n      }\n      var element = document.createElement('script');\n      element.onerror = on_error;\n      element.async = false;\n      element.type = \"module\";\n      console.debug(\"Bokeh: injecting script tag for BokehJS library: \", url);\n      element.textContent = `\n      import ${name} from \"${url}\"\n      window.${name} = ${name}\n      window._bokeh_on_load()\n      `\n      document.head.appendChild(element);\n    }\n    if (!js_urls.length && !js_modules.length) {\n      on_load()\n    }\n  };\n\n  function inject_raw_css(css) {\n    const element = document.createElement(\"style\");\n    element.appendChild(document.createTextNode(css));\n    document.body.appendChild(element);\n  }\n\n  const js_urls = [\"https://cdn.holoviz.org/panel/1.5.2/dist/bundled/reactiveesm/es-module-shims@^1.10.0/dist/es-module-shims.min.js\", \"https://cdn.bokeh.org/bokeh/release/bokeh-3.6.0.min.js\", \"https://cdn.bokeh.org/bokeh/release/bokeh-gl-3.6.0.min.js\", \"https://cdn.bokeh.org/bokeh/release/bokeh-widgets-3.6.0.min.js\", \"https://cdn.bokeh.org/bokeh/release/bokeh-tables-3.6.0.min.js\", \"https://cdn.holoviz.org/panel/1.5.2/dist/panel.min.js\"];\n  const js_modules = [];\n  const js_exports = {};\n  const css_urls = [];\n  const inline_js = [    function(Bokeh) {\n      Bokeh.set_log_level(\"info\");\n    },\nfunction(Bokeh) {} // ensure no trailing comma for IE\n  ];\n\n  function run_inline_js() {\n    if ((root.Bokeh !== undefined) || (force === true)) {\n      for (let i = 0; i < inline_js.length; i++) {\n        try {\n          inline_js[i].call(root, root.Bokeh);\n        } catch(e) {\n          if (!reloading) {\n            throw e;\n          }\n        }\n      }\n      // Cache old bokeh versions\n      if (Bokeh != undefined && !reloading) {\n        var NewBokeh = root.Bokeh;\n        if (Bokeh.versions === undefined) {\n          Bokeh.versions = new Map();\n        }\n        if (NewBokeh.version !== Bokeh.version) {\n          Bokeh.versions.set(NewBokeh.version, NewBokeh)\n        }\n        root.Bokeh = Bokeh;\n      }\n    } else if (Date.now() < root._bokeh_timeout) {\n      setTimeout(run_inline_js, 100);\n    } else if (!root._bokeh_failed_load) {\n      console.log(\"Bokeh: BokehJS failed to load within specified timeout.\");\n      root._bokeh_failed_load = true;\n    }\n    root._bokeh_is_initializing = false\n  }\n\n  function load_or_wait() {\n    // Implement a backoff loop that tries to ensure we do not load multiple\n    // versions of Bokeh and its dependencies at the same time.\n    // In recent versions we use the root._bokeh_is_initializing flag\n    // to determine whether there is an ongoing attempt to initialize\n    // bokeh, however for backward compatibility we also try to ensure\n    // that we do not start loading a newer (Panel>=1.0 and Bokeh>3) version\n    // before older versions are fully initialized.\n    if (root._bokeh_is_initializing && Date.now() > root._bokeh_timeout) {\n      // If the timeout and bokeh was not successfully loaded we reset\n      // everything and try loading again\n      root._bokeh_timeout = Date.now() + 5000;\n      root._bokeh_is_initializing = false;\n      root._bokeh_onload_callbacks = undefined;\n      root._bokeh_is_loading = 0\n      console.log(\"Bokeh: BokehJS was loaded multiple times but one version failed to initialize.\");\n      load_or_wait();\n    } else if (root._bokeh_is_initializing || (typeof root._bokeh_is_initializing === \"undefined\" && root._bokeh_onload_callbacks !== undefined)) {\n      setTimeout(load_or_wait, 100);\n    } else {\n      root._bokeh_is_initializing = true\n      root._bokeh_onload_callbacks = []\n      const bokeh_loaded = root.Bokeh != null && (root.Bokeh.version === py_version || (root.Bokeh.versions !== undefined && root.Bokeh.versions.has(py_version)));\n      if (!reloading && !bokeh_loaded) {\n        if (root.Bokeh) {\n          root.Bokeh = undefined;\n        }\n        console.debug(\"Bokeh: BokehJS not loaded, scheduling load and callback at\", now());\n      }\n      load_libs(css_urls, js_urls, js_modules, js_exports, function() {\n        console.debug(\"Bokeh: BokehJS plotting callback run at\", now());\n        run_inline_js();\n      });\n    }\n  }\n  // Give older versions of the autoload script a head-start to ensure\n  // they initialize before we start loading newer version.\n  setTimeout(load_or_wait, 100)\n}(window));",
      "application/vnd.holoviews_load.v0+json": ""
     },
     "metadata": {},
     "output_type": "display_data"
    },
    {
     "data": {
      "application/javascript": "\nif ((window.PyViz === undefined) || (window.PyViz instanceof HTMLElement)) {\n  window.PyViz = {comms: {}, comm_status:{}, kernels:{}, receivers: {}, plot_index: []}\n}\n\n\n    function JupyterCommManager() {\n    }\n\n    JupyterCommManager.prototype.register_target = function(plot_id, comm_id, msg_handler) {\n      if (window.comm_manager || ((window.Jupyter !== undefined) && (Jupyter.notebook.kernel != null))) {\n        var comm_manager = window.comm_manager || Jupyter.notebook.kernel.comm_manager;\n        comm_manager.register_target(comm_id, function(comm) {\n          comm.on_msg(msg_handler);\n        });\n      } else if ((plot_id in window.PyViz.kernels) && (window.PyViz.kernels[plot_id])) {\n        window.PyViz.kernels[plot_id].registerCommTarget(comm_id, function(comm) {\n          comm.onMsg = msg_handler;\n        });\n      } else if (typeof google != 'undefined' && google.colab.kernel != null) {\n        google.colab.kernel.comms.registerTarget(comm_id, (comm) => {\n          var messages = comm.messages[Symbol.asyncIterator]();\n          function processIteratorResult(result) {\n            var message = result.value;\n            console.log(message)\n            var content = {data: message.data, comm_id};\n            var buffers = []\n            for (var buffer of message.buffers || []) {\n              buffers.push(new DataView(buffer))\n            }\n            var metadata = message.metadata || {};\n            var msg = {content, buffers, metadata}\n            msg_handler(msg);\n            return messages.next().then(processIteratorResult);\n          }\n          return messages.next().then(processIteratorResult);\n        })\n      }\n    }\n\n    JupyterCommManager.prototype.get_client_comm = function(plot_id, comm_id, msg_handler) {\n      if (comm_id in window.PyViz.comms) {\n        return window.PyViz.comms[comm_id];\n      } else if (window.comm_manager || ((window.Jupyter !== undefined) && (Jupyter.notebook.kernel != null))) {\n        var comm_manager = window.comm_manager || Jupyter.notebook.kernel.comm_manager;\n        var comm = comm_manager.new_comm(comm_id, {}, {}, {}, comm_id);\n        if (msg_handler) {\n          comm.on_msg(msg_handler);\n        }\n      } else if ((plot_id in window.PyViz.kernels) && (window.PyViz.kernels[plot_id])) {\n        var comm = window.PyViz.kernels[plot_id].connectToComm(comm_id);\n        comm.open();\n        if (msg_handler) {\n          comm.onMsg = msg_handler;\n        }\n      } else if (typeof google != 'undefined' && google.colab.kernel != null) {\n        var comm_promise = google.colab.kernel.comms.open(comm_id)\n        comm_promise.then((comm) => {\n          window.PyViz.comms[comm_id] = comm;\n          if (msg_handler) {\n            var messages = comm.messages[Symbol.asyncIterator]();\n            function processIteratorResult(result) {\n              var message = result.value;\n              var content = {data: message.data};\n              var metadata = message.metadata || {comm_id};\n              var msg = {content, metadata}\n              msg_handler(msg);\n              return messages.next().then(processIteratorResult);\n            }\n            return messages.next().then(processIteratorResult);\n          }\n        }) \n        var sendClosure = (data, metadata, buffers, disposeOnDone) => {\n          return comm_promise.then((comm) => {\n            comm.send(data, metadata, buffers, disposeOnDone);\n          });\n        };\n        var comm = {\n          send: sendClosure\n        };\n      }\n      window.PyViz.comms[comm_id] = comm;\n      return comm;\n    }\n    window.PyViz.comm_manager = new JupyterCommManager();\n    \n\n\nvar JS_MIME_TYPE = 'application/javascript';\nvar HTML_MIME_TYPE = 'text/html';\nvar EXEC_MIME_TYPE = 'application/vnd.holoviews_exec.v0+json';\nvar CLASS_NAME = 'output';\n\n/**\n * Render data to the DOM node\n */\nfunction render(props, node) {\n  var div = document.createElement(\"div\");\n  var script = document.createElement(\"script\");\n  node.appendChild(div);\n  node.appendChild(script);\n}\n\n/**\n * Handle when a new output is added\n */\nfunction handle_add_output(event, handle) {\n  var output_area = handle.output_area;\n  var output = handle.output;\n  if ((output.data == undefined) || (!output.data.hasOwnProperty(EXEC_MIME_TYPE))) {\n    return\n  }\n  var id = output.metadata[EXEC_MIME_TYPE][\"id\"];\n  var toinsert = output_area.element.find(\".\" + CLASS_NAME.split(' ')[0]);\n  if (id !== undefined) {\n    var nchildren = toinsert.length;\n    var html_node = toinsert[nchildren-1].children[0];\n    html_node.innerHTML = output.data[HTML_MIME_TYPE];\n    var scripts = [];\n    var nodelist = html_node.querySelectorAll(\"script\");\n    for (var i in nodelist) {\n      if (nodelist.hasOwnProperty(i)) {\n        scripts.push(nodelist[i])\n      }\n    }\n\n    scripts.forEach( function (oldScript) {\n      var newScript = document.createElement(\"script\");\n      var attrs = [];\n      var nodemap = oldScript.attributes;\n      for (var j in nodemap) {\n        if (nodemap.hasOwnProperty(j)) {\n          attrs.push(nodemap[j])\n        }\n      }\n      attrs.forEach(function(attr) { newScript.setAttribute(attr.name, attr.value) });\n      newScript.appendChild(document.createTextNode(oldScript.innerHTML));\n      oldScript.parentNode.replaceChild(newScript, oldScript);\n    });\n    if (JS_MIME_TYPE in output.data) {\n      toinsert[nchildren-1].children[1].textContent = output.data[JS_MIME_TYPE];\n    }\n    output_area._hv_plot_id = id;\n    if ((window.Bokeh !== undefined) && (id in Bokeh.index)) {\n      window.PyViz.plot_index[id] = Bokeh.index[id];\n    } else {\n      window.PyViz.plot_index[id] = null;\n    }\n  } else if (output.metadata[EXEC_MIME_TYPE][\"server_id\"] !== undefined) {\n    var bk_div = document.createElement(\"div\");\n    bk_div.innerHTML = output.data[HTML_MIME_TYPE];\n    var script_attrs = bk_div.children[0].attributes;\n    for (var i = 0; i < script_attrs.length; i++) {\n      toinsert[toinsert.length - 1].childNodes[1].setAttribute(script_attrs[i].name, script_attrs[i].value);\n    }\n    // store reference to server id on output_area\n    output_area._bokeh_server_id = output.metadata[EXEC_MIME_TYPE][\"server_id\"];\n  }\n}\n\n/**\n * Handle when an output is cleared or removed\n */\nfunction handle_clear_output(event, handle) {\n  var id = handle.cell.output_area._hv_plot_id;\n  var server_id = handle.cell.output_area._bokeh_server_id;\n  if (((id === undefined) || !(id in PyViz.plot_index)) && (server_id !== undefined)) { return; }\n  var comm = window.PyViz.comm_manager.get_client_comm(\"hv-extension-comm\", \"hv-extension-comm\", function () {});\n  if (server_id !== null) {\n    comm.send({event_type: 'server_delete', 'id': server_id});\n    return;\n  } else if (comm !== null) {\n    comm.send({event_type: 'delete', 'id': id});\n  }\n  delete PyViz.plot_index[id];\n  if ((window.Bokeh !== undefined) & (id in window.Bokeh.index)) {\n    var doc = window.Bokeh.index[id].model.document\n    doc.clear();\n    const i = window.Bokeh.documents.indexOf(doc);\n    if (i > -1) {\n      window.Bokeh.documents.splice(i, 1);\n    }\n  }\n}\n\n/**\n * Handle kernel restart event\n */\nfunction handle_kernel_cleanup(event, handle) {\n  delete PyViz.comms[\"hv-extension-comm\"];\n  window.PyViz.plot_index = {}\n}\n\n/**\n * Handle update_display_data messages\n */\nfunction handle_update_output(event, handle) {\n  handle_clear_output(event, {cell: {output_area: handle.output_area}})\n  handle_add_output(event, handle)\n}\n\nfunction register_renderer(events, OutputArea) {\n  function append_mime(data, metadata, element) {\n    // create a DOM node to render to\n    var toinsert = this.create_output_subarea(\n    metadata,\n    CLASS_NAME,\n    EXEC_MIME_TYPE\n    );\n    this.keyboard_manager.register_events(toinsert);\n    // Render to node\n    var props = {data: data, metadata: metadata[EXEC_MIME_TYPE]};\n    render(props, toinsert[0]);\n    element.append(toinsert);\n    return toinsert\n  }\n\n  events.on('output_added.OutputArea', handle_add_output);\n  events.on('output_updated.OutputArea', handle_update_output);\n  events.on('clear_output.CodeCell', handle_clear_output);\n  events.on('delete.Cell', handle_clear_output);\n  events.on('kernel_ready.Kernel', handle_kernel_cleanup);\n\n  OutputArea.prototype.register_mime_type(EXEC_MIME_TYPE, append_mime, {\n    safe: true,\n    index: 0\n  });\n}\n\nif (window.Jupyter !== undefined) {\n  try {\n    var events = require('base/js/events');\n    var OutputArea = require('notebook/js/outputarea').OutputArea;\n    if (OutputArea.prototype.mime_types().indexOf(EXEC_MIME_TYPE) == -1) {\n      register_renderer(events, OutputArea);\n    }\n  } catch(err) {\n  }\n}\n",
      "application/vnd.holoviews_load.v0+json": ""
     },
     "metadata": {},
     "output_type": "display_data"
    },
    {
     "data": {
      "application/vnd.holoviews_exec.v0+json": "",
      "text/html": [
       "<div id='p1780'>\n",
       "  <div id=\"b7bb1414-0a21-48f6-89e8-aeb67c59096e\" data-root-id=\"p1780\" style=\"display: contents;\"></div>\n",
       "</div>\n",
       "<script type=\"application/javascript\">(function(root) {\n",
       "  var docs_json = {\"3cf5ec40-993a-4bfa-bccd-fa3057fd874d\":{\"version\":\"3.6.0\",\"title\":\"Bokeh Application\",\"roots\":[{\"type\":\"object\",\"name\":\"panel.models.browser.BrowserInfo\",\"id\":\"p1780\"},{\"type\":\"object\",\"name\":\"panel.models.comm_manager.CommManager\",\"id\":\"p1781\",\"attributes\":{\"plot_id\":\"p1780\",\"comm_id\":\"760cc8acfb804f31b6835ebccc5f0223\",\"client_comm_id\":\"3e85c33b786e4b799fb42b1ca7a23a17\"}}],\"defs\":[{\"type\":\"model\",\"name\":\"ReactiveHTML1\"},{\"type\":\"model\",\"name\":\"FlexBox1\",\"properties\":[{\"name\":\"align_content\",\"kind\":\"Any\",\"default\":\"flex-start\"},{\"name\":\"align_items\",\"kind\":\"Any\",\"default\":\"flex-start\"},{\"name\":\"flex_direction\",\"kind\":\"Any\",\"default\":\"row\"},{\"name\":\"flex_wrap\",\"kind\":\"Any\",\"default\":\"wrap\"},{\"name\":\"gap\",\"kind\":\"Any\",\"default\":\"\"},{\"name\":\"justify_content\",\"kind\":\"Any\",\"default\":\"flex-start\"}]},{\"type\":\"model\",\"name\":\"FloatPanel1\",\"properties\":[{\"name\":\"config\",\"kind\":\"Any\",\"default\":{\"type\":\"map\"}},{\"name\":\"contained\",\"kind\":\"Any\",\"default\":true},{\"name\":\"position\",\"kind\":\"Any\",\"default\":\"right-top\"},{\"name\":\"offsetx\",\"kind\":\"Any\",\"default\":null},{\"name\":\"offsety\",\"kind\":\"Any\",\"default\":null},{\"name\":\"theme\",\"kind\":\"Any\",\"default\":\"primary\"},{\"name\":\"status\",\"kind\":\"Any\",\"default\":\"normalized\"}]},{\"type\":\"model\",\"name\":\"GridStack1\",\"properties\":[{\"name\":\"mode\",\"kind\":\"Any\",\"default\":\"warn\"},{\"name\":\"ncols\",\"kind\":\"Any\",\"default\":null},{\"name\":\"nrows\",\"kind\":\"Any\",\"default\":null},{\"name\":\"allow_resize\",\"kind\":\"Any\",\"default\":true},{\"name\":\"allow_drag\",\"kind\":\"Any\",\"default\":true},{\"name\":\"state\",\"kind\":\"Any\",\"default\":[]}]},{\"type\":\"model\",\"name\":\"drag1\",\"properties\":[{\"name\":\"slider_width\",\"kind\":\"Any\",\"default\":5},{\"name\":\"slider_color\",\"kind\":\"Any\",\"default\":\"black\"},{\"name\":\"value\",\"kind\":\"Any\",\"default\":50}]},{\"type\":\"model\",\"name\":\"click1\",\"properties\":[{\"name\":\"terminal_output\",\"kind\":\"Any\",\"default\":\"\"},{\"name\":\"debug_name\",\"kind\":\"Any\",\"default\":\"\"},{\"name\":\"clears\",\"kind\":\"Any\",\"default\":0}]},{\"type\":\"model\",\"name\":\"FastWrapper1\",\"properties\":[{\"name\":\"object\",\"kind\":\"Any\",\"default\":null},{\"name\":\"style\",\"kind\":\"Any\",\"default\":null}]},{\"type\":\"model\",\"name\":\"NotificationAreaBase1\",\"properties\":[{\"name\":\"js_events\",\"kind\":\"Any\",\"default\":{\"type\":\"map\"}},{\"name\":\"position\",\"kind\":\"Any\",\"default\":\"bottom-right\"},{\"name\":\"_clear\",\"kind\":\"Any\",\"default\":0}]},{\"type\":\"model\",\"name\":\"NotificationArea1\",\"properties\":[{\"name\":\"js_events\",\"kind\":\"Any\",\"default\":{\"type\":\"map\"}},{\"name\":\"notifications\",\"kind\":\"Any\",\"default\":[]},{\"name\":\"position\",\"kind\":\"Any\",\"default\":\"bottom-right\"},{\"name\":\"_clear\",\"kind\":\"Any\",\"default\":0},{\"name\":\"types\",\"kind\":\"Any\",\"default\":[{\"type\":\"map\",\"entries\":[[\"type\",\"warning\"],[\"background\",\"#ffc107\"],[\"icon\",{\"type\":\"map\",\"entries\":[[\"className\",\"fas fa-exclamation-triangle\"],[\"tagName\",\"i\"],[\"color\",\"white\"]]}]]},{\"type\":\"map\",\"entries\":[[\"type\",\"info\"],[\"background\",\"#007bff\"],[\"icon\",{\"type\":\"map\",\"entries\":[[\"className\",\"fas fa-info-circle\"],[\"tagName\",\"i\"],[\"color\",\"white\"]]}]]}]}]},{\"type\":\"model\",\"name\":\"Notification\",\"properties\":[{\"name\":\"background\",\"kind\":\"Any\",\"default\":null},{\"name\":\"duration\",\"kind\":\"Any\",\"default\":3000},{\"name\":\"icon\",\"kind\":\"Any\",\"default\":null},{\"name\":\"message\",\"kind\":\"Any\",\"default\":\"\"},{\"name\":\"notification_type\",\"kind\":\"Any\",\"default\":null},{\"name\":\"_destroyed\",\"kind\":\"Any\",\"default\":false}]},{\"type\":\"model\",\"name\":\"TemplateActions1\",\"properties\":[{\"name\":\"open_modal\",\"kind\":\"Any\",\"default\":0},{\"name\":\"close_modal\",\"kind\":\"Any\",\"default\":0}]},{\"type\":\"model\",\"name\":\"BootstrapTemplateActions1\",\"properties\":[{\"name\":\"open_modal\",\"kind\":\"Any\",\"default\":0},{\"name\":\"close_modal\",\"kind\":\"Any\",\"default\":0}]},{\"type\":\"model\",\"name\":\"TemplateEditor1\",\"properties\":[{\"name\":\"layout\",\"kind\":\"Any\",\"default\":[]}]},{\"type\":\"model\",\"name\":\"MaterialTemplateActions1\",\"properties\":[{\"name\":\"open_modal\",\"kind\":\"Any\",\"default\":0},{\"name\":\"close_modal\",\"kind\":\"Any\",\"default\":0}]},{\"type\":\"model\",\"name\":\"ReactiveESM1\"},{\"type\":\"model\",\"name\":\"JSComponent1\"},{\"type\":\"model\",\"name\":\"ReactComponent1\"},{\"type\":\"model\",\"name\":\"AnyWidgetComponent1\"},{\"type\":\"model\",\"name\":\"request_value1\",\"properties\":[{\"name\":\"fill\",\"kind\":\"Any\",\"default\":\"none\"},{\"name\":\"_synced\",\"kind\":\"Any\",\"default\":null},{\"name\":\"_request_sync\",\"kind\":\"Any\",\"default\":0}]}]}};\n",
       "  var render_items = [{\"docid\":\"3cf5ec40-993a-4bfa-bccd-fa3057fd874d\",\"roots\":{\"p1780\":\"b7bb1414-0a21-48f6-89e8-aeb67c59096e\"},\"root_ids\":[\"p1780\"]}];\n",
       "  var docs = Object.values(docs_json)\n",
       "  if (!docs) {\n",
       "    return\n",
       "  }\n",
       "  const py_version = docs[0].version.replace('rc', '-rc.').replace('.dev', '-dev.')\n",
       "  async function embed_document(root) {\n",
       "    var Bokeh = get_bokeh(root)\n",
       "    await Bokeh.embed.embed_items_notebook(docs_json, render_items);\n",
       "    for (const render_item of render_items) {\n",
       "      for (const root_id of render_item.root_ids) {\n",
       "\tconst id_el = document.getElementById(root_id)\n",
       "\tif (id_el.children.length && id_el.children[0].hasAttribute('data-root-id')) {\n",
       "\t  const root_el = id_el.children[0]\n",
       "\t  root_el.id = root_el.id + '-rendered'\n",
       "\t  for (const child of root_el.children) {\n",
       "            // Ensure JupyterLab does not capture keyboard shortcuts\n",
       "            // see: https://jupyterlab.readthedocs.io/en/4.1.x/extension/notebook.html#keyboard-interaction-model\n",
       "\t    child.setAttribute('data-lm-suppress-shortcuts', 'true')\n",
       "\t  }\n",
       "\t}\n",
       "      }\n",
       "    }\n",
       "  }\n",
       "  function get_bokeh(root) {\n",
       "    if (root.Bokeh === undefined) {\n",
       "      return null\n",
       "    } else if (root.Bokeh.version !== py_version) {\n",
       "      if (root.Bokeh.versions === undefined || !root.Bokeh.versions.has(py_version)) {\n",
       "\treturn null\n",
       "      }\n",
       "      return root.Bokeh.versions.get(py_version);\n",
       "    } else if (root.Bokeh.version === py_version) {\n",
       "      return root.Bokeh\n",
       "    }\n",
       "    return null\n",
       "  }\n",
       "  function is_loaded(root) {\n",
       "    var Bokeh = get_bokeh(root)\n",
       "    return (Bokeh != null && Bokeh.Panel !== undefined)\n",
       "  }\n",
       "  if (is_loaded(root)) {\n",
       "    embed_document(root);\n",
       "  } else {\n",
       "    var attempts = 0;\n",
       "    var timer = setInterval(function(root) {\n",
       "      if (is_loaded(root)) {\n",
       "        clearInterval(timer);\n",
       "        embed_document(root);\n",
       "      } else if (document.readyState == \"complete\") {\n",
       "        attempts++;\n",
       "        if (attempts > 200) {\n",
       "          clearInterval(timer);\n",
       "\t  var Bokeh = get_bokeh(root)\n",
       "\t  if (Bokeh == null || Bokeh.Panel == null) {\n",
       "            console.warn(\"Panel: ERROR: Unable to run Panel code because Bokeh or Panel library is missing\");\n",
       "\t  } else {\n",
       "\t    console.warn(\"Panel: WARNING: Attempting to render but not all required libraries could be resolved.\")\n",
       "\t    embed_document(root)\n",
       "\t  }\n",
       "        }\n",
       "      }\n",
       "    }, 25, root)\n",
       "  }\n",
       "})(window);</script>"
      ]
     },
     "metadata": {
      "application/vnd.holoviews_exec.v0+json": {
       "id": "p1780"
      }
     },
     "output_type": "display_data"
    },
    {
     "data": {
      "text/html": [
       "\n",
       "<div class=\"logo-block\">\n",
       "<img src='data:image/png;base64,iVBORw0KGgoAAAANSUhEUgAAAEAAAABACAYAAACqaXHeAAAABHNCSVQICAgIfAhkiAAAAAlwSFlz\n",
       "AAAB+wAAAfsBxc2miwAAABl0RVh0U29mdHdhcmUAd3d3Lmlua3NjYXBlLm9yZ5vuPBoAAA6zSURB\n",
       "VHic7ZtpeFRVmsf/5966taWqUlUJ2UioBBJiIBAwCZtog9IOgjqACsogKtqirT2ttt069nQ/zDzt\n",
       "tI4+CrJIREFaFgWhBXpUNhHZQoKBkIUASchWla1S+3ar7r1nPkDaCAnZKoQP/D7mnPOe9/xy76n3\n",
       "nFSAW9ziFoPFNED2LLK5wcyBDObkb8ZkxuaoSYlI6ZcOKq1eWFdedqNzGHQBk9RMEwFAASkk0Xw3\n",
       "ETacDNi2vtvc7L0ROdw0AjoSotQVkKSvHQz/wRO1lScGModBFbDMaNRN1A4tUBCS3lk7BWhQkgpD\n",
       "lG4852/+7DWr1R3uHAZVQDsbh6ZPN7CyxUrCzJMRouusj0ipRwD2uKm0Zn5d2dFwzX1TCGhnmdGo\n",
       "G62Nna+isiUqhkzuKrkQaJlPEv5mFl2fvGg2t/VnzkEV8F5ioioOEWkLG86fvbpthynjdhXYZziQ\n",
       "x1hC9J2NFyi8vCTt91Fh04KGip0AaG9zuCk2wQCVyoNU3Hjezee9bq92duzzTmxsRJoy+jEZZZYo\n",
       "GTKJ6SJngdJqAfRzpze0+jHreUtPc7gpBLQnIYK6BYp/uGhw9YK688eu7v95ysgshcg9qSLMo3JC\n",
       "4jqLKQFBgdKDPoQ+Pltb8dUyQLpeDjeVgI6EgLIQFT5tEl3rn2losHVsexbZ3EyT9wE1uGdkIPcy\n",
       "BGxn8QUq1QrA5nqW5i2tLqvrrM9NK6AdkVIvL9E9bZL/oyfMVd/jqvc8LylzRBKDJSzIExwhQzuL\n",
       "QYGQj4rHfFTc8mUdu3E7yoLtbTe9gI4EqVgVkug2i5+uXGo919ixbRog+3fTbQ8qJe4ZOYNfMoTI\n",
       "OoshUNosgO60AisX15aeI2PSIp5KiFLI9ubb1vV3Qb2ltwLakUCDAkWX7/nHKRmmGIl9VgYsUhJm\n",
       "2NXjKYADtM1ygne9QQDIXlk49FBstMKx66D1v4+XuQr7vqTe0VcBHQlRWiOCbmmSYe2SqtL6q5rJ\n",
       "zsTb7lKx3FKOYC4DoqyS/B5bvLPxvD9Qtf6saxYLQGJErmDOdOMr/zo96km1nElr8bmPOBwI9COv\n",
       "HnFPRIwmkSOv9kcAS4heRsidOkpeWBgZM+UBrTFAXNYL5Vf2ii9c1trNzpYdaoVil3WIc+wdk+gQ\n",
       "noie3ecCcxt9ITcLAPWt/laGEO/9U6PmzZkenTtsSMQ8uYywJVW+grCstAvCIaAdArAsIWkRDDs/\n",
       "KzLm2YcjY1Lv0UdW73HabE9n6V66cxSzfEmuJssTpKGVp+0vHq73FwL46eOjpMpbRAnNmJFrGJNu\n",
       "Ukf9Yrz+3rghiumCKNXXWPhLYcjxGsIpoCMsIRoFITkW8AuyM8jC1+/QLx4bozCEJIq38+1rtpR6\n",
       "V/yzb8eBlRb3fo5l783N0CWolAzJHaVNzkrTzlEp2bQ2q3TC5gn6wpnoQAmwSiGh2GitnTmVMc5O\n",
       "UyfKWUKCIsU7+fZDKwqdT6DDpvkzAX4/+AMFjk0tDp5GRXLpQ2MUmhgDp5gxQT8+Y7hyPsMi8uxF\n",
       "71H0oebujHALECjFKaW9Lm68n18wXp2kVzIcABytD5iXFzg+WVXkegpAsOOYziqo0OkK76GyquC3\n",
       "ltZAzMhhqlSNmmWTE5T6e3IN05ITFLM4GdN0vtZ3ob8Jh1NAKXFbm5PtLU/eqTSlGjkNAJjdgn/N\n",
       "aedXa0tdi7+t9G0FIF49rtMSEgAs1kDLkTPO7ebm4IUWeyh1bKomXqlgMG6kJmHcSM0clYLJ8XtR\n",
       "1GTnbV3F6I5wCGikAb402npp1h1s7LQUZZSMIfALFOuL3UUrfnS8+rez7v9qcold5tilgHbO1fjK\n",
       "9ubb17u9oshxzMiUBKXWqJNxd+fqb0tLVs4lILFnK71H0Ind7uiPgACVcFJlrb0tV6DzxqqTIhUM\n",
       "CwDf1/rrVhTa33/3pGPxJYdQ2l2cbgVcQSosdx8uqnDtbGjh9SlDVSMNWhlnilfqZk42Th2ZpLpf\n",
       "xrHec5e815zrr0dfBZSwzkZfqsv+1FS1KUknUwPARVvItfKUY+cn57yP7qv07UE3p8B2uhUwLk09\n",
       "e0SCOrK+hbdYHYLjRIl71wWzv9jpEoeOHhGRrJAzyEyNiJuUqX0g2sBN5kGK6y2Blp5M3lsB9Qh4\n",
       "y2Ja6x6+i0ucmKgwMATwhSjdUu49tKrQ/pvN5d53ml2CGwCmJipmKjgmyuaXzNeL2a0AkQ01Th5j\n",
       "2DktO3Jyk8f9vcOBQHV94OK+fPumJmvQHxJoWkaKWq9Vs+yUsbq0zGT1I4RgeH2b5wef7+c7bl8F\n",
       "eKgoHVVZa8ZPEORzR6sT1BzDUAD/d9F78e2Tzv99v8D+fLVTqAKAsbGamKey1Mt9Ann4eH3gTXTz\n",
       "idWtAJ8PQWOk7NzSeQn/OTHDuEikVF1R4z8BQCy+6D1aWRfY0tTGG2OM8rRoPaeIj5ZHzJxszElN\n",
       "VM8K8JS5WOfv8mzRnQAKoEhmt8gyPM4lU9SmBK1MCQBnW4KONT86v1hZ1PbwSXPw4JWussVjtH9Y\n",
       "NCoiL9UoH/6PSu8jFrfY2t36erQHXLIEakMi1SydmzB31h3GGXFDFNPaK8Rme9B79Ixrd0WN+1ij\n",
       "NRQ/doRmuFLBkHSTOm5GruG+pFjFdAmorG4IXH1Qua6ASniclfFtDYt+oUjKipPrCQB7QBQ2lrgP\n",
       "fFzm+9XWUtcqJ3/5vDLDpJ79XHZk3u8nGZ42qlj1+ydtbxysCezrydp6ugmipNJ7WBPB5tydY0jP\n",
       "HaVNzs3QzeE4ZpTbI+ZbnSFPbVOw9vsfnVvqWnirPyCNGD08IlqtYkh2hjZ5dErEQzoNm+6ykyOt\n",
       "Lt5/PQEuSRRKo22VkydK+vvS1XEKlhCJAnsqvcVvH7f/ZU2R67eXbMEGAMiIV5oWZWiWvz5Fv2xG\n",
       "sjqNJQRvn3Rs2lji/lNP19VjAQDgD7FHhujZB9OGqYxRkZxixgRDVlqS6uEOFaJUVu0rPFzctrnF\n",
       "JqijImVp8dEKVWyUXDk92zAuMZ6bFwpBU1HrOw6AdhQgUooChb0+ItMbWJitSo5Ws3IAOGEOtL53\n",
       "0vHZih9sC4vtofZ7Qu6523V/fmGcds1TY3V36pUsBwAbSlxnVh2xLfAD/IAIMDf7XYIkNmXfpp2l\n",
       "18rkAJAy9HKFaIr/qULkeQQKy9zf1JgDB2uaeFNGijo5QsUyacNUUTOnGO42xSnv4oOwpDi1zYkc\n",
       "efUc3I5Gk6PhyTuVKaOGyLUAYPGIoY9Pu/atL/L92+4q9wbflRJ2Trpm/jPjdBtfnqB/dIThcl8A\n",
       "KG7hbRuKnb8qsQsVvVlTrwQAQMUlf3kwJI24Z4JhPMtcfng5GcH49GsrxJpGvvHIaeem2ma+KSjQ\n",
       "lIwUdYyCY8j4dE1KzijNnIP2llF2wcXNnsoapw9XxsgYAl6k+KzUXbi2yP3KR2ecf6z3BFsBICdW\n",
       "nvnIaG3eHybqX7vbpEqUMT+9OL4Qpe8VON7dXuFd39v19FoAABRVePbGGuXTszO0P7tu6lghUonE\n",
       "llRdrhArLvmKdh9u29jcFiRRkfLUxBiFNiqSU9icoZQHo5mYBI1MBgBH6wMNb+U7Pnw337H4gi1Y\n",
       "ciWs+uks3Z9fztUvfzxTm9Ne8XXkvQLHNytOOZeiD4e0PgkAIAYCYknKUNUDSXEKzdWNpnil7r4p\n",
       "xqkjTarZMtk/K8TQ6Qve78qqvXurGwIJqcOUKfUWHsm8KGvxSP68YudXq4pcj39X49uOK2X142O0\n",
       "Tz5/u/7TVybqH0rSya6ZBwD21/gubbrgWdDgEOx9WUhfBaC2ibcEBYm7a7x+ukrBMNcEZggyR0TE\n",
       "T8zUPjikQ4VosQZbTpS4vqizBKvqmvjsqnpfzaZyx9JPiz1/bfGKdgD45XB1zoIMzYbfTdS/NClB\n",
       "Gct0USiY3YL/g0LHy/uq/Ef6uo5+n0R/vyhp17Klpge763f8rMu6YU/zrn2nml+2WtH+Z+5IAAFc\n",
       "2bUTdTDOSNa9+cQY7YLsOIXhevEkCvzph7a8laecz/Un/z4/Ae04XeL3UQb57IwU9ZDr9UuKVajv\n",
       "nxp1+1UVIo/LjztZkKH59fO3G/JemqCfmaCRqbqbd90ZZ8FfjtkfAyD0J/9+C2h1hDwsSxvGjNDc\n",
       "b4zk5NfrSwiQblLHzZhg+Jf4aPlUwpDqkQqa9nimbt1/TDH8OitGMaQnj+RJS6B1fbF7SY1TqO5v\n",
       "/v0WAADl1f7zokgS7s7VT2DZ7pegUjBM7mjtiDZbcN4j0YrHH0rXpCtY0qPX0cVL0rv5jv/ZXend\n",
       "0u/EESYBAFBU4T4Qa5TflZOhTe7pmKpaP8kCVUVw1+yhXfJWvn1P3hnXi33JsTN6PnP3hHZ8Z3/h\n",
       "aLHzmkNPuPj7Bc/F/Q38CwjTpSwQXgE4Vmwry9tpfq/ZFgqFMy4AVDtCvi8rvMvOmv0N4YwbVgEA\n",
       "sPM72/KVnzfspmH7HQGCRLG2yL1+z8XwvPcdCbsAANh+xPzstgMtxeGKt+6MK3/tacfvwhWvIwMi\n",
       "oKEBtm0H7W+UVfkc/Y1V0BhoPlDr/w1w/eu1vjIgAgDg22OtX6/eYfnEz/focrZTHAFR+PSs56/7\n",
       "q32nwpjazxgwAQCwcU/T62t3WL7r6/jVRa6/byp1rei+Z98ZUAEAhEPHPc8fKnTU9nbgtnOe8h0l\n",
       "9hcGIqmODLQAHCy2Xti6v/XNRivf43f4fFvIteu854+VHnR7q9tfBlwAAGz+pnndB9vM26UebAe8\n",
       "SLHujPOTPVW+rwY+sxskAAC2HrA8t2Vvc7ffP1r9o+vwR2dcr92InIAbKKC1FZ5tB1tf+/G8p8sv\n",
       "N/9Q5zd/XR34LYCwV5JdccMEAMDBk45DH243r/X4xGvqxFa/GNpS7n6rwOwNWwHVE26oAADYurf1\n",
       "zx/utOzt+DMKYM0p17YtZZ5VNzqfsB2HewG1WXE8PoZ7gOclbTIvynZf9JV+fqZtfgs/8F/Nu5rB\n",
       "EIBmJ+8QRMmpU7EzGRsf2FzuePqYRbzh/zE26EwdrT10f6r6o8HOYzCJB9Dpff8tbnGLG8L/A/WE\n",
       "roTBs2RqAAAAAElFTkSuQmCC'\n",
       "     style='height:25px; border-radius:12px; display: inline-block; float: left; vertical-align: middle'></img>\n",
       "\n",
       "\n",
       "  <img src='data:image/png;base64,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'\n",
       "       style='height:15px; border-radius:12px; display: inline-block; float: left'></img>\n",
       "  \n",
       "\n",
       "\n",
       "\n",
       "\n",
       "</div>\n"
      ]
     },
     "metadata": {},
     "output_type": "display_data"
=======
   "execution_count": 86,
   "metadata": {},
   "outputs": [
    {
     "name": "stdout",
     "output_type": "stream",
     "text": [
      "tr_times_filt type: <class 'numpy.ndarray'>, shape: (572423,)\n",
      "tr_data_filt type: <class 'numpy.ndarray'>, shape: (572423,)\n"
     ]
>>>>>>> c11dbff8c0c4f7b3c31db8d9542a29286f644c51
    },
    {
     "data": {
      "application/vnd.jupyter.widget-view+json": {
<<<<<<< HEAD
       "model_id": "007d45a46a8d414381816bcc5100baa8",
=======
       "model_id": "52ae1bf3397b4a3a88aebf8b676fa765",
>>>>>>> c11dbff8c0c4f7b3c31db8d9542a29286f644c51
       "version_major": 2,
       "version_minor": 0
      },
      "text/plain": [
<<<<<<< HEAD
       "BokehModel(combine_events=True, render_bundle={'docs_json': {'93ff9a71-b773-43c6-9d11-f548fb0d5797': {'version…"
      ]
     },
     "execution_count": 133,
=======
       "BokehModel(combine_events=True, render_bundle={'docs_json': {'a04eb24e-868a-4d22-a1ba-6d1217c72b11': {'version…"
      ]
     },
     "execution_count": 86,
>>>>>>> c11dbff8c0c4f7b3c31db8d9542a29286f644c51
     "metadata": {},
     "output_type": "execute_result"
    }
   ],
   "source": [
    "# Interactive plot\n",
    "# Assuming filtered_stream is the Stream object returned from highpass_ft_data\n",
    "filtered_stream = highpass_ft_data(st)\n",
    "tr_filt = filtered_stream.traces[0].copy()\n",
    "tr_times_filt = tr_filt.times()\n",
    "tr_data_filt = tr_filt.data\n",
    "\n",
    "# Create a time array (tr_times) with the same length as the filtered_data\n",
    "# Assuming trace.stats.starttime and sampling_rate are available\n",
    "start_time = tr_filt.stats.starttime.timestamp\n",
    "sampling_rate = tr_filt.stats.sampling_rate\n",
    "n_samples = len(tr_filt)\n",
    "\n",
    "# Create the time array corresponding to filtered data\n",
    "tr_times_filt = np.linspace(0, len(tr_data_filt) / sampling_rate, num=len(tr_data_filt))\n",
    "\n",
    "# Check the data types and shapes of tr_times and filtered_data\n",
    "print(f\"tr_times_filt type: {type(tr_times_filt)}, shape: {tr_times.shape}\")\n",
    "print(f\"tr_data_filt type: {type(tr_data_filt)}, shape: {tr_data_filt.shape}\")\n",
    "\n",
    "# Ensure they are NumPy arrays\n",
    "tr_times_filt = np.array(tr_times_filt)\n",
    "tr_data_filt = np.array(tr_data_filt)\n",
    "\n",
    "# Map colormap names to colors\n",
    "colormap_options = {\n",
    "    'seismic': 'blue',\n",
    "    'gray': 'gray',\n",
    "    'bwr': 'red',\n",
    "}\n",
    "\n",
    "def plot_trace(tr_times_filt, tr_data_filt, cmap='seismic'):\n",
    "    # Get color from colormap options\n",
    "    color = colormap_options[cmap]\n",
    "    # Create a holoviews plot of the seismic trace\n",
    "    hv_trace = hv.Curve((tr_times_filt, tr_data_filt), 'Time (s)', 'Amplitude').opts(\n",
    "        width=900, height=400, title=\"Seismic Signal in the Time Domain\", color=color)  # Use the selected color\n",
    "\n",
    "    # Add a vertical red line at the arrival time\n",
    "    hv_arrival_line = hv.VLine(arrival).opts(color='red', line_width=2, line_dash='solid')\n",
    "\n",
    "    # Add a dummy curve to provide a legend label for the arrival time\n",
    "    hv_arrival_legend = hv.Curve([(arrival, 0), (arrival, 1e-10)], label='Rel. Arrival').opts(color='red', line_width=2)\n",
    "\n",
    "    # Overlay the trace, arrival line, and the legend entry\n",
    "    return (hv_trace * hv_arrival_line * hv_arrival_legend).opts(legend_position='top_right')\n",
    "\n",
    "# For panel layout\n",
    "cmap_select = pn.widgets.Select(name='Colormap', options=list(colormap_options.keys()))\n",
    "layout_trace = pn.bind(plot_trace, tr_times_filt=tr_times_filt, tr_data_filt=tr_data_filt, cmap=cmap_select)\n",
    "\n",
    "# Create a panel layout\n",
    "panel_layout = pn.Column(cmap_select, layout_trace)\n",
    "\n",
    "# Display the layout\n",
    "panel_layout.servable()  # Use .servable() if you're running in a Jupyter Notebook or Panel server"
   ]
  },
  {
   "cell_type": "markdown",
   "metadata": {},
   "source": [
    "# FFT MODEL\n"
   ]
  },
  {
   "cell_type": "markdown",
   "metadata": {},
   "source": [
    "<p>This is from S12 grade A folder </p>\n",
    "<img src = \"./img_lunar/fft1.png\" width = \"50%\"/>\n",
    "  <figcaption>Fig.1 - xa.s12.00.mhz.1969-12-16HR00_evid00006</figcaption>\n",
    "<img src = \"./img_lunar/fft2.png\"  width = \"50%\"/>\n",
    "  <figcaption>Fig.2 -xa.s12.00.mhz.1970-03-14HR00_evid00018</figcaption>\n",
    "<img src = \"./img_lunar/fft3.png\"  width = \"50%\"/>\n",
    "  <figcaption>Fig.3 - xa.s12.00.mhz.1970-03-30HR00_evid00020</figcaption>"
   ]
  },
  {
   "cell_type": "code",
   "execution_count": 87,
   "metadata": {},
   "outputs": [],
   "source": [
    "# # prompt: using the fft plot in the previous function, find the time stamp corresponding to the largest amplitude of any frequency, and then mark it on the time domain graph\n",
    "\n",
    "# import pandas as pd\n",
    "# import numpy as np\n",
    "# import matplotlib.pyplot as plt\n",
    "# import seaborn as sns\n",
    "# from datetime import datetime, timedelta\n",
    "# import os\n",
    "# import obspy\n",
    "# from obspy import read\n",
    "# from scipy.fft import fft, fftfreq\n",
    "\n",
    "# deviations = []\n",
    "\n",
    "# def process_mseed_fft(st, filename):\n",
    "#     # ... (Your existing code for time and frequency domain plots) ...\n",
    "#     # Extract the first trace (assuming the file has multiple traces)\n",
    "#     trace = st[0]\n",
    "#     data = trace.data\n",
    "#     sampling_rate = trace.stats.sampling_rate\n",
    "\n",
    "#     # Create a time axis for the time-domain plot\n",
    "#     time = np.linspace(0, len(data) / sampling_rate, num=len(data))\n",
    "\n",
    "#     # FFT of the signal\n",
    "#     N = len(data)\n",
    "#     fft_values = fft(data)\n",
    "#     fft_frequencies = fftfreq(N, 1/sampling_rate)\n",
    "\n",
    "#      # Only plot the positive half of frequencies\n",
    "#     positive_frequencies = fft_frequencies[:N//2]\n",
    "#     positive_fft_values = np.abs(fft_values[:N//2])\n",
    "\n",
    "#     # Find the frequency with the largest amplitude\n",
    "#     max_amplitude_index = np.argmax(positive_fft_values)\n",
    "#     max_amplitude_frequency = positive_frequencies[max_amplitude_index]\n",
    "\n",
    "#     # Calculate the corresponding time stamp (assuming a sinusoidal wave)\n",
    "#     # This is a simplification and might need to be adjusted based on the signal's nature\n",
    "#     period = 1 / max_amplitude_frequency\n",
    "#     time_stamp = time[np.argmax(data)] # Assuming the peak of the time-domain signal corresponds to the max freq peak\n",
    "\n",
    "#     # mean forward deviation\n",
    "#     time_stamp -= 661;\n",
    "\n",
    "#     # Calculate the actual time stamp\n",
    "#     actual_time = cat.iloc[ROW_NUM]['time_rel(sec)']\n",
    "#     deviations.append(time_stamp - actual_time)\n",
    "\n",
    "#     # Mark the time stamp on the time domain plot\n",
    "#     plt.figure(figsize=(12, 6))\n",
    "#     plt.subplot(2, 1, 1)\n",
    "#     plt.plot(time, data, color='blue')\n",
    "#     plt.title(\"Seismic Signal in the Time Domain\")\n",
    "#     plt.xlabel(\"Time (s)\")\n",
    "#     plt.ylabel(\"Amplitude\")\n",
    "#     plt.grid(True)\n",
    "#     plt.axvline(x=time_stamp, color='purple', linestyle='solid', label=f'Predicted: {time_stamp:.2f}s')\n",
    "#     plt.axvline(x=actual_time, color='red', linestyle='solid', label=f'Actual: {actual_time:.2f}s')\n",
    "#     plt.legend()\n",
    "\n",
    "\n",
    "#     # ... (Your existing code for frequency domain plot and saving) ...\n",
    "#     # Frequency Domain Plot\n",
    "#     plt.subplot(2, 1, 2)\n",
    "#     plt.plot(positive_frequencies, positive_fft_values, color='red')\n",
    "#     plt.title(\"FFT of the Seismic Signal\")\n",
    "#     plt.xlabel(\"Frequency (Hz)\")\n",
    "#     plt.ylabel(\"Amplitude\")\n",
    "#     plt.grid(True)\n",
    "\n",
    "#     # Display the plots\n",
    "#     plt.tight_layout()\n",
    "#     #plt.show()\n",
    "\n",
    "#     # plt.savefig(output_directory + filename + '_fft.png', bbox_inches='tight')  # Save the figure\n",
    "#     # plt.close()\n",
    "\n",
    "\n",
    "# # Example usage\n",
    "# # process_mseed_fft('your_mseed_file_path_here.mseed')\n"
   ]
  },
  {
   "cell_type": "code",
   "execution_count": 88,
   "metadata": {},
   "outputs": [],
   "source": [
    "# process_mseed_fft(st, FILE)"
   ]
  },
  {
   "cell_type": "code",
   "execution_count": 89,
   "metadata": {},
   "outputs": [],
   "source": [
    "# deviations = []\n",
    "# counter = 0\n",
    "# for filename in os.listdir(data_directory):\n",
    "#     if counter == 1: \n",
    "#         break\n",
    "#     if filename.endswith('.mseed'):\n",
    "#         mseed_file = os.path.join(data_directory, filename)\n",
    "#         st = read(mseed_file)  # Read the seismic data\n",
    "#         file_no_ext = os.path.splitext(filename)[0]\n",
    "\n",
    "#         # copy paste all the code here\n",
    "#         # FILE = file_no_ext\n",
    "#         # FILE_PATH = '/content/partitioned_data/mseed/' + FILE + '.mseed'\n",
    "#         # ROW_NUM = cat[cat['filename'] == FILE].index[0]\n",
    "#         counter+=1\n",
    "#         process_mseed_fft(st, file_no_ext)"
   ]
  },
  {
   "cell_type": "markdown",
   "metadata": {},
   "source": [
    "# Our model predicts the peak of the seismic activity, we want to know how back we should go to get the start"
   ]
  },
  {
   "cell_type": "markdown",
   "metadata": {},
   "source": [
    "write sth to explain here :3"
   ]
  },
  {
   "cell_type": "code",
   "execution_count": 90,
   "metadata": {},
   "outputs": [],
   "source": [
    "# # prompt: remove outliers, then negative values from deviations list and then plot the distribution\n",
    "\n",
    "# import numpy as np\n",
    "# import matplotlib.pyplot as plt\n",
    "\n",
    "# # Remove outliers (using IQR method as an example)\n",
    "# Q1 = np.percentile(deviations, 25)\n",
    "# Q3 = np.percentile(deviations, 75)\n",
    "# IQR = Q3 - Q1\n",
    "# lower_bound = Q1 - 1.5 * IQR\n",
    "# upper_bound = Q3 + 1.5 * IQR\n",
    "# deviations_no_outliers = [x for x in deviations if lower_bound <= x <= upper_bound]\n",
    "\n",
    "# # Remove negative values\n",
    "# deviations_positive = [x for x in deviations_no_outliers if x >= 0]\n",
    "\n",
    "\n",
    "# # Plot the distribution\n",
    "# plt.hist(deviations_positive, bins=20)\n",
    "# plt.xlabel(\"Deviation (seconds)\")\n",
    "# plt.ylabel(\"Frequency\")\n",
    "# plt.title(\"Distribution of Deviations (Outliers and Negative Values Removed)\")\n",
    "# # plt.show()\n"
   ]
  },
  {
   "cell_type": "markdown",
   "metadata": {},
   "source": [
    "<img src=\"./img_lunar/sd.png\" width = \"50%\"/>"
   ]
  },
  {
   "cell_type": "code",
   "execution_count": 91,
   "metadata": {},
   "outputs": [],
   "source": [
    "# # Calculate the mean of the deviations without outliers\n",
    "# mean_deviation = np.mean(deviations_no_outliers)\n",
    "\n",
    "# print(f\"The expected value of the time deviations (without outliers) is: {mean_deviation:.4f} seconds\")\n"
   ]
  },
  {
   "cell_type": "markdown",
   "metadata": {},
   "source": [
    "# Process FFT on test data, output plots"
   ]
  },
  {
   "cell_type": "code",
   "execution_count": 92,
   "metadata": {},
   "outputs": [],
   "source": [
    "# # prompt: using the fft plot in the previous function, find the time stamp corresponding to the largest amplitude of any frequency, and then mark it on the time domain graph\n",
    "\n",
    "# import pandas as pd\n",
    "# import numpy as np\n",
    "# import matplotlib.pyplot as plt\n",
    "# import seaborn as sns\n",
    "# from datetime import datetime, timedelta\n",
    "# import os\n",
    "# import obspy\n",
    "# from obspy import read\n",
    "# from scipy.fft import fft, fftfreq\n",
    "\n",
    "# def process_mseed_fft_test(st, filename):\n",
    "#     # ... (Your existing code for time and frequency domain plots) ...\n",
    "#     # Extract the first trace (assuming the file has multiple traces)\n",
    "#     trace = st[0]\n",
    "#     data = trace.data\n",
    "#     sampling_rate = trace.stats.sampling_rate\n",
    "\n",
    "#     # Create a time axis for the time-domain plot\n",
    "#     time = np.linspace(0, len(data) / sampling_rate, num=len(data))\n",
    "\n",
    "#     # FFT of the signal\n",
    "#     N = len(data)\n",
    "#     fft_values = fft(data)\n",
    "#     fft_frequencies = fftfreq(N, 1/sampling_rate)\n",
    "\n",
    "#      # Only plot the positive half of frequencies\n",
    "#     positive_frequencies = fft_frequencies[:N//2]\n",
    "#     positive_fft_values = np.abs(fft_values[:N//2])\n",
    "\n",
    "#     # Find the frequency with the largest amplitude\n",
    "#     max_amplitude_index = np.argmax(positive_fft_values)\n",
    "#     max_amplitude_frequency = positive_frequencies[max_amplitude_index]\n",
    "\n",
    "#     # Calculate the corresponding time stamp (assuming a sinusoidal wave)\n",
    "#     # This is a simplification and might need to be adjusted based on the signal's nature\n",
    "#     period = 1 / max_amplitude_frequency\n",
    "#     time_stamp = time[np.argmax(data)] # Assuming the peak of the time-domain signal corresponds to the max freq peak\n",
    "\n",
    "#     # mean forward deviation\n",
    "#     time_stamp -= 661;\n",
    "\n",
    "#     # Calculate the actual time stamp\n",
    "#     #actual_time = cat.iloc[ROW_NUM]['time_rel(sec)']\n",
    "#     #deviations.append(time_stamp - actual_time)\n",
    "\n",
    "#     # Mark the time stamp on the time domain plot\n",
    "#     plt.figure(figsize=(12, 6))\n",
    "#     plt.subplot(2, 1, 1)\n",
    "#     plt.plot(time, data, color='blue')\n",
    "#     plt.title(\"Seismic Signal in the Time Domain for \" + filename)\n",
    "#     plt.xlabel(\"Time (s)\")\n",
    "#     plt.ylabel(\"Amplitude\")\n",
    "#     plt.grid(True)\n",
    "#     plt.axvline(x=time_stamp, color='purple', linestyle='solid', label=f'Predicted: {time_stamp:.2f}s')\n",
    "#     #plt.axvline(x=actual_time, color='red', linestyle='solid', label=f'Actual: {actual_time:.2f}s')\n",
    "#     plt.legend()\n",
    "\n",
    "\n",
    "#     # ... (Your existing code for frequency domain plot and saving) ...\n",
    "#     # Frequency Domain Plot\n",
    "#     plt.subplot(2, 1, 2)\n",
    "#     plt.plot(positive_frequencies, positive_fft_values, color='red')\n",
    "#     plt.title(\"FFT of the Seismic Signal\")\n",
    "#     plt.xlabel(\"Frequency (Hz)\")\n",
    "#     plt.ylabel(\"Amplitude\")\n",
    "#     plt.grid(True)\n",
    "\n",
    "#     # Display the plots\n",
    "#     plt.tight_layout()\n",
    "#     plt.show()\n",
    "\n",
    "#     #plt.savefig(output_directory + filename + '_fft.png', bbox_inches='tight')  # Save the figure\n",
    "#     plt.close()\n"
   ]
  },
  {
   "cell_type": "code",
   "execution_count": 93,
   "metadata": {},
   "outputs": [],
   "source": [
    "# deviations = []\n",
    "# counter = 0\n",
    "# for filename in os.listdir(data_directory):\n",
    "#     counter +=1\n",
    "#     if counter == 1:\n",
    "#         break\n",
    "#     if filename.endswith('.mseed'):\n",
    "#         mseed_file = os.path.join(data_directory, filename)\n",
    "#         st = read(mseed_file)  # Read the seismic data\n",
    "#         file_no_ext = os.path.splitext(filename)[0]\n",
    "\n",
    "#         # copy paste all the code here\n",
    "#         FILE = file_no_ext\n",
    "#         FILE_PATH = '/content/partitioned_data/mseed/' + FILE + '.mseed'\n",
    "#         #ROW_NUM = cat[cat['filename'] == FILE].index[0]\n",
    "\n",
    "#         process_mseed_fft_test(st, file_no_ext)"
   ]
  },
  {
   "cell_type": "markdown",
   "metadata": {},
   "source": [
    "# Single predict blah blah blah"
   ]
  },
  {
   "cell_type": "markdown",
   "metadata": {},
   "source": [
    "explaining our methods briefly, steven will write\n",
    "-> let them know from now on we will use images -> but we will link the google collab here"
   ]
  },
  {
   "cell_type": "markdown",
   "metadata": {},
   "source": [
    "Here is the link to the google Colab: #link\n"
   ]
  },
  {
   "cell_type": "markdown",
   "metadata": {},
   "source": [
    "Below is for test data,\n",
    "Write more write more\n",
    "Below is for test data,\n",
    "Write more write more\n",
    "Below is for test data,\n",
    "Write more write more\n"
   ]
  },
  {
   "cell_type": "markdown",
   "metadata": {},
   "source": [
    "<p>This is from S12 grade A folder </p>\n",
    "<img src = \"./img_lunar/xa.s12.00.mhz.1969-12-16HR00_evid00006.png\" width = \"50%\"/>\n",
    "  <figcaption>Fig.1 - xa.s12.00.mhz.1969-12-16HR00_evid00006</figcaption>\n",
    "<img src = \"./img_lunar/xa.s12.00.mhz.1970-03-14HR00_evid00018.png\"  width = \"50%\"/>\n",
    "  <figcaption>Fig.2 -xa.s12.00.mhz.1970-03-14HR00_evid00018</figcaption>\n",
    "<img src = \"./img_lunar/xa.s12.00.mhz.1970-03-30HR00_evid00020.png\"  width = \"50%\"/>\n",
    "  <figcaption>Fig.3 - xa.s12.00.mhz.1970-03-30HR00_evid00020</figcaption>"
   ]
  },
  {
   "cell_type": "markdown",
   "metadata": {},
   "source": [
    "# Multi-predict blah blah blah"
   ]
  },
  {
   "cell_type": "markdown",
   "metadata": {},
   "source": [
    "explaination explaination explaination explaination explaination explaination explaination explaination explaination "
   ]
  },
  {
   "cell_type": "markdown",
   "metadata": {},
   "source": [
    "This is from S12_grade B test folder:\n",
    "\n",
    "\n",
    "link to drive:\n",
    "\n",
    "link to collab:\n",
    "\n",
    "<img src = \"./img_lunar/xa.s12.00.mhz.1969-12-16HR00_evid00006.png\" width = \"50%\"/>\n",
    "<img src = \"./img_lunar/xa.s12.00.mhz.1970-03-14HR00_evid00018.png\" width = \"50%\"/>\n",
    "<img src = \"./img_lunar/xa.s12.00.mhz.1970-03-30HR00_evid00020.png\" width = \"50%\"/>"
   ]
  },
  {
   "cell_type": "markdown",
   "metadata": {},
   "source": [
    "# We also implement an RNN model on the Lunar Data"
   ]
  },
  {
   "cell_type": "markdown",
   "metadata": {},
   "source": [
<<<<<<< HEAD
    "\n",
    "\n",
    "HERE IS LINK TO NOTEBOOK: <a href = \"https://colab.research.google.com/drive/1w5Iw-ITRmTJXxSjr1oZ1Z01BTk18D1Lo?usp=sharing\"> LINK TO NOTEBOOK </a>\n",
    "(can also be found on our repo or drive)"
   ]
  },
  {
   "cell_type": "code",
   "execution_count": 134,
   "metadata": {},
   "outputs": [
    {
     "data": {
      "image/png": "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",
      "text/plain": [
       "<Figure size 1200x800 with 2 Axes>"
      ]
     },
     "metadata": {},
     "output_type": "display_data"
    }
   ],
   "source": [
    "import pandas as pd\n",
    "import matplotlib.pyplot as plt\n",
    "import seaborn as sns\n",
    "\n",
    "# Load the CSV file (adjust the file path if needed)\n",
    "file_path = 'lunar_s16_GradeA'  # Add '.csv' if necessary\n",
    "data = pd.read_csv(file_path)\n",
    "\n",
    "# Set up the seaborn style for better aesthetics\n",
    "sns.set(style='whitegrid')\n",
    "\n",
    "# Plotting closest_interval against predicted_time\n",
    "plt.figure(figsize=(12, 8))\n",
    "scatter = plt.scatter(data['predicted_time'], data['closest_interval'], \n",
    "                      c=data['closest_interval'], cmap='viridis', s=100, alpha=0.7, edgecolor='k')\n",
    "\n",
    "# Adding color bar\n",
    "cbar = plt.colorbar(scatter)\n",
    "cbar.set_label('Closest Interval')\n",
    "\n",
    "# Titles and labels\n",
    "plt.title('Lunar Seismology: Closest Interval vs Predicted Time', fontsize=16)\n",
    "plt.xlabel('Predicted Time', fontsize=14)\n",
    "plt.ylabel('Closest Interval', fontsize=14)\n",
    "\n",
    "# Show plot\n",
    "plt.tight_layout()\n",
    "plt.show()\n",
    "\n",
    "\n"
=======
    "explain explain explain \n",
    "Link to colab: "
>>>>>>> c11dbff8c0c4f7b3c31db8d9542a29286f644c51
   ]
  },
  {
   "cell_type": "markdown",
   "metadata": {},
   "source": [
<<<<<<< HEAD
    "# Exploring MARS Data\n",
    "PLEASE VISIT THIS LINK TO TAKE A CLOSER LOOK AT THE CLEANED DATA SIGNAL\n",
    ": <a href=\"https://colab.research.google.com/drive/1NVrXHXKNNDE1rpAlhxKB5gYXC20EHz7Z#scrollTo=7e033b67\"> LINK </a>\n"
   ]
  },
  {
   "cell_type": "code",
   "execution_count": 135,
   "metadata": {},
   "outputs": [],
   "source": [
    "# data paths\n",
    "cat_file = './Mars_InSight_training_catalog_final.csv'\n",
    "cat = pd.read_csv(cat_file)"
   ]
  },
  {
   "cell_type": "code",
   "execution_count": 136,
   "metadata": {},
   "outputs": [],
   "source": [
    "mseedfile = \"XB.ELYSE.02.BHV.M.2022.002.040000_evid0006.mseed\"\n",
    "st = read(mseed_file)"
   ]
  },
  {
   "cell_type": "code",
   "execution_count": 137,
   "metadata": {},
   "outputs": [
    {
     "data": {
      "text/html": [
       "<script type=\"esms-options\">{\"shimMode\": true}</script><style>*[data-root-id],\n",
       "*[data-root-id] > * {\n",
       "  box-sizing: border-box;\n",
       "  font-family: var(--jp-ui-font-family);\n",
       "  font-size: var(--jp-ui-font-size1);\n",
       "  color: var(--vscode-editor-foreground, var(--jp-ui-font-color1));\n",
       "}\n",
       "\n",
       "/* Override VSCode background color */\n",
       ".cell-output-ipywidget-background:has(\n",
       "    > .cell-output-ipywidget-background > .lm-Widget > *[data-root-id]\n",
       "  ),\n",
       ".cell-output-ipywidget-background:has(> .lm-Widget > *[data-root-id]) {\n",
       "  background-color: transparent !important;\n",
       "}\n",
       "</style>"
      ]
     },
     "metadata": {},
     "output_type": "display_data"
    },
    {
     "data": {
      "application/javascript": "(function(root) {\n  function now() {\n    return new Date();\n  }\n\n  const force = true;\n  const py_version = '3.6.0'.replace('rc', '-rc.').replace('.dev', '-dev.');\n  const reloading = false;\n  const Bokeh = root.Bokeh;\n\n  // Set a timeout for this load but only if we are not already initializing\n  if (typeof (root._bokeh_timeout) === \"undefined\" || (force || !root._bokeh_is_initializing)) {\n    root._bokeh_timeout = Date.now() + 5000;\n    root._bokeh_failed_load = false;\n  }\n\n  function run_callbacks() {\n    try {\n      root._bokeh_onload_callbacks.forEach(function(callback) {\n        if (callback != null)\n          callback();\n      });\n    } finally {\n      delete root._bokeh_onload_callbacks;\n    }\n    console.debug(\"Bokeh: all callbacks have finished\");\n  }\n\n  function load_libs(css_urls, js_urls, js_modules, js_exports, callback) {\n    if (css_urls == null) css_urls = [];\n    if (js_urls == null) js_urls = [];\n    if (js_modules == null) js_modules = [];\n    if (js_exports == null) js_exports = {};\n\n    root._bokeh_onload_callbacks.push(callback);\n\n    if (root._bokeh_is_loading > 0) {\n      // Don't load bokeh if it is still initializing\n      console.debug(\"Bokeh: BokehJS is being loaded, scheduling callback at\", now());\n      return null;\n    } else if (js_urls.length === 0 && js_modules.length === 0 && Object.keys(js_exports).length === 0) {\n      // There is nothing to load\n      run_callbacks();\n      return null;\n    }\n\n    function on_load() {\n      root._bokeh_is_loading--;\n      if (root._bokeh_is_loading === 0) {\n        console.debug(\"Bokeh: all BokehJS libraries/stylesheets loaded\");\n        run_callbacks()\n      }\n    }\n    window._bokeh_on_load = on_load\n\n    function on_error(e) {\n      const src_el = e.srcElement\n      console.error(\"failed to load \" + (src_el.href || src_el.src));\n    }\n\n    const skip = [];\n    if (window.requirejs) {\n      window.requirejs.config({'packages': {}, 'paths': {}, 'shim': {}});\n      root._bokeh_is_loading = css_urls.length + 0;\n    } else {\n      root._bokeh_is_loading = css_urls.length + js_urls.length + js_modules.length + Object.keys(js_exports).length;\n    }\n\n    const existing_stylesheets = []\n    const links = document.getElementsByTagName('link')\n    for (let i = 0; i < links.length; i++) {\n      const link = links[i]\n      if (link.href != null) {\n        existing_stylesheets.push(link.href)\n      }\n    }\n    for (let i = 0; i < css_urls.length; i++) {\n      const url = css_urls[i];\n      const escaped = encodeURI(url)\n      if (existing_stylesheets.indexOf(escaped) !== -1) {\n        on_load()\n        continue;\n      }\n      const element = document.createElement(\"link\");\n      element.onload = on_load;\n      element.onerror = on_error;\n      element.rel = \"stylesheet\";\n      element.type = \"text/css\";\n      element.href = url;\n      console.debug(\"Bokeh: injecting link tag for BokehJS stylesheet: \", url);\n      document.body.appendChild(element);\n    }    var existing_scripts = []\n    const scripts = document.getElementsByTagName('script')\n    for (let i = 0; i < scripts.length; i++) {\n      var script = scripts[i]\n      if (script.src != null) {\n        existing_scripts.push(script.src)\n      }\n    }\n    for (let i = 0; i < js_urls.length; i++) {\n      const url = js_urls[i];\n      const escaped = encodeURI(url)\n      if (skip.indexOf(escaped) !== -1 || existing_scripts.indexOf(escaped) !== -1) {\n        if (!window.requirejs) {\n          on_load();\n        }\n        continue;\n      }\n      const element = document.createElement('script');\n      element.onload = on_load;\n      element.onerror = on_error;\n      element.async = false;\n      element.src = url;\n      console.debug(\"Bokeh: injecting script tag for BokehJS library: \", url);\n      document.head.appendChild(element);\n    }\n    for (let i = 0; i < js_modules.length; i++) {\n      const url = js_modules[i];\n      const escaped = encodeURI(url)\n      if (skip.indexOf(escaped) !== -1 || existing_scripts.indexOf(escaped) !== -1) {\n        if (!window.requirejs) {\n          on_load();\n        }\n        continue;\n      }\n      var element = document.createElement('script');\n      element.onload = on_load;\n      element.onerror = on_error;\n      element.async = false;\n      element.src = url;\n      element.type = \"module\";\n      console.debug(\"Bokeh: injecting script tag for BokehJS library: \", url);\n      document.head.appendChild(element);\n    }\n    for (const name in js_exports) {\n      const url = js_exports[name];\n      const escaped = encodeURI(url)\n      if (skip.indexOf(escaped) >= 0 || root[name] != null) {\n        if (!window.requirejs) {\n          on_load();\n        }\n        continue;\n      }\n      var element = document.createElement('script');\n      element.onerror = on_error;\n      element.async = false;\n      element.type = \"module\";\n      console.debug(\"Bokeh: injecting script tag for BokehJS library: \", url);\n      element.textContent = `\n      import ${name} from \"${url}\"\n      window.${name} = ${name}\n      window._bokeh_on_load()\n      `\n      document.head.appendChild(element);\n    }\n    if (!js_urls.length && !js_modules.length) {\n      on_load()\n    }\n  };\n\n  function inject_raw_css(css) {\n    const element = document.createElement(\"style\");\n    element.appendChild(document.createTextNode(css));\n    document.body.appendChild(element);\n  }\n\n  const js_urls = [\"https://cdn.holoviz.org/panel/1.5.2/dist/bundled/reactiveesm/es-module-shims@^1.10.0/dist/es-module-shims.min.js\", \"https://cdn.bokeh.org/bokeh/release/bokeh-3.6.0.min.js\", \"https://cdn.bokeh.org/bokeh/release/bokeh-gl-3.6.0.min.js\", \"https://cdn.bokeh.org/bokeh/release/bokeh-widgets-3.6.0.min.js\", \"https://cdn.bokeh.org/bokeh/release/bokeh-tables-3.6.0.min.js\", \"https://cdn.holoviz.org/panel/1.5.2/dist/panel.min.js\"];\n  const js_modules = [];\n  const js_exports = {};\n  const css_urls = [];\n  const inline_js = [    function(Bokeh) {\n      Bokeh.set_log_level(\"info\");\n    },\nfunction(Bokeh) {} // ensure no trailing comma for IE\n  ];\n\n  function run_inline_js() {\n    if ((root.Bokeh !== undefined) || (force === true)) {\n      for (let i = 0; i < inline_js.length; i++) {\n        try {\n          inline_js[i].call(root, root.Bokeh);\n        } catch(e) {\n          if (!reloading) {\n            throw e;\n          }\n        }\n      }\n      // Cache old bokeh versions\n      if (Bokeh != undefined && !reloading) {\n        var NewBokeh = root.Bokeh;\n        if (Bokeh.versions === undefined) {\n          Bokeh.versions = new Map();\n        }\n        if (NewBokeh.version !== Bokeh.version) {\n          Bokeh.versions.set(NewBokeh.version, NewBokeh)\n        }\n        root.Bokeh = Bokeh;\n      }\n    } else if (Date.now() < root._bokeh_timeout) {\n      setTimeout(run_inline_js, 100);\n    } else if (!root._bokeh_failed_load) {\n      console.log(\"Bokeh: BokehJS failed to load within specified timeout.\");\n      root._bokeh_failed_load = true;\n    }\n    root._bokeh_is_initializing = false\n  }\n\n  function load_or_wait() {\n    // Implement a backoff loop that tries to ensure we do not load multiple\n    // versions of Bokeh and its dependencies at the same time.\n    // In recent versions we use the root._bokeh_is_initializing flag\n    // to determine whether there is an ongoing attempt to initialize\n    // bokeh, however for backward compatibility we also try to ensure\n    // that we do not start loading a newer (Panel>=1.0 and Bokeh>3) version\n    // before older versions are fully initialized.\n    if (root._bokeh_is_initializing && Date.now() > root._bokeh_timeout) {\n      // If the timeout and bokeh was not successfully loaded we reset\n      // everything and try loading again\n      root._bokeh_timeout = Date.now() + 5000;\n      root._bokeh_is_initializing = false;\n      root._bokeh_onload_callbacks = undefined;\n      root._bokeh_is_loading = 0\n      console.log(\"Bokeh: BokehJS was loaded multiple times but one version failed to initialize.\");\n      load_or_wait();\n    } else if (root._bokeh_is_initializing || (typeof root._bokeh_is_initializing === \"undefined\" && root._bokeh_onload_callbacks !== undefined)) {\n      setTimeout(load_or_wait, 100);\n    } else {\n      root._bokeh_is_initializing = true\n      root._bokeh_onload_callbacks = []\n      const bokeh_loaded = root.Bokeh != null && (root.Bokeh.version === py_version || (root.Bokeh.versions !== undefined && root.Bokeh.versions.has(py_version)));\n      if (!reloading && !bokeh_loaded) {\n        if (root.Bokeh) {\n          root.Bokeh = undefined;\n        }\n        console.debug(\"Bokeh: BokehJS not loaded, scheduling load and callback at\", now());\n      }\n      load_libs(css_urls, js_urls, js_modules, js_exports, function() {\n        console.debug(\"Bokeh: BokehJS plotting callback run at\", now());\n        run_inline_js();\n      });\n    }\n  }\n  // Give older versions of the autoload script a head-start to ensure\n  // they initialize before we start loading newer version.\n  setTimeout(load_or_wait, 100)\n}(window));",
      "application/vnd.holoviews_load.v0+json": ""
     },
     "metadata": {},
     "output_type": "display_data"
    },
    {
     "data": {
      "application/javascript": "\nif ((window.PyViz === undefined) || (window.PyViz instanceof HTMLElement)) {\n  window.PyViz = {comms: {}, comm_status:{}, kernels:{}, receivers: {}, plot_index: []}\n}\n\n\n    function JupyterCommManager() {\n    }\n\n    JupyterCommManager.prototype.register_target = function(plot_id, comm_id, msg_handler) {\n      if (window.comm_manager || ((window.Jupyter !== undefined) && (Jupyter.notebook.kernel != null))) {\n        var comm_manager = window.comm_manager || Jupyter.notebook.kernel.comm_manager;\n        comm_manager.register_target(comm_id, function(comm) {\n          comm.on_msg(msg_handler);\n        });\n      } else if ((plot_id in window.PyViz.kernels) && (window.PyViz.kernels[plot_id])) {\n        window.PyViz.kernels[plot_id].registerCommTarget(comm_id, function(comm) {\n          comm.onMsg = msg_handler;\n        });\n      } else if (typeof google != 'undefined' && google.colab.kernel != null) {\n        google.colab.kernel.comms.registerTarget(comm_id, (comm) => {\n          var messages = comm.messages[Symbol.asyncIterator]();\n          function processIteratorResult(result) {\n            var message = result.value;\n            console.log(message)\n            var content = {data: message.data, comm_id};\n            var buffers = []\n            for (var buffer of message.buffers || []) {\n              buffers.push(new DataView(buffer))\n            }\n            var metadata = message.metadata || {};\n            var msg = {content, buffers, metadata}\n            msg_handler(msg);\n            return messages.next().then(processIteratorResult);\n          }\n          return messages.next().then(processIteratorResult);\n        })\n      }\n    }\n\n    JupyterCommManager.prototype.get_client_comm = function(plot_id, comm_id, msg_handler) {\n      if (comm_id in window.PyViz.comms) {\n        return window.PyViz.comms[comm_id];\n      } else if (window.comm_manager || ((window.Jupyter !== undefined) && (Jupyter.notebook.kernel != null))) {\n        var comm_manager = window.comm_manager || Jupyter.notebook.kernel.comm_manager;\n        var comm = comm_manager.new_comm(comm_id, {}, {}, {}, comm_id);\n        if (msg_handler) {\n          comm.on_msg(msg_handler);\n        }\n      } else if ((plot_id in window.PyViz.kernels) && (window.PyViz.kernels[plot_id])) {\n        var comm = window.PyViz.kernels[plot_id].connectToComm(comm_id);\n        comm.open();\n        if (msg_handler) {\n          comm.onMsg = msg_handler;\n        }\n      } else if (typeof google != 'undefined' && google.colab.kernel != null) {\n        var comm_promise = google.colab.kernel.comms.open(comm_id)\n        comm_promise.then((comm) => {\n          window.PyViz.comms[comm_id] = comm;\n          if (msg_handler) {\n            var messages = comm.messages[Symbol.asyncIterator]();\n            function processIteratorResult(result) {\n              var message = result.value;\n              var content = {data: message.data};\n              var metadata = message.metadata || {comm_id};\n              var msg = {content, metadata}\n              msg_handler(msg);\n              return messages.next().then(processIteratorResult);\n            }\n            return messages.next().then(processIteratorResult);\n          }\n        }) \n        var sendClosure = (data, metadata, buffers, disposeOnDone) => {\n          return comm_promise.then((comm) => {\n            comm.send(data, metadata, buffers, disposeOnDone);\n          });\n        };\n        var comm = {\n          send: sendClosure\n        };\n      }\n      window.PyViz.comms[comm_id] = comm;\n      return comm;\n    }\n    window.PyViz.comm_manager = new JupyterCommManager();\n    \n\n\nvar JS_MIME_TYPE = 'application/javascript';\nvar HTML_MIME_TYPE = 'text/html';\nvar EXEC_MIME_TYPE = 'application/vnd.holoviews_exec.v0+json';\nvar CLASS_NAME = 'output';\n\n/**\n * Render data to the DOM node\n */\nfunction render(props, node) {\n  var div = document.createElement(\"div\");\n  var script = document.createElement(\"script\");\n  node.appendChild(div);\n  node.appendChild(script);\n}\n\n/**\n * Handle when a new output is added\n */\nfunction handle_add_output(event, handle) {\n  var output_area = handle.output_area;\n  var output = handle.output;\n  if ((output.data == undefined) || (!output.data.hasOwnProperty(EXEC_MIME_TYPE))) {\n    return\n  }\n  var id = output.metadata[EXEC_MIME_TYPE][\"id\"];\n  var toinsert = output_area.element.find(\".\" + CLASS_NAME.split(' ')[0]);\n  if (id !== undefined) {\n    var nchildren = toinsert.length;\n    var html_node = toinsert[nchildren-1].children[0];\n    html_node.innerHTML = output.data[HTML_MIME_TYPE];\n    var scripts = [];\n    var nodelist = html_node.querySelectorAll(\"script\");\n    for (var i in nodelist) {\n      if (nodelist.hasOwnProperty(i)) {\n        scripts.push(nodelist[i])\n      }\n    }\n\n    scripts.forEach( function (oldScript) {\n      var newScript = document.createElement(\"script\");\n      var attrs = [];\n      var nodemap = oldScript.attributes;\n      for (var j in nodemap) {\n        if (nodemap.hasOwnProperty(j)) {\n          attrs.push(nodemap[j])\n        }\n      }\n      attrs.forEach(function(attr) { newScript.setAttribute(attr.name, attr.value) });\n      newScript.appendChild(document.createTextNode(oldScript.innerHTML));\n      oldScript.parentNode.replaceChild(newScript, oldScript);\n    });\n    if (JS_MIME_TYPE in output.data) {\n      toinsert[nchildren-1].children[1].textContent = output.data[JS_MIME_TYPE];\n    }\n    output_area._hv_plot_id = id;\n    if ((window.Bokeh !== undefined) && (id in Bokeh.index)) {\n      window.PyViz.plot_index[id] = Bokeh.index[id];\n    } else {\n      window.PyViz.plot_index[id] = null;\n    }\n  } else if (output.metadata[EXEC_MIME_TYPE][\"server_id\"] !== undefined) {\n    var bk_div = document.createElement(\"div\");\n    bk_div.innerHTML = output.data[HTML_MIME_TYPE];\n    var script_attrs = bk_div.children[0].attributes;\n    for (var i = 0; i < script_attrs.length; i++) {\n      toinsert[toinsert.length - 1].childNodes[1].setAttribute(script_attrs[i].name, script_attrs[i].value);\n    }\n    // store reference to server id on output_area\n    output_area._bokeh_server_id = output.metadata[EXEC_MIME_TYPE][\"server_id\"];\n  }\n}\n\n/**\n * Handle when an output is cleared or removed\n */\nfunction handle_clear_output(event, handle) {\n  var id = handle.cell.output_area._hv_plot_id;\n  var server_id = handle.cell.output_area._bokeh_server_id;\n  if (((id === undefined) || !(id in PyViz.plot_index)) && (server_id !== undefined)) { return; }\n  var comm = window.PyViz.comm_manager.get_client_comm(\"hv-extension-comm\", \"hv-extension-comm\", function () {});\n  if (server_id !== null) {\n    comm.send({event_type: 'server_delete', 'id': server_id});\n    return;\n  } else if (comm !== null) {\n    comm.send({event_type: 'delete', 'id': id});\n  }\n  delete PyViz.plot_index[id];\n  if ((window.Bokeh !== undefined) & (id in window.Bokeh.index)) {\n    var doc = window.Bokeh.index[id].model.document\n    doc.clear();\n    const i = window.Bokeh.documents.indexOf(doc);\n    if (i > -1) {\n      window.Bokeh.documents.splice(i, 1);\n    }\n  }\n}\n\n/**\n * Handle kernel restart event\n */\nfunction handle_kernel_cleanup(event, handle) {\n  delete PyViz.comms[\"hv-extension-comm\"];\n  window.PyViz.plot_index = {}\n}\n\n/**\n * Handle update_display_data messages\n */\nfunction handle_update_output(event, handle) {\n  handle_clear_output(event, {cell: {output_area: handle.output_area}})\n  handle_add_output(event, handle)\n}\n\nfunction register_renderer(events, OutputArea) {\n  function append_mime(data, metadata, element) {\n    // create a DOM node to render to\n    var toinsert = this.create_output_subarea(\n    metadata,\n    CLASS_NAME,\n    EXEC_MIME_TYPE\n    );\n    this.keyboard_manager.register_events(toinsert);\n    // Render to node\n    var props = {data: data, metadata: metadata[EXEC_MIME_TYPE]};\n    render(props, toinsert[0]);\n    element.append(toinsert);\n    return toinsert\n  }\n\n  events.on('output_added.OutputArea', handle_add_output);\n  events.on('output_updated.OutputArea', handle_update_output);\n  events.on('clear_output.CodeCell', handle_clear_output);\n  events.on('delete.Cell', handle_clear_output);\n  events.on('kernel_ready.Kernel', handle_kernel_cleanup);\n\n  OutputArea.prototype.register_mime_type(EXEC_MIME_TYPE, append_mime, {\n    safe: true,\n    index: 0\n  });\n}\n\nif (window.Jupyter !== undefined) {\n  try {\n    var events = require('base/js/events');\n    var OutputArea = require('notebook/js/outputarea').OutputArea;\n    if (OutputArea.prototype.mime_types().indexOf(EXEC_MIME_TYPE) == -1) {\n      register_renderer(events, OutputArea);\n    }\n  } catch(err) {\n  }\n}\n",
      "application/vnd.holoviews_load.v0+json": ""
     },
     "metadata": {},
     "output_type": "display_data"
    },
    {
     "data": {
      "application/vnd.holoviews_exec.v0+json": "",
      "text/html": [
       "<div id='p1885'>\n",
       "  <div id=\"e5e3379a-6dde-4e16-8b93-352751517a52\" data-root-id=\"p1885\" style=\"display: contents;\"></div>\n",
       "</div>\n",
       "<script type=\"application/javascript\">(function(root) {\n",
       "  var docs_json = {\"1a85d7c1-fd3f-48f4-b8da-08dd16f75275\":{\"version\":\"3.6.0\",\"title\":\"Bokeh Application\",\"roots\":[{\"type\":\"object\",\"name\":\"panel.models.browser.BrowserInfo\",\"id\":\"p1885\"},{\"type\":\"object\",\"name\":\"panel.models.comm_manager.CommManager\",\"id\":\"p1886\",\"attributes\":{\"plot_id\":\"p1885\",\"comm_id\":\"f3e8d1cc08664f2190d6586718d59779\",\"client_comm_id\":\"a572499a23b24e8f93448854f266dbdc\"}}],\"defs\":[{\"type\":\"model\",\"name\":\"ReactiveHTML1\"},{\"type\":\"model\",\"name\":\"FlexBox1\",\"properties\":[{\"name\":\"align_content\",\"kind\":\"Any\",\"default\":\"flex-start\"},{\"name\":\"align_items\",\"kind\":\"Any\",\"default\":\"flex-start\"},{\"name\":\"flex_direction\",\"kind\":\"Any\",\"default\":\"row\"},{\"name\":\"flex_wrap\",\"kind\":\"Any\",\"default\":\"wrap\"},{\"name\":\"gap\",\"kind\":\"Any\",\"default\":\"\"},{\"name\":\"justify_content\",\"kind\":\"Any\",\"default\":\"flex-start\"}]},{\"type\":\"model\",\"name\":\"FloatPanel1\",\"properties\":[{\"name\":\"config\",\"kind\":\"Any\",\"default\":{\"type\":\"map\"}},{\"name\":\"contained\",\"kind\":\"Any\",\"default\":true},{\"name\":\"position\",\"kind\":\"Any\",\"default\":\"right-top\"},{\"name\":\"offsetx\",\"kind\":\"Any\",\"default\":null},{\"name\":\"offsety\",\"kind\":\"Any\",\"default\":null},{\"name\":\"theme\",\"kind\":\"Any\",\"default\":\"primary\"},{\"name\":\"status\",\"kind\":\"Any\",\"default\":\"normalized\"}]},{\"type\":\"model\",\"name\":\"GridStack1\",\"properties\":[{\"name\":\"mode\",\"kind\":\"Any\",\"default\":\"warn\"},{\"name\":\"ncols\",\"kind\":\"Any\",\"default\":null},{\"name\":\"nrows\",\"kind\":\"Any\",\"default\":null},{\"name\":\"allow_resize\",\"kind\":\"Any\",\"default\":true},{\"name\":\"allow_drag\",\"kind\":\"Any\",\"default\":true},{\"name\":\"state\",\"kind\":\"Any\",\"default\":[]}]},{\"type\":\"model\",\"name\":\"drag1\",\"properties\":[{\"name\":\"slider_width\",\"kind\":\"Any\",\"default\":5},{\"name\":\"slider_color\",\"kind\":\"Any\",\"default\":\"black\"},{\"name\":\"value\",\"kind\":\"Any\",\"default\":50}]},{\"type\":\"model\",\"name\":\"click1\",\"properties\":[{\"name\":\"terminal_output\",\"kind\":\"Any\",\"default\":\"\"},{\"name\":\"debug_name\",\"kind\":\"Any\",\"default\":\"\"},{\"name\":\"clears\",\"kind\":\"Any\",\"default\":0}]},{\"type\":\"model\",\"name\":\"FastWrapper1\",\"properties\":[{\"name\":\"object\",\"kind\":\"Any\",\"default\":null},{\"name\":\"style\",\"kind\":\"Any\",\"default\":null}]},{\"type\":\"model\",\"name\":\"NotificationAreaBase1\",\"properties\":[{\"name\":\"js_events\",\"kind\":\"Any\",\"default\":{\"type\":\"map\"}},{\"name\":\"position\",\"kind\":\"Any\",\"default\":\"bottom-right\"},{\"name\":\"_clear\",\"kind\":\"Any\",\"default\":0}]},{\"type\":\"model\",\"name\":\"NotificationArea1\",\"properties\":[{\"name\":\"js_events\",\"kind\":\"Any\",\"default\":{\"type\":\"map\"}},{\"name\":\"notifications\",\"kind\":\"Any\",\"default\":[]},{\"name\":\"position\",\"kind\":\"Any\",\"default\":\"bottom-right\"},{\"name\":\"_clear\",\"kind\":\"Any\",\"default\":0},{\"name\":\"types\",\"kind\":\"Any\",\"default\":[{\"type\":\"map\",\"entries\":[[\"type\",\"warning\"],[\"background\",\"#ffc107\"],[\"icon\",{\"type\":\"map\",\"entries\":[[\"className\",\"fas fa-exclamation-triangle\"],[\"tagName\",\"i\"],[\"color\",\"white\"]]}]]},{\"type\":\"map\",\"entries\":[[\"type\",\"info\"],[\"background\",\"#007bff\"],[\"icon\",{\"type\":\"map\",\"entries\":[[\"className\",\"fas fa-info-circle\"],[\"tagName\",\"i\"],[\"color\",\"white\"]]}]]}]}]},{\"type\":\"model\",\"name\":\"Notification\",\"properties\":[{\"name\":\"background\",\"kind\":\"Any\",\"default\":null},{\"name\":\"duration\",\"kind\":\"Any\",\"default\":3000},{\"name\":\"icon\",\"kind\":\"Any\",\"default\":null},{\"name\":\"message\",\"kind\":\"Any\",\"default\":\"\"},{\"name\":\"notification_type\",\"kind\":\"Any\",\"default\":null},{\"name\":\"_destroyed\",\"kind\":\"Any\",\"default\":false}]},{\"type\":\"model\",\"name\":\"TemplateActions1\",\"properties\":[{\"name\":\"open_modal\",\"kind\":\"Any\",\"default\":0},{\"name\":\"close_modal\",\"kind\":\"Any\",\"default\":0}]},{\"type\":\"model\",\"name\":\"BootstrapTemplateActions1\",\"properties\":[{\"name\":\"open_modal\",\"kind\":\"Any\",\"default\":0},{\"name\":\"close_modal\",\"kind\":\"Any\",\"default\":0}]},{\"type\":\"model\",\"name\":\"TemplateEditor1\",\"properties\":[{\"name\":\"layout\",\"kind\":\"Any\",\"default\":[]}]},{\"type\":\"model\",\"name\":\"MaterialTemplateActions1\",\"properties\":[{\"name\":\"open_modal\",\"kind\":\"Any\",\"default\":0},{\"name\":\"close_modal\",\"kind\":\"Any\",\"default\":0}]},{\"type\":\"model\",\"name\":\"ReactiveESM1\"},{\"type\":\"model\",\"name\":\"JSComponent1\"},{\"type\":\"model\",\"name\":\"ReactComponent1\"},{\"type\":\"model\",\"name\":\"AnyWidgetComponent1\"},{\"type\":\"model\",\"name\":\"request_value1\",\"properties\":[{\"name\":\"fill\",\"kind\":\"Any\",\"default\":\"none\"},{\"name\":\"_synced\",\"kind\":\"Any\",\"default\":null},{\"name\":\"_request_sync\",\"kind\":\"Any\",\"default\":0}]}]}};\n",
       "  var render_items = [{\"docid\":\"1a85d7c1-fd3f-48f4-b8da-08dd16f75275\",\"roots\":{\"p1885\":\"e5e3379a-6dde-4e16-8b93-352751517a52\"},\"root_ids\":[\"p1885\"]}];\n",
       "  var docs = Object.values(docs_json)\n",
       "  if (!docs) {\n",
       "    return\n",
       "  }\n",
       "  const py_version = docs[0].version.replace('rc', '-rc.').replace('.dev', '-dev.')\n",
       "  async function embed_document(root) {\n",
       "    var Bokeh = get_bokeh(root)\n",
       "    await Bokeh.embed.embed_items_notebook(docs_json, render_items);\n",
       "    for (const render_item of render_items) {\n",
       "      for (const root_id of render_item.root_ids) {\n",
       "\tconst id_el = document.getElementById(root_id)\n",
       "\tif (id_el.children.length && id_el.children[0].hasAttribute('data-root-id')) {\n",
       "\t  const root_el = id_el.children[0]\n",
       "\t  root_el.id = root_el.id + '-rendered'\n",
       "\t  for (const child of root_el.children) {\n",
       "            // Ensure JupyterLab does not capture keyboard shortcuts\n",
       "            // see: https://jupyterlab.readthedocs.io/en/4.1.x/extension/notebook.html#keyboard-interaction-model\n",
       "\t    child.setAttribute('data-lm-suppress-shortcuts', 'true')\n",
       "\t  }\n",
       "\t}\n",
       "      }\n",
       "    }\n",
       "  }\n",
       "  function get_bokeh(root) {\n",
       "    if (root.Bokeh === undefined) {\n",
       "      return null\n",
       "    } else if (root.Bokeh.version !== py_version) {\n",
       "      if (root.Bokeh.versions === undefined || !root.Bokeh.versions.has(py_version)) {\n",
       "\treturn null\n",
       "      }\n",
       "      return root.Bokeh.versions.get(py_version);\n",
       "    } else if (root.Bokeh.version === py_version) {\n",
       "      return root.Bokeh\n",
       "    }\n",
       "    return null\n",
       "  }\n",
       "  function is_loaded(root) {\n",
       "    var Bokeh = get_bokeh(root)\n",
       "    return (Bokeh != null && Bokeh.Panel !== undefined)\n",
       "  }\n",
       "  if (is_loaded(root)) {\n",
       "    embed_document(root);\n",
       "  } else {\n",
       "    var attempts = 0;\n",
       "    var timer = setInterval(function(root) {\n",
       "      if (is_loaded(root)) {\n",
       "        clearInterval(timer);\n",
       "        embed_document(root);\n",
       "      } else if (document.readyState == \"complete\") {\n",
       "        attempts++;\n",
       "        if (attempts > 200) {\n",
       "          clearInterval(timer);\n",
       "\t  var Bokeh = get_bokeh(root)\n",
       "\t  if (Bokeh == null || Bokeh.Panel == null) {\n",
       "            console.warn(\"Panel: ERROR: Unable to run Panel code because Bokeh or Panel library is missing\");\n",
       "\t  } else {\n",
       "\t    console.warn(\"Panel: WARNING: Attempting to render but not all required libraries could be resolved.\")\n",
       "\t    embed_document(root)\n",
       "\t  }\n",
       "        }\n",
       "      }\n",
       "    }, 25, root)\n",
       "  }\n",
       "})(window);</script>"
      ]
     },
     "metadata": {
      "application/vnd.holoviews_exec.v0+json": {
       "id": "p1885"
      }
     },
     "output_type": "display_data"
    },
    {
     "data": {
      "text/html": [
       "\n",
       "<div class=\"logo-block\">\n",
       "<img src='data:image/png;base64,iVBORw0KGgoAAAANSUhEUgAAAEAAAABACAYAAACqaXHeAAAABHNCSVQICAgIfAhkiAAAAAlwSFlz\n",
       "AAAB+wAAAfsBxc2miwAAABl0RVh0U29mdHdhcmUAd3d3Lmlua3NjYXBlLm9yZ5vuPBoAAA6zSURB\n",
       "VHic7ZtpeFRVmsf/5966taWqUlUJ2UioBBJiIBAwCZtog9IOgjqACsogKtqirT2ttt069nQ/zDzt\n",
       "tI4+CrJIREFaFgWhBXpUNhHZQoKBkIUASchWla1S+3ar7r1nPkDaCAnZKoQP/D7mnPOe9/xy76n3\n",
       "nFSAW9ziFoPFNED2LLK5wcyBDObkb8ZkxuaoSYlI6ZcOKq1eWFdedqNzGHQBk9RMEwFAASkk0Xw3\n",
       "ETacDNi2vtvc7L0ROdw0AjoSotQVkKSvHQz/wRO1lScGModBFbDMaNRN1A4tUBCS3lk7BWhQkgpD\n",
       "lG4852/+7DWr1R3uHAZVQDsbh6ZPN7CyxUrCzJMRouusj0ipRwD2uKm0Zn5d2dFwzX1TCGhnmdGo\n",
       "G62Nna+isiUqhkzuKrkQaJlPEv5mFl2fvGg2t/VnzkEV8F5ioioOEWkLG86fvbpthynjdhXYZziQ\n",
       "x1hC9J2NFyi8vCTt91Fh04KGip0AaG9zuCk2wQCVyoNU3Hjezee9bq92duzzTmxsRJoy+jEZZZYo\n",
       "GTKJ6SJngdJqAfRzpze0+jHreUtPc7gpBLQnIYK6BYp/uGhw9YK688eu7v95ysgshcg9qSLMo3JC\n",
       "4jqLKQFBgdKDPoQ+Pltb8dUyQLpeDjeVgI6EgLIQFT5tEl3rn2losHVsexbZ3EyT9wE1uGdkIPcy\n",
       "BGxn8QUq1QrA5nqW5i2tLqvrrM9NK6AdkVIvL9E9bZL/oyfMVd/jqvc8LylzRBKDJSzIExwhQzuL\n",
       "QYGQj4rHfFTc8mUdu3E7yoLtbTe9gI4EqVgVkug2i5+uXGo919ixbRog+3fTbQ8qJe4ZOYNfMoTI\n",
       "OoshUNosgO60AisX15aeI2PSIp5KiFLI9ubb1vV3Qb2ltwLakUCDAkWX7/nHKRmmGIl9VgYsUhJm\n",
       "2NXjKYADtM1ygne9QQDIXlk49FBstMKx66D1v4+XuQr7vqTe0VcBHQlRWiOCbmmSYe2SqtL6q5rJ\n",
       "zsTb7lKx3FKOYC4DoqyS/B5bvLPxvD9Qtf6saxYLQGJErmDOdOMr/zo96km1nElr8bmPOBwI9COv\n",
       "HnFPRIwmkSOv9kcAS4heRsidOkpeWBgZM+UBrTFAXNYL5Vf2ii9c1trNzpYdaoVil3WIc+wdk+gQ\n",
       "noie3ecCcxt9ITcLAPWt/laGEO/9U6PmzZkenTtsSMQ8uYywJVW+grCstAvCIaAdArAsIWkRDDs/\n",
       "KzLm2YcjY1Lv0UdW73HabE9n6V66cxSzfEmuJssTpKGVp+0vHq73FwL46eOjpMpbRAnNmJFrGJNu\n",
       "Ukf9Yrz+3rghiumCKNXXWPhLYcjxGsIpoCMsIRoFITkW8AuyM8jC1+/QLx4bozCEJIq38+1rtpR6\n",
       "V/yzb8eBlRb3fo5l783N0CWolAzJHaVNzkrTzlEp2bQ2q3TC5gn6wpnoQAmwSiGh2GitnTmVMc5O\n",
       "UyfKWUKCIsU7+fZDKwqdT6DDpvkzAX4/+AMFjk0tDp5GRXLpQ2MUmhgDp5gxQT8+Y7hyPsMi8uxF\n",
       "71H0oebujHALECjFKaW9Lm68n18wXp2kVzIcABytD5iXFzg+WVXkegpAsOOYziqo0OkK76GyquC3\n",
       "ltZAzMhhqlSNmmWTE5T6e3IN05ITFLM4GdN0vtZ3ob8Jh1NAKXFbm5PtLU/eqTSlGjkNAJjdgn/N\n",
       "aedXa0tdi7+t9G0FIF49rtMSEgAs1kDLkTPO7ebm4IUWeyh1bKomXqlgMG6kJmHcSM0clYLJ8XtR\n",
       "1GTnbV3F6I5wCGikAb402npp1h1s7LQUZZSMIfALFOuL3UUrfnS8+rez7v9qcold5tilgHbO1fjK\n",
       "9ubb17u9oshxzMiUBKXWqJNxd+fqb0tLVs4lILFnK71H0Ind7uiPgACVcFJlrb0tV6DzxqqTIhUM\n",
       "CwDf1/rrVhTa33/3pGPxJYdQ2l2cbgVcQSosdx8uqnDtbGjh9SlDVSMNWhlnilfqZk42Th2ZpLpf\n",
       "xrHec5e815zrr0dfBZSwzkZfqsv+1FS1KUknUwPARVvItfKUY+cn57yP7qv07UE3p8B2uhUwLk09\n",
       "e0SCOrK+hbdYHYLjRIl71wWzv9jpEoeOHhGRrJAzyEyNiJuUqX0g2sBN5kGK6y2Blp5M3lsB9Qh4\n",
       "y2Ja6x6+i0ucmKgwMATwhSjdUu49tKrQ/pvN5d53ml2CGwCmJipmKjgmyuaXzNeL2a0AkQ01Th5j\n",
       "2DktO3Jyk8f9vcOBQHV94OK+fPumJmvQHxJoWkaKWq9Vs+yUsbq0zGT1I4RgeH2b5wef7+c7bl8F\n",
       "eKgoHVVZa8ZPEORzR6sT1BzDUAD/d9F78e2Tzv99v8D+fLVTqAKAsbGamKey1Mt9Ann4eH3gTXTz\n",
       "idWtAJ8PQWOk7NzSeQn/OTHDuEikVF1R4z8BQCy+6D1aWRfY0tTGG2OM8rRoPaeIj5ZHzJxszElN\n",
       "VM8K8JS5WOfv8mzRnQAKoEhmt8gyPM4lU9SmBK1MCQBnW4KONT86v1hZ1PbwSXPw4JWussVjtH9Y\n",
       "NCoiL9UoH/6PSu8jFrfY2t36erQHXLIEakMi1SydmzB31h3GGXFDFNPaK8Rme9B79Ixrd0WN+1ij\n",
       "NRQ/doRmuFLBkHSTOm5GruG+pFjFdAmorG4IXH1Qua6ASniclfFtDYt+oUjKipPrCQB7QBQ2lrgP\n",
       "fFzm+9XWUtcqJ3/5vDLDpJ79XHZk3u8nGZ42qlj1+ydtbxysCezrydp6ugmipNJ7WBPB5tydY0jP\n",
       "HaVNzs3QzeE4ZpTbI+ZbnSFPbVOw9vsfnVvqWnirPyCNGD08IlqtYkh2hjZ5dErEQzoNm+6ykyOt\n",
       "Lt5/PQEuSRRKo22VkydK+vvS1XEKlhCJAnsqvcVvH7f/ZU2R67eXbMEGAMiIV5oWZWiWvz5Fv2xG\n",
       "sjqNJQRvn3Rs2lji/lNP19VjAQDgD7FHhujZB9OGqYxRkZxixgRDVlqS6uEOFaJUVu0rPFzctrnF\n",
       "JqijImVp8dEKVWyUXDk92zAuMZ6bFwpBU1HrOw6AdhQgUooChb0+ItMbWJitSo5Ws3IAOGEOtL53\n",
       "0vHZih9sC4vtofZ7Qu6523V/fmGcds1TY3V36pUsBwAbSlxnVh2xLfAD/IAIMDf7XYIkNmXfpp2l\n",
       "18rkAJAy9HKFaIr/qULkeQQKy9zf1JgDB2uaeFNGijo5QsUyacNUUTOnGO42xSnv4oOwpDi1zYkc\n",
       "efUc3I5Gk6PhyTuVKaOGyLUAYPGIoY9Pu/atL/L92+4q9wbflRJ2Trpm/jPjdBtfnqB/dIThcl8A\n",
       "KG7hbRuKnb8qsQsVvVlTrwQAQMUlf3kwJI24Z4JhPMtcfng5GcH49GsrxJpGvvHIaeem2ma+KSjQ\n",
       "lIwUdYyCY8j4dE1KzijNnIP2llF2wcXNnsoapw9XxsgYAl6k+KzUXbi2yP3KR2ecf6z3BFsBICdW\n",
       "nvnIaG3eHybqX7vbpEqUMT+9OL4Qpe8VON7dXuFd39v19FoAABRVePbGGuXTszO0P7tu6lghUonE\n",
       "llRdrhArLvmKdh9u29jcFiRRkfLUxBiFNiqSU9icoZQHo5mYBI1MBgBH6wMNb+U7Pnw337H4gi1Y\n",
       "ciWs+uks3Z9fztUvfzxTm9Ne8XXkvQLHNytOOZeiD4e0PgkAIAYCYknKUNUDSXEKzdWNpnil7r4p\n",
       "xqkjTarZMtk/K8TQ6Qve78qqvXurGwIJqcOUKfUWHsm8KGvxSP68YudXq4pcj39X49uOK2X142O0\n",
       "Tz5/u/7TVybqH0rSya6ZBwD21/gubbrgWdDgEOx9WUhfBaC2ibcEBYm7a7x+ukrBMNcEZggyR0TE\n",
       "T8zUPjikQ4VosQZbTpS4vqizBKvqmvjsqnpfzaZyx9JPiz1/bfGKdgD45XB1zoIMzYbfTdS/NClB\n",
       "Gct0USiY3YL/g0LHy/uq/Ef6uo5+n0R/vyhp17Klpge763f8rMu6YU/zrn2nml+2WtH+Z+5IAAFc\n",
       "2bUTdTDOSNa9+cQY7YLsOIXhevEkCvzph7a8laecz/Un/z4/Ae04XeL3UQb57IwU9ZDr9UuKVajv\n",
       "nxp1+1UVIo/LjztZkKH59fO3G/JemqCfmaCRqbqbd90ZZ8FfjtkfAyD0J/9+C2h1hDwsSxvGjNDc\n",
       "b4zk5NfrSwiQblLHzZhg+Jf4aPlUwpDqkQqa9nimbt1/TDH8OitGMaQnj+RJS6B1fbF7SY1TqO5v\n",
       "/v0WAADl1f7zokgS7s7VT2DZ7pegUjBM7mjtiDZbcN4j0YrHH0rXpCtY0qPX0cVL0rv5jv/ZXend\n",
       "0u/EESYBAFBU4T4Qa5TflZOhTe7pmKpaP8kCVUVw1+yhXfJWvn1P3hnXi33JsTN6PnP3hHZ8Z3/h\n",
       "aLHzmkNPuPj7Bc/F/Q38CwjTpSwQXgE4Vmwry9tpfq/ZFgqFMy4AVDtCvi8rvMvOmv0N4YwbVgEA\n",
       "sPM72/KVnzfspmH7HQGCRLG2yL1+z8XwvPcdCbsAANh+xPzstgMtxeGKt+6MK3/tacfvwhWvIwMi\n",
       "oKEBtm0H7W+UVfkc/Y1V0BhoPlDr/w1w/eu1vjIgAgDg22OtX6/eYfnEz/focrZTHAFR+PSs56/7\n",
       "q32nwpjazxgwAQCwcU/T62t3WL7r6/jVRa6/byp1rei+Z98ZUAEAhEPHPc8fKnTU9nbgtnOe8h0l\n",
       "9hcGIqmODLQAHCy2Xti6v/XNRivf43f4fFvIteu854+VHnR7q9tfBlwAAGz+pnndB9vM26UebAe8\n",
       "SLHujPOTPVW+rwY+sxskAAC2HrA8t2Vvc7ffP1r9o+vwR2dcr92InIAbKKC1FZ5tB1tf+/G8p8sv\n",
       "N/9Q5zd/XR34LYCwV5JdccMEAMDBk45DH243r/X4xGvqxFa/GNpS7n6rwOwNWwHVE26oAADYurf1\n",
       "zx/utOzt+DMKYM0p17YtZZ5VNzqfsB2HewG1WXE8PoZ7gOclbTIvynZf9JV+fqZtfgs/8F/Nu5rB\n",
       "EIBmJ+8QRMmpU7EzGRsf2FzuePqYRbzh/zE26EwdrT10f6r6o8HOYzCJB9Dpff8tbnGLG8L/A/WE\n",
       "roTBs2RqAAAAAElFTkSuQmCC'\n",
       "     style='height:25px; border-radius:12px; display: inline-block; float: left; vertical-align: middle'></img>\n",
       "\n",
       "\n",
       "  <img src='data:image/png;base64,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'\n",
       "       style='height:15px; border-radius:12px; display: inline-block; float: left'></img>\n",
       "  \n",
       "\n",
       "\n",
       "\n",
       "\n",
       "</div>\n"
      ]
     },
     "metadata": {},
     "output_type": "display_data"
    },
    {
     "data": {
      "application/vnd.jupyter.widget-view+json": {
       "model_id": "b95073e471c444f896c2aa9678d899eb",
       "version_major": 2,
       "version_minor": 0
      },
      "text/plain": [
       "BokehModel(combine_events=True, render_bundle={'docs_json': {'8a448fc6-20be-40e5-ab95-9510a5c89474': {'version…"
      ]
     },
     "execution_count": 137,
     "metadata": {},
     "output_type": "execute_result"
    }
   ],
   "source": [
    "import holoviews as hv\n",
    "import panel as pn\n",
    "import numpy as np\n",
    "from bokeh.models import HoverTool\n",
    "\n",
    "\n",
    "\n",
    "hv.extension('bokeh')\n",
    "\n",
    "# Assuming filtered_stream is the Stream object returned from highpass_ft_data\n",
    "filtered_stream = highpass_ft_data(st)\n",
    "tr_filt = filtered_stream.traces[0].copy()\n",
    "tr_times_filt = tr_filt.times()\n",
    "tr_data_filt = tr_filt.data\n",
    "\n",
    "# Create a time array (tr_times) with the same length as the filtered_data\n",
    "sampling_rate = tr_filt.stats.sampling_rate\n",
    "\n",
    "# Create the time array corresponding to filtered data\n",
    "tr_times_filt = np.linspace(0, len(tr_data_filt) / sampling_rate, num=len(tr_data_filt))\n",
    "\n",
    "# Map colormap names to colors\n",
    "colormap_options = {\n",
    "    'seismic': 'blue',\n",
    "    'gray': 'gray',\n",
    "    'bwr': 'red',\n",
    "}\n",
    "\n",
    "# Define arrival time for the event marker\n",
    "arrival = tr_times_filt[len(tr_times_filt) // 2]  # Example arrival time (for demonstration purposes)\n",
    "\n",
    "# Create an empty stream to capture Tap events\n",
    "tap_stream = hv.streams.Tap(source=None, x=0)\n",
    "\n",
    "def plot_trace(tr_times_filt, tr_data_filt, cmap='seismic', time_zoom=0, amplitude_zoom=0):\n",
    "    # Get color from colormap options\n",
    "    color = colormap_options[cmap]\n",
    "\n",
    "    # Calculate time bounds based on zoom percentage\n",
    "    zoom_factor = 1 - time_zoom / 100\n",
    "    time_range = len(tr_times_filt)\n",
    "    time_min_idx = int((1 - zoom_factor) * time_range / 2)\n",
    "    time_max_idx = int((1 + zoom_factor) * time_range / 2)\n",
    "\n",
    "    # Ensure indices are within valid bounds\n",
    "    time_min_idx = max(0, time_min_idx)\n",
    "    time_max_idx = min(time_range - 1, time_max_idx)\n",
    "\n",
    "    # Slice time and data arrays for the zoom range\n",
    "    zoomed_times = tr_times_filt[time_min_idx:time_max_idx]\n",
    "    zoomed_data = tr_data_filt[time_min_idx:time_max_idx]\n",
    "\n",
    "    # Calculate amplitude bounds based on zoom percentage\n",
    "    amplitude_range = np.max(np.abs(tr_data_filt))\n",
    "    amplitude_min = -amplitude_range * (1 - amplitude_zoom / 100)\n",
    "    amplitude_max = amplitude_range * (1 - amplitude_zoom / 100)\n",
    "\n",
    "    # Create a holoviews plot of the seismic trace\n",
    "    hv_trace = hv.Curve((zoomed_times, zoomed_data), 'Time (s)', 'Amplitude').opts(\n",
    "        width=900, height=400, title=\"Seismic Signal in the Time Domain\", color=color, tools=['hover'],\n",
    "        ylim=(amplitude_min, amplitude_max)\n",
    "    )\n",
    "\n",
    "    # Add a vertical red line at the arrival time (if within current zoom)\n",
    "    if arrival >= zoomed_times[0] and arrival <= zoomed_times[-1]:\n",
    "        hv_arrival_line = hv.VLine(arrival).opts(color='red', line_width=2, line_dash='solid')\n",
    "        # Add a dummy curve to provide a legend label for the arrival time\n",
    "        hv_arrival_legend = hv.Curve([(arrival, 0), (arrival, 1e-10)], label='Rel. Arrival').opts(color='red', line_width=2)\n",
    "        hv_plot = (hv_trace * hv_arrival_line * hv_arrival_legend).opts(legend_position='top_right')\n",
    "    else:\n",
    "        hv_plot = hv_trace\n",
    "\n",
    "    # Set the tap stream source\n",
    "    tap_stream.source = hv_trace\n",
    "\n",
    "    return hv_plot\n",
    "\n",
    "# Function to display event details on click\n",
    "def show_event_details(x):\n",
    "    if x is None:\n",
    "        return \"Click on the plot to see event details\"\n",
    "    else:\n",
    "        time_idx = (np.abs(tr_times_filt - x)).argmin()  # Find the closest index to the clicked time\n",
    "        time = tr_times_filt[time_idx]\n",
    "        amplitude = tr_data_filt[time_idx]\n",
    "        return f\"Relative Time: {time:.2f} s, Amplitude: {amplitude:.2f}\"\n",
    "\n",
    "# Interactive widgets\n",
    "cmap_select = pn.widgets.Select(name='Colormap', options=list(colormap_options.keys()))\n",
    "time_zoom_slider = pn.widgets.FloatSlider(name='Time Zoom (%)', start=0, end=100, value=0)\n",
    "amplitude_zoom_slider = pn.widgets.FloatSlider(name='Amplitude Zoom (%)', start=0, end=100, value=0)\n",
    "\n",
    "# Bind the plot_trace function to panel layout\n",
    "layout_trace = pn.bind(plot_trace, tr_times_filt=tr_times_filt, tr_data_filt=tr_data_filt,\n",
    "                       cmap=cmap_select, time_zoom=time_zoom_slider, amplitude_zoom=amplitude_zoom_slider)\n",
    "\n",
    "# Create a panel that shows event details when clicking on the plot\n",
    "event_details_pane = pn.pane.Str(\"Click on the plot to see event details\", width=400)\n",
    "\n",
    "# Update event details on click\n",
    "def update_event_details(x):\n",
    "    event_details_pane.object = show_event_details(x)\n",
    "\n",
    "tap_stream.param.watch(lambda event: update_event_details(event.new), 'x')\n",
    "\n",
    "# Create a panel layout\n",
    "panel_layout = pn.Column(cmap_select, pn.Row(time_zoom_slider, amplitude_zoom_slider), layout_trace, event_details_pane)\n",
    "\n",
    "# Display the layout\n",
    "panel_layout.servable()  # Use .servable() if you're running in a Jupyter Notebook or Panel server\n"
=======
    "# Cluster analysis on high-pass filtered spectrogram - Mars prediction"
>>>>>>> c11dbff8c0c4f7b3c31db8d9542a29286f644c51
   ]
  },
  {
   "cell_type": "markdown",
   "metadata": {},
   "source": [
<<<<<<< HEAD
    "# Steven pls explain your model \n"
=======
    "This method was used in the case of the mars data, due to the fact that high-pass filter denoising was not sufficient for the model to act on clear signals. Instead, we denoise and then find clusters of high power readings, and mark clusters instead on the spectrogram. We then take the highest power cluster and mark that as a prediction. A next step is to extend to generate predictions for multiple seismic events for one day. \n",
    "\n",
    "The below is the result on the training data, the model is able to accurately detect the high energy cluster corresponding to seismic activity, and return a good estimate for the time.\n",
    "\n",
    "Link to Drive: [results of train](https://drive.google.com/drive/folders/1nr23mL8TYLy2tvcLpVyZQJw48QrHRmQb?usp=sharing) | [results of test](https://drive.google.com/drive/folders/1ouqknMvJt8ZC01OhY_b5HUFUXzLUoR5B?usp=sharing)\n",
    "\n",
    "[Link to colab](https://drive.google.com/file/d/197LfTrV9KQMn55Lx73zpBBLsojpDpsDO/view?usp=sharing)"
>>>>>>> c11dbff8c0c4f7b3c31db8d9542a29286f644c51
   ]
  },
  {
   "cell_type": "markdown",
   "metadata": {},
   "source": [
    "<p>This is from S12 grade A folder </p>\n",
    "<img src = \"./img_mars/mars1.png\" width = \"50%\"/>\n",
    "  <figcaption>Fig.1 - xa.s12.00.mhz.1969-12-16HR00_evid00006</figcaption>\n",
    "<img src = \"./img_mars/mars2.png\"  width = \"50%\"/>\n",
    "  <figcaption>Fig.2 -xa.s12.00.mhz.1970-03-14HR00_evid00018</figcaption>\n",
    "<img src = \"./img_mars/mars3.png\"  width = \"50%\"/>\n",
    "  <figcaption>Fig.3 - xa.s12.00.mhz.1970-03-30HR00_evid00020</figcaption>\n",
    "  <img src = \"./img_mars/mars4.png\"  width = \"50%\"/>\n",
    "  <figcaption>Fig.3 - xa.s12.00.mhz.1970-03-30HR00_evid00020</figcaption>"
   ]
<<<<<<< HEAD
  },
  {
   "cell_type": "markdown",
   "metadata": {},
   "source": [
    "# We also trained the RNN-LSTM model on MARS Data"
   ]
  },
  {
   "cell_type": "markdown",
   "metadata": {},
   "source": [
    "Here is the plot of ```closest_interval``` against ```predicted_time``` using Python and Matplotlib. \n",
    "For all the .csv files & data please visit our repo + drive"
   ]
  },
  {
   "cell_type": "code",
   "execution_count": 138,
   "metadata": {},
   "outputs": [
    {
     "data": {
      "image/png": "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",
      "text/plain": [
       "<Figure size 1200x800 with 2 Axes>"
      ]
     },
     "metadata": {},
     "output_type": "display_data"
    }
   ],
   "source": [
    "import pandas as pd\n",
    "import matplotlib.pyplot as plt\n",
    "import seaborn as sns\n",
    "\n",
    "# Load the Mars CSV file (adjust the file path if needed)\n",
    "file_path_mars = 'mars_test'  # Add '.csv' if necessary\n",
    "mars_data = pd.read_csv(file_path_mars)\n",
    "\n",
    "# Set up the seaborn style for better aesthetics\n",
    "sns.set(style='whitegrid')\n",
    "\n",
    "# Plotting closest_interval against predicted_time for Mars data\n",
    "plt.figure(figsize=(12, 8))\n",
    "scatter = plt.scatter(mars_data['predicted_time'], mars_data['closest_interval'], \n",
    "                      c=mars_data['closest_interval'], cmap='plasma', s=100, alpha=0.7, edgecolor='k')\n",
    "\n",
    "# Adding color bar\n",
    "cbar = plt.colorbar(scatter)\n",
    "cbar.set_label('Closest Interval')\n",
    "\n",
    "# Titles and labels\n",
    "plt.title('Mars Seismology: Closest Interval vs Predicted Time', fontsize=16)\n",
    "plt.xlabel('Predicted Time', fontsize=14)\n",
    "plt.ylabel('Closest Interval', fontsize=14)\n",
    "\n",
    "# Show plot\n",
    "plt.tight_layout()\n",
    "plt.show()\n"
   ]
  },
  {
   "cell_type": "markdown",
   "metadata": {},
   "source": [
    "# That's the end of our demo! For all of the models and plots, again, please visit our github + google drive!\n",
    "<center><p>Thank you so much for your attention!</p>\n",
    "<img src = \"https://a.pinatafarm.com/960x640/00a5009d4e/james-webb-space-telescope.jpeg\" width = \"50%\" /></center>"
   ]
  },
  {
   "cell_type": "markdown",
   "metadata": {},
   "source": []
=======
>>>>>>> c11dbff8c0c4f7b3c31db8d9542a29286f644c51
  }
 ],
 "metadata": {
  "kernelspec": {
   "display_name": "Python 3.10.7 64-bit",
   "language": "python",
   "name": "python3"
  },
  "language_info": {
   "codemirror_mode": {
    "name": "ipython",
    "version": 3
   },
   "file_extension": ".py",
   "mimetype": "text/x-python",
   "name": "python",
   "nbconvert_exporter": "python",
   "pygments_lexer": "ipython3",
   "version": "3.10.7"
  },
  "orig_nbformat": 4,
  "vscode": {
   "interpreter": {
    "hash": "b0fa6594d8f4cbf19f97940f81e996739fb7646882a419484c72d19e05852a7e"
   }
  }
 },
 "nbformat": 4,
 "nbformat_minor": 2
}
